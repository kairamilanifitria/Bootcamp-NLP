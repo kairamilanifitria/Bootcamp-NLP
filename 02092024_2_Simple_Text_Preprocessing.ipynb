{
  "nbformat": 4,
  "nbformat_minor": 0,
  "metadata": {
    "colab": {
      "provenance": [],
      "include_colab_link": true
    },
    "kernelspec": {
      "name": "python3",
      "display_name": "Python 3"
    },
    "language_info": {
      "name": "python"
    }
  },
  "cells": [
    {
      "cell_type": "markdown",
      "metadata": {
        "id": "view-in-github",
        "colab_type": "text"
      },
      "source": [
        "<a href=\"https://colab.research.google.com/github/kairamilanifitria/Bootcamp-NLP/blob/main/02092024_2_Simple_Text_Preprocessing.ipynb\" target=\"_parent\"><img src=\"https://colab.research.google.com/assets/colab-badge.svg\" alt=\"Open In Colab\"/></a>"
      ]
    },
    {
      "cell_type": "markdown",
      "source": [
        "# Load Data"
      ],
      "metadata": {
        "id": "fbLyHyp9pjkr"
      }
    },
    {
      "cell_type": "code",
      "source": [
        "import pandas as pd"
      ],
      "metadata": {
        "id": "Ke16DRL-plt-"
      },
      "execution_count": 2,
      "outputs": []
    },
    {
      "cell_type": "code",
      "source": [
        "df = pd.read_csv('/content/drive/MyDrive/Bootcamp AI/Dataset/Copy of data_news_retrieved.csv')\n",
        "display(df.info())\n",
        "display(df.head())"
      ],
      "metadata": {
        "colab": {
          "base_uri": "https://localhost:8080/",
          "height": 553
        },
        "id": "fc_LVlF8pnNC",
        "outputId": "8f428d56-d325-4437-d7e3-6b4761a72231"
      },
      "execution_count": 3,
      "outputs": [
        {
          "output_type": "stream",
          "name": "stdout",
          "text": [
            "<class 'pandas.core.frame.DataFrame'>\n",
            "RangeIndex: 45 entries, 0 to 44\n",
            "Data columns (total 7 columns):\n",
            " #   Column      Non-Null Count  Dtype \n",
            "---  ------      --------------  ----- \n",
            " 0   judul       45 non-null     object\n",
            " 1   url         45 non-null     object\n",
            " 2   kategori    45 non-null     object\n",
            " 3   tanggal     45 non-null     object\n",
            " 4   summary     45 non-null     object\n",
            " 5   isi_berita  45 non-null     object\n",
            " 6   penulis     45 non-null     object\n",
            "dtypes: object(7)\n",
            "memory usage: 2.6+ KB\n"
          ]
        },
        {
          "output_type": "display_data",
          "data": {
            "text/plain": [
              "None"
            ]
          },
          "metadata": {}
        },
        {
          "output_type": "display_data",
          "data": {
            "text/plain": [
              "                                               judul  \\\n",
              "0  120 Contoh Kalimat Aktif Intransitif Berdasark...   \n",
              "1  Ada Sekolah di Solo Gelar Wisuda, Gibran: Rapo...   \n",
              "2  Dinas Pendidikan Akui Sejumlah Sekolah di Solo...   \n",
              "3  Fluktuasi Adalah: Pengertian, Jenis, dan Cara ...   \n",
              "4  Kata P2G soal Wisuda PAUD-SMA: Tak Berkorelasi...   \n",
              "\n",
              "                                                 url      kategori  \\\n",
              "0  https://www.detik.com/sulsel/berita/d-6776696/...   detikSulsel   \n",
              "1  https://www.detik.com/jateng/berita/d-6777283/...   detikJateng   \n",
              "2  https://www.detik.com/jateng/berita/d-6777175/...   detikJateng   \n",
              "3  https://finance.detik.com/berita-ekonomi-bisni...  detikFinance   \n",
              "4  https://www.detik.com/edu/sekolah/d-6777087/ka...      detikEdu   \n",
              "\n",
              "                        tanggal  \\\n",
              "0  Jumat, 16 Jun 2023 23:00 WIB   \n",
              "1  Jumat, 16 Jun 2023 21:57 WIB   \n",
              "2  Jumat, 16 Jun 2023 20:44 WIB   \n",
              "3  Jumat, 16 Jun 2023 20:35 WIB   \n",
              "4  Jumat, 16 Jun 2023 20:15 WIB   \n",
              "\n",
              "                                             summary  \\\n",
              "0  Kalimat aktif intransitif tidak membutuhkan ob...   \n",
              "1  Fenomena sekolah menggelar acara wisuda juga m...   \n",
              "2  Dinas Pendidikan Kota Solo mengaku adanya seju...   \n",
              "3  Fluktuasi adalah suatu hal yang tidak stabil s...   \n",
              "4  Kolom Instagram Mendikbud ramai keluhan ortu s...   \n",
              "\n",
              "                                          isi_berita              penulis  \n",
              "0  Kalimat aktif intransitif merupakan kalimat ak...  Rasmilawanti Rustam  \n",
              "1  Maraknya sekolah jenjang TK-SMA yang menggelar...        Tara Wahyu NV  \n",
              "2  Dinas Pendidikan Kota Solo mengaku adanya seju...        Tara Wahyu NV  \n",
              "3  Fluktuasi merupakan kata yang umum digunakan u...    ilham fikriansyah  \n",
              "4  Muncul keluhan dari warganet soal wisuda tingk...         Novia Aisyah  "
            ],
            "text/html": [
              "\n",
              "  <div id=\"df-df333413-d38d-4ebc-a03c-b0b43635003a\" class=\"colab-df-container\">\n",
              "    <div>\n",
              "<style scoped>\n",
              "    .dataframe tbody tr th:only-of-type {\n",
              "        vertical-align: middle;\n",
              "    }\n",
              "\n",
              "    .dataframe tbody tr th {\n",
              "        vertical-align: top;\n",
              "    }\n",
              "\n",
              "    .dataframe thead th {\n",
              "        text-align: right;\n",
              "    }\n",
              "</style>\n",
              "<table border=\"1\" class=\"dataframe\">\n",
              "  <thead>\n",
              "    <tr style=\"text-align: right;\">\n",
              "      <th></th>\n",
              "      <th>judul</th>\n",
              "      <th>url</th>\n",
              "      <th>kategori</th>\n",
              "      <th>tanggal</th>\n",
              "      <th>summary</th>\n",
              "      <th>isi_berita</th>\n",
              "      <th>penulis</th>\n",
              "    </tr>\n",
              "  </thead>\n",
              "  <tbody>\n",
              "    <tr>\n",
              "      <th>0</th>\n",
              "      <td>120 Contoh Kalimat Aktif Intransitif Berdasark...</td>\n",
              "      <td>https://www.detik.com/sulsel/berita/d-6776696/...</td>\n",
              "      <td>detikSulsel</td>\n",
              "      <td>Jumat, 16 Jun 2023 23:00 WIB</td>\n",
              "      <td>Kalimat aktif intransitif tidak membutuhkan ob...</td>\n",
              "      <td>Kalimat aktif intransitif merupakan kalimat ak...</td>\n",
              "      <td>Rasmilawanti Rustam</td>\n",
              "    </tr>\n",
              "    <tr>\n",
              "      <th>1</th>\n",
              "      <td>Ada Sekolah di Solo Gelar Wisuda, Gibran: Rapo...</td>\n",
              "      <td>https://www.detik.com/jateng/berita/d-6777283/...</td>\n",
              "      <td>detikJateng</td>\n",
              "      <td>Jumat, 16 Jun 2023 21:57 WIB</td>\n",
              "      <td>Fenomena sekolah menggelar acara wisuda juga m...</td>\n",
              "      <td>Maraknya sekolah jenjang TK-SMA yang menggelar...</td>\n",
              "      <td>Tara Wahyu NV</td>\n",
              "    </tr>\n",
              "    <tr>\n",
              "      <th>2</th>\n",
              "      <td>Dinas Pendidikan Akui Sejumlah Sekolah di Solo...</td>\n",
              "      <td>https://www.detik.com/jateng/berita/d-6777175/...</td>\n",
              "      <td>detikJateng</td>\n",
              "      <td>Jumat, 16 Jun 2023 20:44 WIB</td>\n",
              "      <td>Dinas Pendidikan Kota Solo mengaku adanya seju...</td>\n",
              "      <td>Dinas Pendidikan Kota Solo mengaku adanya seju...</td>\n",
              "      <td>Tara Wahyu NV</td>\n",
              "    </tr>\n",
              "    <tr>\n",
              "      <th>3</th>\n",
              "      <td>Fluktuasi Adalah: Pengertian, Jenis, dan Cara ...</td>\n",
              "      <td>https://finance.detik.com/berita-ekonomi-bisni...</td>\n",
              "      <td>detikFinance</td>\n",
              "      <td>Jumat, 16 Jun 2023 20:35 WIB</td>\n",
              "      <td>Fluktuasi adalah suatu hal yang tidak stabil s...</td>\n",
              "      <td>Fluktuasi merupakan kata yang umum digunakan u...</td>\n",
              "      <td>ilham fikriansyah</td>\n",
              "    </tr>\n",
              "    <tr>\n",
              "      <th>4</th>\n",
              "      <td>Kata P2G soal Wisuda PAUD-SMA: Tak Berkorelasi...</td>\n",
              "      <td>https://www.detik.com/edu/sekolah/d-6777087/ka...</td>\n",
              "      <td>detikEdu</td>\n",
              "      <td>Jumat, 16 Jun 2023 20:15 WIB</td>\n",
              "      <td>Kolom Instagram Mendikbud ramai keluhan ortu s...</td>\n",
              "      <td>Muncul keluhan dari warganet soal wisuda tingk...</td>\n",
              "      <td>Novia Aisyah</td>\n",
              "    </tr>\n",
              "  </tbody>\n",
              "</table>\n",
              "</div>\n",
              "    <div class=\"colab-df-buttons\">\n",
              "\n",
              "  <div class=\"colab-df-container\">\n",
              "    <button class=\"colab-df-convert\" onclick=\"convertToInteractive('df-df333413-d38d-4ebc-a03c-b0b43635003a')\"\n",
              "            title=\"Convert this dataframe to an interactive table.\"\n",
              "            style=\"display:none;\">\n",
              "\n",
              "  <svg xmlns=\"http://www.w3.org/2000/svg\" height=\"24px\" viewBox=\"0 -960 960 960\">\n",
              "    <path d=\"M120-120v-720h720v720H120Zm60-500h600v-160H180v160Zm220 220h160v-160H400v160Zm0 220h160v-160H400v160ZM180-400h160v-160H180v160Zm440 0h160v-160H620v160ZM180-180h160v-160H180v160Zm440 0h160v-160H620v160Z\"/>\n",
              "  </svg>\n",
              "    </button>\n",
              "\n",
              "  <style>\n",
              "    .colab-df-container {\n",
              "      display:flex;\n",
              "      gap: 12px;\n",
              "    }\n",
              "\n",
              "    .colab-df-convert {\n",
              "      background-color: #E8F0FE;\n",
              "      border: none;\n",
              "      border-radius: 50%;\n",
              "      cursor: pointer;\n",
              "      display: none;\n",
              "      fill: #1967D2;\n",
              "      height: 32px;\n",
              "      padding: 0 0 0 0;\n",
              "      width: 32px;\n",
              "    }\n",
              "\n",
              "    .colab-df-convert:hover {\n",
              "      background-color: #E2EBFA;\n",
              "      box-shadow: 0px 1px 2px rgba(60, 64, 67, 0.3), 0px 1px 3px 1px rgba(60, 64, 67, 0.15);\n",
              "      fill: #174EA6;\n",
              "    }\n",
              "\n",
              "    .colab-df-buttons div {\n",
              "      margin-bottom: 4px;\n",
              "    }\n",
              "\n",
              "    [theme=dark] .colab-df-convert {\n",
              "      background-color: #3B4455;\n",
              "      fill: #D2E3FC;\n",
              "    }\n",
              "\n",
              "    [theme=dark] .colab-df-convert:hover {\n",
              "      background-color: #434B5C;\n",
              "      box-shadow: 0px 1px 3px 1px rgba(0, 0, 0, 0.15);\n",
              "      filter: drop-shadow(0px 1px 2px rgba(0, 0, 0, 0.3));\n",
              "      fill: #FFFFFF;\n",
              "    }\n",
              "  </style>\n",
              "\n",
              "    <script>\n",
              "      const buttonEl =\n",
              "        document.querySelector('#df-df333413-d38d-4ebc-a03c-b0b43635003a button.colab-df-convert');\n",
              "      buttonEl.style.display =\n",
              "        google.colab.kernel.accessAllowed ? 'block' : 'none';\n",
              "\n",
              "      async function convertToInteractive(key) {\n",
              "        const element = document.querySelector('#df-df333413-d38d-4ebc-a03c-b0b43635003a');\n",
              "        const dataTable =\n",
              "          await google.colab.kernel.invokeFunction('convertToInteractive',\n",
              "                                                    [key], {});\n",
              "        if (!dataTable) return;\n",
              "\n",
              "        const docLinkHtml = 'Like what you see? Visit the ' +\n",
              "          '<a target=\"_blank\" href=https://colab.research.google.com/notebooks/data_table.ipynb>data table notebook</a>'\n",
              "          + ' to learn more about interactive tables.';\n",
              "        element.innerHTML = '';\n",
              "        dataTable['output_type'] = 'display_data';\n",
              "        await google.colab.output.renderOutput(dataTable, element);\n",
              "        const docLink = document.createElement('div');\n",
              "        docLink.innerHTML = docLinkHtml;\n",
              "        element.appendChild(docLink);\n",
              "      }\n",
              "    </script>\n",
              "  </div>\n",
              "\n",
              "\n",
              "<div id=\"df-d4691819-dd89-44b2-858f-7d557f17c1fe\">\n",
              "  <button class=\"colab-df-quickchart\" onclick=\"quickchart('df-d4691819-dd89-44b2-858f-7d557f17c1fe')\"\n",
              "            title=\"Suggest charts\"\n",
              "            style=\"display:none;\">\n",
              "\n",
              "<svg xmlns=\"http://www.w3.org/2000/svg\" height=\"24px\"viewBox=\"0 0 24 24\"\n",
              "     width=\"24px\">\n",
              "    <g>\n",
              "        <path d=\"M19 3H5c-1.1 0-2 .9-2 2v14c0 1.1.9 2 2 2h14c1.1 0 2-.9 2-2V5c0-1.1-.9-2-2-2zM9 17H7v-7h2v7zm4 0h-2V7h2v10zm4 0h-2v-4h2v4z\"/>\n",
              "    </g>\n",
              "</svg>\n",
              "  </button>\n",
              "\n",
              "<style>\n",
              "  .colab-df-quickchart {\n",
              "      --bg-color: #E8F0FE;\n",
              "      --fill-color: #1967D2;\n",
              "      --hover-bg-color: #E2EBFA;\n",
              "      --hover-fill-color: #174EA6;\n",
              "      --disabled-fill-color: #AAA;\n",
              "      --disabled-bg-color: #DDD;\n",
              "  }\n",
              "\n",
              "  [theme=dark] .colab-df-quickchart {\n",
              "      --bg-color: #3B4455;\n",
              "      --fill-color: #D2E3FC;\n",
              "      --hover-bg-color: #434B5C;\n",
              "      --hover-fill-color: #FFFFFF;\n",
              "      --disabled-bg-color: #3B4455;\n",
              "      --disabled-fill-color: #666;\n",
              "  }\n",
              "\n",
              "  .colab-df-quickchart {\n",
              "    background-color: var(--bg-color);\n",
              "    border: none;\n",
              "    border-radius: 50%;\n",
              "    cursor: pointer;\n",
              "    display: none;\n",
              "    fill: var(--fill-color);\n",
              "    height: 32px;\n",
              "    padding: 0;\n",
              "    width: 32px;\n",
              "  }\n",
              "\n",
              "  .colab-df-quickchart:hover {\n",
              "    background-color: var(--hover-bg-color);\n",
              "    box-shadow: 0 1px 2px rgba(60, 64, 67, 0.3), 0 1px 3px 1px rgba(60, 64, 67, 0.15);\n",
              "    fill: var(--button-hover-fill-color);\n",
              "  }\n",
              "\n",
              "  .colab-df-quickchart-complete:disabled,\n",
              "  .colab-df-quickchart-complete:disabled:hover {\n",
              "    background-color: var(--disabled-bg-color);\n",
              "    fill: var(--disabled-fill-color);\n",
              "    box-shadow: none;\n",
              "  }\n",
              "\n",
              "  .colab-df-spinner {\n",
              "    border: 2px solid var(--fill-color);\n",
              "    border-color: transparent;\n",
              "    border-bottom-color: var(--fill-color);\n",
              "    animation:\n",
              "      spin 1s steps(1) infinite;\n",
              "  }\n",
              "\n",
              "  @keyframes spin {\n",
              "    0% {\n",
              "      border-color: transparent;\n",
              "      border-bottom-color: var(--fill-color);\n",
              "      border-left-color: var(--fill-color);\n",
              "    }\n",
              "    20% {\n",
              "      border-color: transparent;\n",
              "      border-left-color: var(--fill-color);\n",
              "      border-top-color: var(--fill-color);\n",
              "    }\n",
              "    30% {\n",
              "      border-color: transparent;\n",
              "      border-left-color: var(--fill-color);\n",
              "      border-top-color: var(--fill-color);\n",
              "      border-right-color: var(--fill-color);\n",
              "    }\n",
              "    40% {\n",
              "      border-color: transparent;\n",
              "      border-right-color: var(--fill-color);\n",
              "      border-top-color: var(--fill-color);\n",
              "    }\n",
              "    60% {\n",
              "      border-color: transparent;\n",
              "      border-right-color: var(--fill-color);\n",
              "    }\n",
              "    80% {\n",
              "      border-color: transparent;\n",
              "      border-right-color: var(--fill-color);\n",
              "      border-bottom-color: var(--fill-color);\n",
              "    }\n",
              "    90% {\n",
              "      border-color: transparent;\n",
              "      border-bottom-color: var(--fill-color);\n",
              "    }\n",
              "  }\n",
              "</style>\n",
              "\n",
              "  <script>\n",
              "    async function quickchart(key) {\n",
              "      const quickchartButtonEl =\n",
              "        document.querySelector('#' + key + ' button');\n",
              "      quickchartButtonEl.disabled = true;  // To prevent multiple clicks.\n",
              "      quickchartButtonEl.classList.add('colab-df-spinner');\n",
              "      try {\n",
              "        const charts = await google.colab.kernel.invokeFunction(\n",
              "            'suggestCharts', [key], {});\n",
              "      } catch (error) {\n",
              "        console.error('Error during call to suggestCharts:', error);\n",
              "      }\n",
              "      quickchartButtonEl.classList.remove('colab-df-spinner');\n",
              "      quickchartButtonEl.classList.add('colab-df-quickchart-complete');\n",
              "    }\n",
              "    (() => {\n",
              "      let quickchartButtonEl =\n",
              "        document.querySelector('#df-d4691819-dd89-44b2-858f-7d557f17c1fe button');\n",
              "      quickchartButtonEl.style.display =\n",
              "        google.colab.kernel.accessAllowed ? 'block' : 'none';\n",
              "    })();\n",
              "  </script>\n",
              "</div>\n",
              "\n",
              "    </div>\n",
              "  </div>\n"
            ],
            "application/vnd.google.colaboratory.intrinsic+json": {
              "type": "dataframe",
              "summary": "{\n  \"name\": \"display(df\",\n  \"rows\": 5,\n  \"fields\": [\n    {\n      \"column\": \"judul\",\n      \"properties\": {\n        \"dtype\": \"string\",\n        \"num_unique_values\": 5,\n        \"samples\": [\n          \"Ada Sekolah di Solo Gelar Wisuda, Gibran: Rapopo, Sekali Seumur Hidup\",\n          \"Kata P2G soal Wisuda PAUD-SMA: Tak Berkorelasi dengan Kompetensi & Beban Finansial\",\n          \"Dinas Pendidikan Akui Sejumlah Sekolah di Solo Gelar Wisuda\"\n        ],\n        \"semantic_type\": \"\",\n        \"description\": \"\"\n      }\n    },\n    {\n      \"column\": \"url\",\n      \"properties\": {\n        \"dtype\": \"string\",\n        \"num_unique_values\": 5,\n        \"samples\": [\n          \"https://www.detik.com/jateng/berita/d-6777283/ada-sekolah-di-solo-gelar-wisuda-gibran-rapopo-sekali-seumur-hidup\",\n          \"https://www.detik.com/edu/sekolah/d-6777087/kata-p2g-soal-wisuda-paud-sma-tak-berkorelasi-dengan-kompetensi--beban-finansial\",\n          \"https://www.detik.com/jateng/berita/d-6777175/dinas-pendidikan-akui-sejumlah-sekolah-di-solo-gelar-wisuda\"\n        ],\n        \"semantic_type\": \"\",\n        \"description\": \"\"\n      }\n    },\n    {\n      \"column\": \"kategori\",\n      \"properties\": {\n        \"dtype\": \"string\",\n        \"num_unique_values\": 4,\n        \"samples\": [\n          \"detikJateng\",\n          \"detikEdu\",\n          \"detikSulsel\"\n        ],\n        \"semantic_type\": \"\",\n        \"description\": \"\"\n      }\n    },\n    {\n      \"column\": \"tanggal\",\n      \"properties\": {\n        \"dtype\": \"string\",\n        \"num_unique_values\": 5,\n        \"samples\": [\n          \"Jumat, 16 Jun 2023 21:57 WIB\",\n          \"Jumat, 16 Jun 2023 20:15 WIB\",\n          \"Jumat, 16 Jun 2023 20:44 WIB\"\n        ],\n        \"semantic_type\": \"\",\n        \"description\": \"\"\n      }\n    },\n    {\n      \"column\": \"summary\",\n      \"properties\": {\n        \"dtype\": \"string\",\n        \"num_unique_values\": 5,\n        \"samples\": [\n          \"Fenomena sekolah menggelar acara wisuda juga muncul di Solo. Gibran Rakabuming tidak akan melarang asal orang tua tak keberatan.\",\n          \"Kolom Instagram Mendikbud ramai keluhan ortu soal wisuda PAUD hingga SMA. Menurut Perhimpunan Pendidikan & Guru (P2G) seperti ini..\",\n          \"Dinas Pendidikan Kota Solo mengaku adanya sejumlah sekolah swasta yang menggelar wisuda layaknya mahasiswa. Berikut pernyataan Disdik.\"\n        ],\n        \"semantic_type\": \"\",\n        \"description\": \"\"\n      }\n    },\n    {\n      \"column\": \"isi_berita\",\n      \"properties\": {\n        \"dtype\": \"string\",\n        \"num_unique_values\": 5,\n        \"samples\": [\n          \"Maraknya sekolah jenjang TK-SMA yang menggelar wisuda mendapat sorotan dari masyarakat. Fenomena tersebut juga terjadi di Kota Solo. Sejumlah sekolah swasta menggelar wisuda saat kelulusan muridnya. Wali Kota Solo Gibran Rakabuming mengaku tidak mempermasalahkan hal tersebut asalkan orang tua tidak merasa keberatan. \\\"Rapopo (Tidak apa-apa) asalkan tidak keberatan dan tidak memberatkan orang tua,\\\" kata Gibran di Puro Mangkunegaran Solo, Jumat (16/6/2023). ADVERTISEMENT SCROLL TO RESUME CONTENT Meski tidak melarang, Gibran meminta bila ada wali murid yang keberatan dengan acara wisuda dengan mengenakan toga bisa melapor ke dirinya. \\\"Ngene wae (gini aja) ada orang tua yang keberatan nggak ? Kudu dikon membayar larang atau apa mengko lapurna aku (disuruh membayar mahal atau apa nanti laporkan aku),\\\" tuturnya. \\\"Asalkan tidak memberatkan orang tua dan anak-anak senang rapopo, itukan momen sekali seumur hidup, ya. Momen Itukan sekali seumur hidup,\\\" lanjut Gibran. Gibran memastikan bahwa sampai saat ini belum ada aduan dari orang tua terkait wisuda yang dilakukan di tingkat TK hingga SMP. Meskipun, ada beberapa sekolah swasta yang sudah menggelar acara wisuda bak mahasiswa lulus kuliah. \\\"Nggak ada laporan atau keluhan yang gimana-gimana,\\\" pungkasnya. Diberitakan sebelumnya, Dinas Pendidikan Kota Solo mengakui adanya sejumlah sekolah swasta yang menggelar wisuda layaknya mahasiswa. Meski begitu, tidak ada wali murid yang memprotes prosesi wisuda tersebut. Sekretaris Dinas Pendidikan Kota Solo, Abdul Haris mengatakan untuk sekolah negeri tidak ada gelaran wisuda dengan menggunakan toga layaknya mahasiswa. \\\"Kalau yang pakai toga, untuk yang negeri saya belum pernah melihat atau diberi laporan. (Swasta) cuma sedikit,\\\" katanya kepada detikJatang, Jumat (16/6/2023). Dirinya mengatakan untuk sekolah swasta yang menggelar prosesi wisuda dengan mengenakan toga terjadi di semua jenjang, mulai TK, SD hingga SMP. \\\"Untuk jenjang semua. Kami tidak pernah menerima laporan keberatan terkait kegiatan tersebut,\\\" ujarnya.\",\n          \"Muncul keluhan dari warganet soal wisuda tingkat PAUD hingga SMA. Sambatan ini bisa dilihat menyerbu kolom Instagram Menteri Pendidikan, Kebudayaan, Riset, dan Teknologi Nadiem Makarim beberapa waktu belakangan. Koordinator Nasional Perhimpunan Pendidikan dan Guru (P2G), Satriwan Salim mengatakan, tren wisuda untuk anak PAUD sampai SMA adalah hal yang relatif baru. Menurutnya, tren ini muncul sekitar 20 tahun terakhir. \\\"Kami sih melihatnya ini mulai menjadi tren 20-an tahun terakhir, 20-an terakhir. Khusus untuk tingkat PAUD-TK wisuda bagi mereka ini relatif lebih muda lagi seiring banyaknya pendirian PAUD-PAUD dan TK-TK di Indonesia,\\\" ujarnya melalui sambungan WhatsApp dengan detikEdu (16/6/2023). \\\"Nah, ini kira-kira 10 tahun terakhir fenomena banyaknya wisuda anak-anak di PAUD dan TK,\\\" lanjutnya. Namun, Satriwan menggarisbawahi, ada terlalu banyak kegiatan yang bersifat festival dan seremonial di sekolah-sekolah di Indonesia. \\\"Festival-seremonial ini justru tidak berkorelasi dengan pengembangan kompetensi siswa, tidak berkorelasi dengan peningkatan prestasi siswa, tidak ada tuh. Yang ada justru jadi beban secara finansial bagi orang tua, bagi anak,\\\" bebernya. Dia memaparkan, anak-anak akan merasa bahwa wisuda menjadi momen untuk menunjukkan kelas ekonomi karena ada yang diantarkan mobil pribadi, angkutan umum, maupun sepeda motor. \\\"Nah, ini kan menunjukan kelas sosial juga justru ajang untuk memamerkan kelas ekonomi mereka,\\\" kata dia. Satriwan menekankan, yang jadi keberatan orang tua perihal wisuda PAUD-SMA ini adalah pembiayaan. Maka, P2G merekomendasikan agar biayanya secara keseluruhan di-cover dana BOS. Pihak mereka pun menemukan adanya biaya wisuda sebesar Rp 500 ribu untuk level PAUD-TK. \\\"Bahkan SMP-SMA lebih tinggi lagi di atas 1 juta dan itu diatur atau dikelola oleh sekolah atau oleh guru, sehingga wisuda ini kan menjadi kewajiban secara akademiklah sebut, karena sekolah mewajibkan anak-anak wisuda, guru menjadi panitia, dan seterusnya,\\\" ujarnya. \\\"Oleh karena itu rasanya kalau dana BOS itu bisa meng-cover kegiatan wisuda, orang tua akan senang-senang saja karena yang jadi titik berat orang tua adalah pembiayaan wisuda,\\\" imbuhnya. Menurut Satriwan, perlu adanya pemilahan wisuda di berbagai jenjang pendidikan. \\\"Maksud saya begini, untuk PAUD, TK, SD, SMP sederajat ya termasuk madrasah ini sudah selayaknya untuk dilarang. Bagaimana cara melarangnya? Ya kami meminta kepada Kemendikbudristek dan Kementerian Agama untuk mengeluarkan imbauan agar untuk tingkat TK, SD, SMP ini tidak ada kegiatan wisuda,\\\" jelasnya. Kendati demikian, Satriwan menegaskan wisuda untuk SMA masih bisa dilakukan karena tidak semua murid akan melanjutkan ke perguruan tinggi. Oleh sebab itu, siswa SMA berhak ikut wisuda dengan catatan di-cover dana BOS. \\\"Khususnya lagi untuk PAUD, TK, SD, SMP karena bagi kami tidak ada manfaatnya sekaligus. Tapi kalau SMA masih ada karena secara psikologis ada anak yang lanjut kepada perguruan tinggi ada yang tidak,\\\" kata dia. Satriwan juga mengingatkan agar orang tua berani speak up jika diwajibkan oleh sekolah agar anaknya ikut wisuda. Maka, pihaknya turut mendorong dinas pendidikan daerah untuk memonitor. \\\"P2G mendesak jangan sampai ada sekolah yang menahan ijazah anak atau peserta didiknya karena anak tersebut tidak mengikuti kegiatan wisuda sekolahnya, baik untuk level SMA, SMK, SMP dan seterusnya,\\\" ucapnya. \\\"Kalau ada tindakan seperti ini, saya rasa ini sekolah layak untuk mendapatkan sanksi sesuai perundang-undangan yang berlaku,\\\" pungkasnya.\",\n          \"Dinas Pendidikan Kota Solo mengaku adanya sejumlah sekolah swasta yang menggelar wisuda layaknya mahasiswa. Meski begitu, tidak ada wali murid yang memprotes prosesi wisuda tersebut. Sekretaris Dinas Pendidikan Kota Solo, Abdul Haris mengatakan untuk sekolah negeri tidak ada gelaran wisuda dengan menggunakan toga layaknya mahasiswa. \\\"Kalau yang pakai toga, untuk yang negeri saya belum pernah melihat atau diberi laporan. (Swasta) cuma sedikit,\\\" katanya kepada detikJatang, Jumat (16/6/2023). ADVERTISEMENT SCROLL TO RESUME CONTENT Dirinya mengatakan untuk sekolah swasta yang menggelar prosesi wisuda dengan mengenakan toga terjadi di semua jenjang, mulai TK, SD hingga SMP. \\\"Untuk jenjang semua. Kami tidak pernah menerima laporan keberatan terkait kegiatan tersebut,\\\" ujarnya. Haris menyampaikan, untuk prosesi wisuda di sekolah negeri biasanya hanya memakai kebaya atau seragam OSIS. Meski begitu, Pemkot Solo tidak mengeluarkan aturan soal wisuda kelulusan. \\\"Kalau aturan tidak ada, larangan juga tidak ada. Kalau biasanya biasa saja, kalau biasanya di sekolah bahkan ada yang saya dengar di lapangan juga,\\\" ungkapnya. Meski begitu, Abdul menghimbau agar pihak sekolah agar mengadakan kelulusan secara sederhana dan tidak perlu mewah. \\\"Kamu juga menghimbau ke sekolah untuk sederhana atau hanya substansinya saja, penyerahan biar nggak begitu mewah ya upacara saja atau ada acara di sekolah di Aula,\\\" pungkasnya.\"\n        ],\n        \"semantic_type\": \"\",\n        \"description\": \"\"\n      }\n    },\n    {\n      \"column\": \"penulis\",\n      \"properties\": {\n        \"dtype\": \"string\",\n        \"num_unique_values\": 4,\n        \"samples\": [\n          \"Tara Wahyu NV\",\n          \"Novia Aisyah\",\n          \"Rasmilawanti Rustam\"\n        ],\n        \"semantic_type\": \"\",\n        \"description\": \"\"\n      }\n    }\n  ]\n}"
            }
          },
          "metadata": {}
        }
      ]
    },
    {
      "cell_type": "markdown",
      "source": [
        "# Text Cleaning"
      ],
      "metadata": {
        "id": "HEI6ZCeIpxOH"
      }
    },
    {
      "cell_type": "code",
      "source": [
        "data = df[df['kategori'] == 'detikEdu']['isi_berita'].tolist()"
      ],
      "metadata": {
        "id": "LZOt09TZ4-0r"
      },
      "execution_count": 4,
      "outputs": []
    },
    {
      "cell_type": "code",
      "source": [
        "!pip install nltk"
      ],
      "metadata": {
        "id": "McAIHp8c62Ri",
        "colab": {
          "base_uri": "https://localhost:8080/"
        },
        "outputId": "6e4d2754-9e63-4caf-e8df-b7c2ce217bc0"
      },
      "execution_count": 5,
      "outputs": [
        {
          "output_type": "stream",
          "name": "stdout",
          "text": [
            "Requirement already satisfied: nltk in /usr/local/lib/python3.10/dist-packages (3.8.1)\n",
            "Requirement already satisfied: click in /usr/local/lib/python3.10/dist-packages (from nltk) (8.1.7)\n",
            "Requirement already satisfied: joblib in /usr/local/lib/python3.10/dist-packages (from nltk) (1.4.2)\n",
            "Requirement already satisfied: regex>=2021.8.3 in /usr/local/lib/python3.10/dist-packages (from nltk) (2024.5.15)\n",
            "Requirement already satisfied: tqdm in /usr/local/lib/python3.10/dist-packages (from nltk) (4.66.5)\n"
          ]
        }
      ]
    },
    {
      "cell_type": "code",
      "source": [
        "import nltk\n",
        "nltk.download('stopwords')\n",
        "from nltk.corpus import stopwords\n",
        "\n",
        "def remove_stopwords(text):\n",
        "  # get stopwords dictionary\n",
        "  stop_words = set(stopwords.words('indonesian'))\n",
        "\n",
        "  # case folding\n",
        "  text_lowered = text.lower()\n",
        "\n",
        "  # remove stopwords\n",
        "  cleaned_text = ' '.join([word for word in text_lowered.split(' ') if word not in stop_words])\n",
        "  return cleaned_text"
      ],
      "metadata": {
        "id": "_tIFe95Z3ZZm",
        "colab": {
          "base_uri": "https://localhost:8080/"
        },
        "outputId": "56cb0421-290b-4ef3-d854-c741c766f398"
      },
      "execution_count": 6,
      "outputs": [
        {
          "output_type": "stream",
          "name": "stderr",
          "text": [
            "[nltk_data] Downloading package stopwords to /root/nltk_data...\n",
            "[nltk_data]   Unzipping corpora/stopwords.zip.\n"
          ]
        }
      ]
    },
    {
      "cell_type": "code",
      "source": [
        "cleaned_stopwords = []\n",
        "\n",
        "for idx in range(len(data)):\n",
        "  cleaned = remove_stopwords(data[idx])\n",
        "  cleaned_stopwords.append(cleaned)\n",
        "\n",
        "print(\"BEFORE\")\n",
        "print(\"=\"*50)\n",
        "display(data[:1])\n",
        "print(\"\\nAFTER\")\n",
        "print(\"=\"*50)\n",
        "display(cleaned_stopwords[:1])"
      ],
      "metadata": {
        "colab": {
          "base_uri": "https://localhost:8080/",
          "height": 676
        },
        "id": "oXD3tINWyQxW",
        "outputId": "9e68fd0d-d1d2-401f-8108-c7f0d2358381"
      },
      "execution_count": 7,
      "outputs": [
        {
          "output_type": "stream",
          "name": "stdout",
          "text": [
            "BEFORE\n",
            "==================================================\n"
          ]
        },
        {
          "output_type": "display_data",
          "data": {
            "text/plain": [
              "['Muncul keluhan dari warganet soal wisuda tingkat PAUD hingga SMA. Sambatan ini bisa dilihat menyerbu kolom Instagram Menteri Pendidikan, Kebudayaan, Riset, dan Teknologi Nadiem Makarim beberapa waktu belakangan. Koordinator Nasional Perhimpunan Pendidikan dan Guru (P2G), Satriwan Salim mengatakan, tren wisuda untuk anak PAUD sampai SMA adalah hal yang relatif baru. Menurutnya, tren ini muncul sekitar 20 tahun terakhir. \"Kami sih melihatnya ini mulai menjadi tren 20-an tahun terakhir, 20-an terakhir. Khusus untuk tingkat PAUD-TK wisuda bagi mereka ini relatif lebih muda lagi seiring banyaknya pendirian PAUD-PAUD dan TK-TK di Indonesia,\" ujarnya melalui sambungan WhatsApp dengan detikEdu (16/6/2023). \"Nah, ini kira-kira 10 tahun terakhir fenomena banyaknya wisuda anak-anak di PAUD dan TK,\" lanjutnya. Namun, Satriwan menggarisbawahi, ada terlalu banyak kegiatan yang bersifat festival dan seremonial di sekolah-sekolah di Indonesia. \"Festival-seremonial ini justru tidak berkorelasi dengan pengembangan kompetensi siswa, tidak berkorelasi dengan peningkatan prestasi siswa, tidak ada tuh. Yang ada justru jadi beban secara finansial bagi orang tua, bagi anak,\" bebernya. Dia memaparkan, anak-anak akan merasa bahwa wisuda menjadi momen untuk menunjukkan kelas ekonomi karena ada yang diantarkan mobil pribadi, angkutan umum, maupun sepeda motor. \"Nah, ini kan menunjukan kelas sosial juga justru ajang untuk memamerkan kelas ekonomi mereka,\" kata dia. Satriwan menekankan, yang jadi keberatan orang tua perihal wisuda PAUD-SMA ini adalah pembiayaan. Maka, P2G merekomendasikan agar biayanya secara keseluruhan di-cover dana BOS. Pihak mereka pun menemukan adanya biaya wisuda sebesar Rp 500 ribu untuk level PAUD-TK. \"Bahkan SMP-SMA lebih tinggi lagi di atas 1 juta dan itu diatur atau dikelola oleh sekolah atau oleh guru, sehingga wisuda ini kan menjadi kewajiban secara akademiklah sebut, karena sekolah mewajibkan anak-anak wisuda, guru menjadi panitia, dan seterusnya,\" ujarnya. \"Oleh karena itu rasanya kalau dana BOS itu bisa meng-cover kegiatan wisuda, orang tua akan senang-senang saja karena yang jadi titik berat orang tua adalah pembiayaan wisuda,\" imbuhnya. Menurut Satriwan, perlu adanya pemilahan wisuda di berbagai jenjang pendidikan. \"Maksud saya begini, untuk PAUD, TK, SD, SMP sederajat ya termasuk madrasah ini sudah selayaknya untuk dilarang. Bagaimana cara melarangnya? Ya kami meminta kepada Kemendikbudristek dan Kementerian Agama untuk mengeluarkan imbauan agar untuk tingkat TK, SD, SMP ini tidak ada kegiatan wisuda,\" jelasnya. Kendati demikian, Satriwan menegaskan wisuda untuk SMA masih bisa dilakukan karena tidak semua murid akan melanjutkan ke perguruan tinggi. Oleh sebab itu, siswa SMA berhak ikut wisuda dengan catatan di-cover dana BOS. \"Khususnya lagi untuk PAUD, TK, SD, SMP karena bagi kami tidak ada manfaatnya sekaligus. Tapi kalau SMA masih ada karena secara psikologis ada anak yang lanjut kepada perguruan tinggi ada yang tidak,\" kata dia. Satriwan juga mengingatkan agar orang tua berani speak up jika diwajibkan oleh sekolah agar anaknya ikut wisuda. Maka, pihaknya turut mendorong dinas pendidikan daerah untuk memonitor. \"P2G mendesak jangan sampai ada sekolah yang menahan ijazah anak atau peserta didiknya karena anak tersebut tidak mengikuti kegiatan wisuda sekolahnya, baik untuk level SMA, SMK, SMP dan seterusnya,\" ucapnya. \"Kalau ada tindakan seperti ini, saya rasa ini sekolah layak untuk mendapatkan sanksi sesuai perundang-undangan yang berlaku,\" pungkasnya.']"
            ]
          },
          "metadata": {}
        },
        {
          "output_type": "stream",
          "name": "stdout",
          "text": [
            "\n",
            "AFTER\n",
            "==================================================\n"
          ]
        },
        {
          "output_type": "display_data",
          "data": {
            "text/plain": [
              "['muncul keluhan warganet wisuda tingkat paud sma. sambatan menyerbu kolom instagram menteri pendidikan, kebudayaan, riset, teknologi nadiem makarim belakangan. koordinator nasional perhimpunan pendidikan guru (p2g), satriwan salim mengatakan, tren wisuda anak paud sma relatif baru. menurutnya, tren muncul 20 terakhir. \"kami sih tren 20-an terakhir, 20-an terakhir. khusus tingkat paud-tk wisuda relatif muda seiring banyaknya pendirian paud-paud tk-tk indonesia,\" sambungan whatsapp detikedu (16/6/2023). \"nah, 10 fenomena banyaknya wisuda anak-anak paud tk,\" lanjutnya. namun, satriwan menggarisbawahi, kegiatan bersifat festival seremonial sekolah-sekolah indonesia. \"festival-seremonial berkorelasi pengembangan kompetensi siswa, berkorelasi peningkatan prestasi siswa, tuh. beban finansial orang tua, anak,\" bebernya. memaparkan, anak-anak wisuda momen kelas ekonomi diantarkan mobil pribadi, angkutan umum, sepeda motor. \"nah, menunjukan kelas sosial ajang memamerkan kelas ekonomi mereka,\" dia. satriwan menekankan, keberatan orang tua perihal wisuda paud-sma pembiayaan. maka, p2g merekomendasikan biayanya di-cover dana bos. menemukan biaya wisuda rp 500 ribu level paud-tk. \"bahkan smp-sma 1 juta diatur dikelola sekolah guru, wisuda kewajiban akademiklah sebut, sekolah mewajibkan anak-anak wisuda, guru panitia, seterusnya,\" ujarnya. \"oleh dana bos meng-cover kegiatan wisuda, orang tua senang-senang titik berat orang tua pembiayaan wisuda,\" imbuhnya. satriwan, pemilahan wisuda jenjang pendidikan. \"maksud begini, paud, tk, sd, smp sederajat ya madrasah selayaknya dilarang. melarangnya? ya kemendikbudristek kementerian agama mengeluarkan imbauan tingkat tk, sd, smp kegiatan wisuda,\" jelasnya. kendati demikian, satriwan wisuda sma murid melanjutkan perguruan tinggi. itu, siswa sma berhak wisuda catatan di-cover dana bos. \"khususnya paud, tk, sd, smp manfaatnya sekaligus. sma psikologis anak perguruan tidak,\" dia. satriwan orang tua berani speak up diwajibkan sekolah anaknya wisuda. maka, mendorong dinas pendidikan daerah memonitor. \"p2g mendesak sekolah menahan ijazah anak peserta didiknya anak mengikuti kegiatan wisuda sekolahnya, level sma, smk, smp seterusnya,\" ucapnya. \"kalau tindakan ini, sekolah layak sanksi sesuai perundang-undangan berlaku,\" pungkasnya.']"
            ]
          },
          "metadata": {}
        }
      ]
    },
    {
      "cell_type": "code",
      "source": [
        "import re\n",
        "def remove_punctuation_and_special_character(text):\n",
        "  # clean puntuation and special character using regex\n",
        "  cleaned_text = re.sub(r'[^a-zA-Z0-9\\s]', '', text)\n",
        "  return cleaned_text"
      ],
      "metadata": {
        "id": "_bNg0c_84RHL"
      },
      "execution_count": 8,
      "outputs": []
    },
    {
      "cell_type": "code",
      "source": [
        "cleaned_punctuation_and_special_character = []\n",
        "\n",
        "for idx in range(len(cleaned_stopwords)):\n",
        "  cleaned = remove_punctuation_and_special_character(cleaned_stopwords[idx])\n",
        "  cleaned_punctuation_and_special_character.append(cleaned)\n",
        "\n",
        "print(\"BEFORE\")\n",
        "print(\"=\"*50)\n",
        "display(cleaned_stopwords[:1])\n",
        "print(\"\\nAFTER\")\n",
        "print(\"=\"*50)\n",
        "display(cleaned_punctuation_and_special_character[:1])"
      ],
      "metadata": {
        "colab": {
          "base_uri": "https://localhost:8080/",
          "height": 555
        },
        "id": "SEc1Yvny4rkH",
        "outputId": "502347b0-34b7-4ee8-a386-f5e7a05744e0"
      },
      "execution_count": 9,
      "outputs": [
        {
          "output_type": "stream",
          "name": "stdout",
          "text": [
            "BEFORE\n",
            "==================================================\n"
          ]
        },
        {
          "output_type": "display_data",
          "data": {
            "text/plain": [
              "['muncul keluhan warganet wisuda tingkat paud sma. sambatan menyerbu kolom instagram menteri pendidikan, kebudayaan, riset, teknologi nadiem makarim belakangan. koordinator nasional perhimpunan pendidikan guru (p2g), satriwan salim mengatakan, tren wisuda anak paud sma relatif baru. menurutnya, tren muncul 20 terakhir. \"kami sih tren 20-an terakhir, 20-an terakhir. khusus tingkat paud-tk wisuda relatif muda seiring banyaknya pendirian paud-paud tk-tk indonesia,\" sambungan whatsapp detikedu (16/6/2023). \"nah, 10 fenomena banyaknya wisuda anak-anak paud tk,\" lanjutnya. namun, satriwan menggarisbawahi, kegiatan bersifat festival seremonial sekolah-sekolah indonesia. \"festival-seremonial berkorelasi pengembangan kompetensi siswa, berkorelasi peningkatan prestasi siswa, tuh. beban finansial orang tua, anak,\" bebernya. memaparkan, anak-anak wisuda momen kelas ekonomi diantarkan mobil pribadi, angkutan umum, sepeda motor. \"nah, menunjukan kelas sosial ajang memamerkan kelas ekonomi mereka,\" dia. satriwan menekankan, keberatan orang tua perihal wisuda paud-sma pembiayaan. maka, p2g merekomendasikan biayanya di-cover dana bos. menemukan biaya wisuda rp 500 ribu level paud-tk. \"bahkan smp-sma 1 juta diatur dikelola sekolah guru, wisuda kewajiban akademiklah sebut, sekolah mewajibkan anak-anak wisuda, guru panitia, seterusnya,\" ujarnya. \"oleh dana bos meng-cover kegiatan wisuda, orang tua senang-senang titik berat orang tua pembiayaan wisuda,\" imbuhnya. satriwan, pemilahan wisuda jenjang pendidikan. \"maksud begini, paud, tk, sd, smp sederajat ya madrasah selayaknya dilarang. melarangnya? ya kemendikbudristek kementerian agama mengeluarkan imbauan tingkat tk, sd, smp kegiatan wisuda,\" jelasnya. kendati demikian, satriwan wisuda sma murid melanjutkan perguruan tinggi. itu, siswa sma berhak wisuda catatan di-cover dana bos. \"khususnya paud, tk, sd, smp manfaatnya sekaligus. sma psikologis anak perguruan tidak,\" dia. satriwan orang tua berani speak up diwajibkan sekolah anaknya wisuda. maka, mendorong dinas pendidikan daerah memonitor. \"p2g mendesak sekolah menahan ijazah anak peserta didiknya anak mengikuti kegiatan wisuda sekolahnya, level sma, smk, smp seterusnya,\" ucapnya. \"kalau tindakan ini, sekolah layak sanksi sesuai perundang-undangan berlaku,\" pungkasnya.']"
            ]
          },
          "metadata": {}
        },
        {
          "output_type": "stream",
          "name": "stdout",
          "text": [
            "\n",
            "AFTER\n",
            "==================================================\n"
          ]
        },
        {
          "output_type": "display_data",
          "data": {
            "text/plain": [
              "['muncul keluhan warganet wisuda tingkat paud sma sambatan menyerbu kolom instagram menteri pendidikan kebudayaan riset teknologi nadiem makarim belakangan koordinator nasional perhimpunan pendidikan guru p2g satriwan salim mengatakan tren wisuda anak paud sma relatif baru menurutnya tren muncul 20 terakhir kami sih tren 20an terakhir 20an terakhir khusus tingkat paudtk wisuda relatif muda seiring banyaknya pendirian paudpaud tktk indonesia sambungan whatsapp detikedu 1662023 nah 10 fenomena banyaknya wisuda anakanak paud tk lanjutnya namun satriwan menggarisbawahi kegiatan bersifat festival seremonial sekolahsekolah indonesia festivalseremonial berkorelasi pengembangan kompetensi siswa berkorelasi peningkatan prestasi siswa tuh beban finansial orang tua anak bebernya memaparkan anakanak wisuda momen kelas ekonomi diantarkan mobil pribadi angkutan umum sepeda motor nah menunjukan kelas sosial ajang memamerkan kelas ekonomi mereka dia satriwan menekankan keberatan orang tua perihal wisuda paudsma pembiayaan maka p2g merekomendasikan biayanya dicover dana bos menemukan biaya wisuda rp 500 ribu level paudtk bahkan smpsma 1 juta diatur dikelola sekolah guru wisuda kewajiban akademiklah sebut sekolah mewajibkan anakanak wisuda guru panitia seterusnya ujarnya oleh dana bos mengcover kegiatan wisuda orang tua senangsenang titik berat orang tua pembiayaan wisuda imbuhnya satriwan pemilahan wisuda jenjang pendidikan maksud begini paud tk sd smp sederajat ya madrasah selayaknya dilarang melarangnya ya kemendikbudristek kementerian agama mengeluarkan imbauan tingkat tk sd smp kegiatan wisuda jelasnya kendati demikian satriwan wisuda sma murid melanjutkan perguruan tinggi itu siswa sma berhak wisuda catatan dicover dana bos khususnya paud tk sd smp manfaatnya sekaligus sma psikologis anak perguruan tidak dia satriwan orang tua berani speak up diwajibkan sekolah anaknya wisuda maka mendorong dinas pendidikan daerah memonitor p2g mendesak sekolah menahan ijazah anak peserta didiknya anak mengikuti kegiatan wisuda sekolahnya level sma smk smp seterusnya ucapnya kalau tindakan ini sekolah layak sanksi sesuai perundangundangan berlaku pungkasnya']"
            ]
          },
          "metadata": {}
        }
      ]
    },
    {
      "cell_type": "markdown",
      "source": [
        "# Text Normalization"
      ],
      "metadata": {
        "id": "soLAy0l4yCnO"
      }
    },
    {
      "cell_type": "code",
      "source": [
        "!pip install Sastrawi"
      ],
      "metadata": {
        "colab": {
          "base_uri": "https://localhost:8080/"
        },
        "id": "BVgOCab96zHk",
        "outputId": "327eca37-d36e-4b3c-d919-a4603564cf8b"
      },
      "execution_count": 10,
      "outputs": [
        {
          "output_type": "stream",
          "name": "stdout",
          "text": [
            "Collecting Sastrawi\n",
            "  Downloading Sastrawi-1.0.1-py2.py3-none-any.whl.metadata (909 bytes)\n",
            "Downloading Sastrawi-1.0.1-py2.py3-none-any.whl (209 kB)\n",
            "\u001b[?25l   \u001b[90m━━━━━━━━━━━━━━━━━━━━━━━━━━━━━━━━━━━━━━━━\u001b[0m \u001b[32m0.0/209.7 kB\u001b[0m \u001b[31m?\u001b[0m eta \u001b[36m-:--:--\u001b[0m\r\u001b[2K   \u001b[91m━━━━━━━━━━━━━━━━━━━━━━━\u001b[0m\u001b[90m╺\u001b[0m\u001b[90m━━━━━━━━━━━━━━━━\u001b[0m \u001b[32m122.9/209.7 kB\u001b[0m \u001b[31m3.4 MB/s\u001b[0m eta \u001b[36m0:00:01\u001b[0m\r\u001b[2K   \u001b[90m━━━━━━━━━━━━━━━━━━━━━━━━━━━━━━━━━━━━━━━━\u001b[0m \u001b[32m209.7/209.7 kB\u001b[0m \u001b[31m3.5 MB/s\u001b[0m eta \u001b[36m0:00:00\u001b[0m\n",
            "\u001b[?25hInstalling collected packages: Sastrawi\n",
            "Successfully installed Sastrawi-1.0.1\n"
          ]
        }
      ]
    },
    {
      "cell_type": "code",
      "source": [
        "from Sastrawi.Stemmer.StemmerFactory import StemmerFactory\n",
        "def normalization_stemming(text):\n",
        "  # create an instance of the stemmer\n",
        "  stemmer = StemmerFactory().create_stemmer()\n",
        "\n",
        "  # perform stemming\n",
        "  cleaned_text = stemmer.stem(text)\n",
        "  return cleaned_text"
      ],
      "metadata": {
        "id": "GIYK6IY56gLf"
      },
      "execution_count": 11,
      "outputs": []
    },
    {
      "cell_type": "code",
      "source": [
        "normalized_stemming = []\n",
        "\n",
        "for idx in range(len(cleaned_punctuation_and_special_character)):\n",
        "  cleaned = remove_punctuation_and_special_character(cleaned_punctuation_and_special_character[idx])\n",
        "  normalized_stemming.append(cleaned)\n",
        "\n",
        "print(\"BEFORE\")\n",
        "print(\"=\"*50)\n",
        "display(cleaned_punctuation_and_special_character[:1])\n",
        "print(\"\\nAFTER\")\n",
        "print(\"=\"*50)\n",
        "display(normalized_stemming[:1])"
      ],
      "metadata": {
        "colab": {
          "base_uri": "https://localhost:8080/",
          "height": 555
        },
        "id": "xMNttqmfyKmZ",
        "outputId": "ca926575-7e1f-4f7a-b50a-353bcf94ab38"
      },
      "execution_count": 12,
      "outputs": [
        {
          "output_type": "stream",
          "name": "stdout",
          "text": [
            "BEFORE\n",
            "==================================================\n"
          ]
        },
        {
          "output_type": "display_data",
          "data": {
            "text/plain": [
              "['muncul keluhan warganet wisuda tingkat paud sma sambatan menyerbu kolom instagram menteri pendidikan kebudayaan riset teknologi nadiem makarim belakangan koordinator nasional perhimpunan pendidikan guru p2g satriwan salim mengatakan tren wisuda anak paud sma relatif baru menurutnya tren muncul 20 terakhir kami sih tren 20an terakhir 20an terakhir khusus tingkat paudtk wisuda relatif muda seiring banyaknya pendirian paudpaud tktk indonesia sambungan whatsapp detikedu 1662023 nah 10 fenomena banyaknya wisuda anakanak paud tk lanjutnya namun satriwan menggarisbawahi kegiatan bersifat festival seremonial sekolahsekolah indonesia festivalseremonial berkorelasi pengembangan kompetensi siswa berkorelasi peningkatan prestasi siswa tuh beban finansial orang tua anak bebernya memaparkan anakanak wisuda momen kelas ekonomi diantarkan mobil pribadi angkutan umum sepeda motor nah menunjukan kelas sosial ajang memamerkan kelas ekonomi mereka dia satriwan menekankan keberatan orang tua perihal wisuda paudsma pembiayaan maka p2g merekomendasikan biayanya dicover dana bos menemukan biaya wisuda rp 500 ribu level paudtk bahkan smpsma 1 juta diatur dikelola sekolah guru wisuda kewajiban akademiklah sebut sekolah mewajibkan anakanak wisuda guru panitia seterusnya ujarnya oleh dana bos mengcover kegiatan wisuda orang tua senangsenang titik berat orang tua pembiayaan wisuda imbuhnya satriwan pemilahan wisuda jenjang pendidikan maksud begini paud tk sd smp sederajat ya madrasah selayaknya dilarang melarangnya ya kemendikbudristek kementerian agama mengeluarkan imbauan tingkat tk sd smp kegiatan wisuda jelasnya kendati demikian satriwan wisuda sma murid melanjutkan perguruan tinggi itu siswa sma berhak wisuda catatan dicover dana bos khususnya paud tk sd smp manfaatnya sekaligus sma psikologis anak perguruan tidak dia satriwan orang tua berani speak up diwajibkan sekolah anaknya wisuda maka mendorong dinas pendidikan daerah memonitor p2g mendesak sekolah menahan ijazah anak peserta didiknya anak mengikuti kegiatan wisuda sekolahnya level sma smk smp seterusnya ucapnya kalau tindakan ini sekolah layak sanksi sesuai perundangundangan berlaku pungkasnya']"
            ]
          },
          "metadata": {}
        },
        {
          "output_type": "stream",
          "name": "stdout",
          "text": [
            "\n",
            "AFTER\n",
            "==================================================\n"
          ]
        },
        {
          "output_type": "display_data",
          "data": {
            "text/plain": [
              "['muncul keluhan warganet wisuda tingkat paud sma sambatan menyerbu kolom instagram menteri pendidikan kebudayaan riset teknologi nadiem makarim belakangan koordinator nasional perhimpunan pendidikan guru p2g satriwan salim mengatakan tren wisuda anak paud sma relatif baru menurutnya tren muncul 20 terakhir kami sih tren 20an terakhir 20an terakhir khusus tingkat paudtk wisuda relatif muda seiring banyaknya pendirian paudpaud tktk indonesia sambungan whatsapp detikedu 1662023 nah 10 fenomena banyaknya wisuda anakanak paud tk lanjutnya namun satriwan menggarisbawahi kegiatan bersifat festival seremonial sekolahsekolah indonesia festivalseremonial berkorelasi pengembangan kompetensi siswa berkorelasi peningkatan prestasi siswa tuh beban finansial orang tua anak bebernya memaparkan anakanak wisuda momen kelas ekonomi diantarkan mobil pribadi angkutan umum sepeda motor nah menunjukan kelas sosial ajang memamerkan kelas ekonomi mereka dia satriwan menekankan keberatan orang tua perihal wisuda paudsma pembiayaan maka p2g merekomendasikan biayanya dicover dana bos menemukan biaya wisuda rp 500 ribu level paudtk bahkan smpsma 1 juta diatur dikelola sekolah guru wisuda kewajiban akademiklah sebut sekolah mewajibkan anakanak wisuda guru panitia seterusnya ujarnya oleh dana bos mengcover kegiatan wisuda orang tua senangsenang titik berat orang tua pembiayaan wisuda imbuhnya satriwan pemilahan wisuda jenjang pendidikan maksud begini paud tk sd smp sederajat ya madrasah selayaknya dilarang melarangnya ya kemendikbudristek kementerian agama mengeluarkan imbauan tingkat tk sd smp kegiatan wisuda jelasnya kendati demikian satriwan wisuda sma murid melanjutkan perguruan tinggi itu siswa sma berhak wisuda catatan dicover dana bos khususnya paud tk sd smp manfaatnya sekaligus sma psikologis anak perguruan tidak dia satriwan orang tua berani speak up diwajibkan sekolah anaknya wisuda maka mendorong dinas pendidikan daerah memonitor p2g mendesak sekolah menahan ijazah anak peserta didiknya anak mengikuti kegiatan wisuda sekolahnya level sma smk smp seterusnya ucapnya kalau tindakan ini sekolah layak sanksi sesuai perundangundangan berlaku pungkasnya']"
            ]
          },
          "metadata": {}
        }
      ]
    },
    {
      "cell_type": "markdown",
      "source": [
        "# Text Tokenization"
      ],
      "metadata": {
        "id": "xUkNZfGvyErQ"
      }
    },
    {
      "cell_type": "markdown",
      "source": [
        "## Word Tokenization"
      ],
      "metadata": {
        "id": "ueyzd9gRA8SL"
      }
    },
    {
      "cell_type": "code",
      "source": [
        "from nltk.tokenize import word_tokenize\n",
        "nltk.download('punkt')\n",
        "\n",
        "def tokenization_word(text):\n",
        "    # do word tokenization\n",
        "    tokens = word_tokenize(text)\n",
        "    return tokens"
      ],
      "metadata": {
        "id": "XnkvK2yKAe3P",
        "colab": {
          "base_uri": "https://localhost:8080/"
        },
        "outputId": "ab58237f-1325-4016-8823-948befff93b3"
      },
      "execution_count": 13,
      "outputs": [
        {
          "output_type": "stream",
          "name": "stderr",
          "text": [
            "[nltk_data] Downloading package punkt to /root/nltk_data...\n",
            "[nltk_data]   Unzipping tokenizers/punkt.zip.\n"
          ]
        }
      ]
    },
    {
      "cell_type": "code",
      "source": [
        "tokenized_words = []\n",
        "\n",
        "for idx in range(len(normalized_stemming)):\n",
        "  cleaned = tokenization_word(normalized_stemming[idx])\n",
        "  tokenized_words.append(cleaned)\n",
        "\n",
        "print(\"BEFORE\")\n",
        "print(\"=\"*50)\n",
        "display(normalized_stemming[:1])\n",
        "print(\"\\nAFTER\")\n",
        "print(\"=\"*50)\n",
        "display(tokenized_words[:1])"
      ],
      "metadata": {
        "colab": {
          "base_uri": "https://localhost:8080/",
          "height": 1000
        },
        "id": "_Xz0y4saAtxt",
        "outputId": "2e106865-33d5-4b8a-b6f4-dd0823532289"
      },
      "execution_count": 14,
      "outputs": [
        {
          "output_type": "stream",
          "name": "stdout",
          "text": [
            "BEFORE\n",
            "==================================================\n"
          ]
        },
        {
          "output_type": "display_data",
          "data": {
            "text/plain": [
              "['muncul keluhan warganet wisuda tingkat paud sma sambatan menyerbu kolom instagram menteri pendidikan kebudayaan riset teknologi nadiem makarim belakangan koordinator nasional perhimpunan pendidikan guru p2g satriwan salim mengatakan tren wisuda anak paud sma relatif baru menurutnya tren muncul 20 terakhir kami sih tren 20an terakhir 20an terakhir khusus tingkat paudtk wisuda relatif muda seiring banyaknya pendirian paudpaud tktk indonesia sambungan whatsapp detikedu 1662023 nah 10 fenomena banyaknya wisuda anakanak paud tk lanjutnya namun satriwan menggarisbawahi kegiatan bersifat festival seremonial sekolahsekolah indonesia festivalseremonial berkorelasi pengembangan kompetensi siswa berkorelasi peningkatan prestasi siswa tuh beban finansial orang tua anak bebernya memaparkan anakanak wisuda momen kelas ekonomi diantarkan mobil pribadi angkutan umum sepeda motor nah menunjukan kelas sosial ajang memamerkan kelas ekonomi mereka dia satriwan menekankan keberatan orang tua perihal wisuda paudsma pembiayaan maka p2g merekomendasikan biayanya dicover dana bos menemukan biaya wisuda rp 500 ribu level paudtk bahkan smpsma 1 juta diatur dikelola sekolah guru wisuda kewajiban akademiklah sebut sekolah mewajibkan anakanak wisuda guru panitia seterusnya ujarnya oleh dana bos mengcover kegiatan wisuda orang tua senangsenang titik berat orang tua pembiayaan wisuda imbuhnya satriwan pemilahan wisuda jenjang pendidikan maksud begini paud tk sd smp sederajat ya madrasah selayaknya dilarang melarangnya ya kemendikbudristek kementerian agama mengeluarkan imbauan tingkat tk sd smp kegiatan wisuda jelasnya kendati demikian satriwan wisuda sma murid melanjutkan perguruan tinggi itu siswa sma berhak wisuda catatan dicover dana bos khususnya paud tk sd smp manfaatnya sekaligus sma psikologis anak perguruan tidak dia satriwan orang tua berani speak up diwajibkan sekolah anaknya wisuda maka mendorong dinas pendidikan daerah memonitor p2g mendesak sekolah menahan ijazah anak peserta didiknya anak mengikuti kegiatan wisuda sekolahnya level sma smk smp seterusnya ucapnya kalau tindakan ini sekolah layak sanksi sesuai perundangundangan berlaku pungkasnya']"
            ]
          },
          "metadata": {}
        },
        {
          "output_type": "stream",
          "name": "stdout",
          "text": [
            "\n",
            "AFTER\n",
            "==================================================\n"
          ]
        },
        {
          "output_type": "display_data",
          "data": {
            "text/plain": [
              "[['muncul',\n",
              "  'keluhan',\n",
              "  'warganet',\n",
              "  'wisuda',\n",
              "  'tingkat',\n",
              "  'paud',\n",
              "  'sma',\n",
              "  'sambatan',\n",
              "  'menyerbu',\n",
              "  'kolom',\n",
              "  'instagram',\n",
              "  'menteri',\n",
              "  'pendidikan',\n",
              "  'kebudayaan',\n",
              "  'riset',\n",
              "  'teknologi',\n",
              "  'nadiem',\n",
              "  'makarim',\n",
              "  'belakangan',\n",
              "  'koordinator',\n",
              "  'nasional',\n",
              "  'perhimpunan',\n",
              "  'pendidikan',\n",
              "  'guru',\n",
              "  'p2g',\n",
              "  'satriwan',\n",
              "  'salim',\n",
              "  'mengatakan',\n",
              "  'tren',\n",
              "  'wisuda',\n",
              "  'anak',\n",
              "  'paud',\n",
              "  'sma',\n",
              "  'relatif',\n",
              "  'baru',\n",
              "  'menurutnya',\n",
              "  'tren',\n",
              "  'muncul',\n",
              "  '20',\n",
              "  'terakhir',\n",
              "  'kami',\n",
              "  'sih',\n",
              "  'tren',\n",
              "  '20an',\n",
              "  'terakhir',\n",
              "  '20an',\n",
              "  'terakhir',\n",
              "  'khusus',\n",
              "  'tingkat',\n",
              "  'paudtk',\n",
              "  'wisuda',\n",
              "  'relatif',\n",
              "  'muda',\n",
              "  'seiring',\n",
              "  'banyaknya',\n",
              "  'pendirian',\n",
              "  'paudpaud',\n",
              "  'tktk',\n",
              "  'indonesia',\n",
              "  'sambungan',\n",
              "  'whatsapp',\n",
              "  'detikedu',\n",
              "  '1662023',\n",
              "  'nah',\n",
              "  '10',\n",
              "  'fenomena',\n",
              "  'banyaknya',\n",
              "  'wisuda',\n",
              "  'anakanak',\n",
              "  'paud',\n",
              "  'tk',\n",
              "  'lanjutnya',\n",
              "  'namun',\n",
              "  'satriwan',\n",
              "  'menggarisbawahi',\n",
              "  'kegiatan',\n",
              "  'bersifat',\n",
              "  'festival',\n",
              "  'seremonial',\n",
              "  'sekolahsekolah',\n",
              "  'indonesia',\n",
              "  'festivalseremonial',\n",
              "  'berkorelasi',\n",
              "  'pengembangan',\n",
              "  'kompetensi',\n",
              "  'siswa',\n",
              "  'berkorelasi',\n",
              "  'peningkatan',\n",
              "  'prestasi',\n",
              "  'siswa',\n",
              "  'tuh',\n",
              "  'beban',\n",
              "  'finansial',\n",
              "  'orang',\n",
              "  'tua',\n",
              "  'anak',\n",
              "  'bebernya',\n",
              "  'memaparkan',\n",
              "  'anakanak',\n",
              "  'wisuda',\n",
              "  'momen',\n",
              "  'kelas',\n",
              "  'ekonomi',\n",
              "  'diantarkan',\n",
              "  'mobil',\n",
              "  'pribadi',\n",
              "  'angkutan',\n",
              "  'umum',\n",
              "  'sepeda',\n",
              "  'motor',\n",
              "  'nah',\n",
              "  'menunjukan',\n",
              "  'kelas',\n",
              "  'sosial',\n",
              "  'ajang',\n",
              "  'memamerkan',\n",
              "  'kelas',\n",
              "  'ekonomi',\n",
              "  'mereka',\n",
              "  'dia',\n",
              "  'satriwan',\n",
              "  'menekankan',\n",
              "  'keberatan',\n",
              "  'orang',\n",
              "  'tua',\n",
              "  'perihal',\n",
              "  'wisuda',\n",
              "  'paudsma',\n",
              "  'pembiayaan',\n",
              "  'maka',\n",
              "  'p2g',\n",
              "  'merekomendasikan',\n",
              "  'biayanya',\n",
              "  'dicover',\n",
              "  'dana',\n",
              "  'bos',\n",
              "  'menemukan',\n",
              "  'biaya',\n",
              "  'wisuda',\n",
              "  'rp',\n",
              "  '500',\n",
              "  'ribu',\n",
              "  'level',\n",
              "  'paudtk',\n",
              "  'bahkan',\n",
              "  'smpsma',\n",
              "  '1',\n",
              "  'juta',\n",
              "  'diatur',\n",
              "  'dikelola',\n",
              "  'sekolah',\n",
              "  'guru',\n",
              "  'wisuda',\n",
              "  'kewajiban',\n",
              "  'akademiklah',\n",
              "  'sebut',\n",
              "  'sekolah',\n",
              "  'mewajibkan',\n",
              "  'anakanak',\n",
              "  'wisuda',\n",
              "  'guru',\n",
              "  'panitia',\n",
              "  'seterusnya',\n",
              "  'ujarnya',\n",
              "  'oleh',\n",
              "  'dana',\n",
              "  'bos',\n",
              "  'mengcover',\n",
              "  'kegiatan',\n",
              "  'wisuda',\n",
              "  'orang',\n",
              "  'tua',\n",
              "  'senangsenang',\n",
              "  'titik',\n",
              "  'berat',\n",
              "  'orang',\n",
              "  'tua',\n",
              "  'pembiayaan',\n",
              "  'wisuda',\n",
              "  'imbuhnya',\n",
              "  'satriwan',\n",
              "  'pemilahan',\n",
              "  'wisuda',\n",
              "  'jenjang',\n",
              "  'pendidikan',\n",
              "  'maksud',\n",
              "  'begini',\n",
              "  'paud',\n",
              "  'tk',\n",
              "  'sd',\n",
              "  'smp',\n",
              "  'sederajat',\n",
              "  'ya',\n",
              "  'madrasah',\n",
              "  'selayaknya',\n",
              "  'dilarang',\n",
              "  'melarangnya',\n",
              "  'ya',\n",
              "  'kemendikbudristek',\n",
              "  'kementerian',\n",
              "  'agama',\n",
              "  'mengeluarkan',\n",
              "  'imbauan',\n",
              "  'tingkat',\n",
              "  'tk',\n",
              "  'sd',\n",
              "  'smp',\n",
              "  'kegiatan',\n",
              "  'wisuda',\n",
              "  'jelasnya',\n",
              "  'kendati',\n",
              "  'demikian',\n",
              "  'satriwan',\n",
              "  'wisuda',\n",
              "  'sma',\n",
              "  'murid',\n",
              "  'melanjutkan',\n",
              "  'perguruan',\n",
              "  'tinggi',\n",
              "  'itu',\n",
              "  'siswa',\n",
              "  'sma',\n",
              "  'berhak',\n",
              "  'wisuda',\n",
              "  'catatan',\n",
              "  'dicover',\n",
              "  'dana',\n",
              "  'bos',\n",
              "  'khususnya',\n",
              "  'paud',\n",
              "  'tk',\n",
              "  'sd',\n",
              "  'smp',\n",
              "  'manfaatnya',\n",
              "  'sekaligus',\n",
              "  'sma',\n",
              "  'psikologis',\n",
              "  'anak',\n",
              "  'perguruan',\n",
              "  'tidak',\n",
              "  'dia',\n",
              "  'satriwan',\n",
              "  'orang',\n",
              "  'tua',\n",
              "  'berani',\n",
              "  'speak',\n",
              "  'up',\n",
              "  'diwajibkan',\n",
              "  'sekolah',\n",
              "  'anaknya',\n",
              "  'wisuda',\n",
              "  'maka',\n",
              "  'mendorong',\n",
              "  'dinas',\n",
              "  'pendidikan',\n",
              "  'daerah',\n",
              "  'memonitor',\n",
              "  'p2g',\n",
              "  'mendesak',\n",
              "  'sekolah',\n",
              "  'menahan',\n",
              "  'ijazah',\n",
              "  'anak',\n",
              "  'peserta',\n",
              "  'didiknya',\n",
              "  'anak',\n",
              "  'mengikuti',\n",
              "  'kegiatan',\n",
              "  'wisuda',\n",
              "  'sekolahnya',\n",
              "  'level',\n",
              "  'sma',\n",
              "  'smk',\n",
              "  'smp',\n",
              "  'seterusnya',\n",
              "  'ucapnya',\n",
              "  'kalau',\n",
              "  'tindakan',\n",
              "  'ini',\n",
              "  'sekolah',\n",
              "  'layak',\n",
              "  'sanksi',\n",
              "  'sesuai',\n",
              "  'perundangundangan',\n",
              "  'berlaku',\n",
              "  'pungkasnya']]"
            ]
          },
          "metadata": {}
        }
      ]
    },
    {
      "cell_type": "markdown",
      "source": [
        "# Visualization"
      ],
      "metadata": {
        "id": "rrJB4JVmyJLu"
      }
    },
    {
      "cell_type": "code",
      "source": [
        "import itertools\n",
        "from collections import Counter, OrderedDict"
      ],
      "metadata": {
        "id": "J7n3VGgDBR4C"
      },
      "execution_count": 15,
      "outputs": []
    },
    {
      "cell_type": "code",
      "source": [
        "tokenized_words_flattened = list(itertools.chain(*tokenized_words))\n",
        "tokenized_words_count = Counter(tokenized_words_flattened)\n",
        "tokenized_words_count_sorted = OrderedDict(sorted(tokenized_words_count.items(), key = lambda kv : kv[1], reverse=False))"
      ],
      "metadata": {
        "id": "he6U2dCZBrna"
      },
      "execution_count": 16,
      "outputs": []
    },
    {
      "cell_type": "code",
      "source": [
        "import matplotlib.pyplot as plt\n",
        "\n",
        "plt.barh(\n",
        "    list(tokenized_words_count_sorted.keys())[-10:],\n",
        "    list(tokenized_words_count_sorted.values())[-10:]\n",
        ")\n",
        "plt.title('Top 10 word frequency:\\nEducation News Content')\n",
        "plt.show()"
      ],
      "metadata": {
        "colab": {
          "base_uri": "https://localhost:8080/",
          "height": 473
        },
        "id": "DnJeI2gxBaSx",
        "outputId": "97022819-4827-467d-bd64-0224a572dc4c"
      },
      "execution_count": 17,
      "outputs": [
        {
          "output_type": "display_data",
          "data": {
            "text/plain": [
              "<Figure size 640x480 with 1 Axes>"
            ],
            "image/png": "[encoded data removed]"
          },
          "metadata": {}
        }
      ]
    },
    {
      "cell_type": "code",
      "source": [],
      "metadata": {
        "id": "gh5_0249RDNh"
      },
      "execution_count": null,
      "outputs": []
    }
  ]
}