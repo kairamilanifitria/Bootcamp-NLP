{
  "nbformat": 4,
  "nbformat_minor": 0,
  "metadata": {
    "colab": {
      "provenance": [],
      "include_colab_link": true
    },
    "kernelspec": {
      "name": "python3",
      "display_name": "Python 3"
    },
    "language_info": {
      "name": "python"
    }
  },
  "cells": [
    {
      "cell_type": "markdown",
      "metadata": {
        "id": "view-in-github",
        "colab_type": "text"
      },
      "source": [
        "<a href=\"https://colab.research.google.com/github/kairamilanifitria/Bootcamp-NLP/blob/main/04092024_Frequency_Based_Text_Vectorization.ipynb\" target=\"_parent\"><img src=\"https://colab.research.google.com/assets/colab-badge.svg\" alt=\"Open In Colab\"/></a>"
      ]
    },
    {
      "cell_type": "markdown",
      "source": [
        "## Frequency-Based Text Vectorization"
      ],
      "metadata": {
        "id": "MfM9pfkh2Pwi"
      }
    },
    {
      "cell_type": "markdown",
      "source": [
        "Metode yang digunakan untuk mengonversikan teks ke dalam bentuk vektor numerik berdasarkan frekuensi kemunculan kata-kata dalam teks tersebut.\n"
      ],
      "metadata": {
        "id": "JHstU5Yg2mV-"
      }
    },
    {
      "cell_type": "markdown",
      "source": [
        "1. Count Vectorizer"
      ],
      "metadata": {
        "id": "_CzBSBKz2ouz"
      }
    },
    {
      "cell_type": "markdown",
      "source": [
        "Pada latihan kali ini, library yang digunakan adalah library dari scikit-learn yang bisa diinstall dengan `pip install scikit-learn`"
      ],
      "metadata": {
        "id": "FEgaDGl42stW"
      }
    },
    {
      "cell_type": "code",
      "source": [
        "!pip install scikit-learn\n",
        "!pip install nlp_id"
      ],
      "metadata": {
        "id": "7vMMzn3p3C21",
        "colab": {
          "base_uri": "https://localhost:8080/"
        },
        "outputId": "fa221df5-c7f9-4db4-9e3d-31be0b006725"
      },
      "execution_count": 1,
      "outputs": [
        {
          "output_type": "stream",
          "name": "stdout",
          "text": [
            "Requirement already satisfied: scikit-learn in /usr/local/lib/python3.10/dist-packages (1.3.2)\n",
            "Requirement already satisfied: numpy<2.0,>=1.17.3 in /usr/local/lib/python3.10/dist-packages (from scikit-learn) (1.26.4)\n",
            "Requirement already satisfied: scipy>=1.5.0 in /usr/local/lib/python3.10/dist-packages (from scikit-learn) (1.13.1)\n",
            "Requirement already satisfied: joblib>=1.1.1 in /usr/local/lib/python3.10/dist-packages (from scikit-learn) (1.4.2)\n",
            "Requirement already satisfied: threadpoolctl>=2.0.0 in /usr/local/lib/python3.10/dist-packages (from scikit-learn) (3.5.0)\n",
            "Collecting nlp_id\n",
            "  Downloading nlp_id-0.1.18.0-py3-none-any.whl.metadata (7.7 kB)\n",
            "Collecting huggingface-hub==0.23.4 (from nlp_id)\n",
            "  Downloading huggingface_hub-0.23.4-py3-none-any.whl.metadata (12 kB)\n",
            "Collecting nltk==3.9.1 (from nlp_id)\n",
            "  Downloading nltk-3.9.1-py3-none-any.whl.metadata (2.9 kB)\n",
            "Requirement already satisfied: numpy==1.26.4 in /usr/local/lib/python3.10/dist-packages (from nlp_id) (1.26.4)\n",
            "Collecting scikit-learn==1.5.1 (from nlp_id)\n",
            "  Downloading scikit_learn-1.5.1-cp310-cp310-manylinux_2_17_x86_64.manylinux2014_x86_64.whl.metadata (12 kB)\n",
            "Requirement already satisfied: scipy==1.13.1 in /usr/local/lib/python3.10/dist-packages (from nlp_id) (1.13.1)\n",
            "Collecting wget==3.2 (from nlp_id)\n",
            "  Downloading wget-3.2.zip (10 kB)\n",
            "  Preparing metadata (setup.py) ... \u001b[?25l\u001b[?25hdone\n",
            "Requirement already satisfied: filelock in /usr/local/lib/python3.10/dist-packages (from huggingface-hub==0.23.4->nlp_id) (3.15.4)\n",
            "Requirement already satisfied: fsspec>=2023.5.0 in /usr/local/lib/python3.10/dist-packages (from huggingface-hub==0.23.4->nlp_id) (2024.6.1)\n",
            "Requirement already satisfied: packaging>=20.9 in /usr/local/lib/python3.10/dist-packages (from huggingface-hub==0.23.4->nlp_id) (24.1)\n",
            "Requirement already satisfied: pyyaml>=5.1 in /usr/local/lib/python3.10/dist-packages (from huggingface-hub==0.23.4->nlp_id) (6.0.2)\n",
            "Requirement already satisfied: requests in /usr/local/lib/python3.10/dist-packages (from huggingface-hub==0.23.4->nlp_id) (2.32.3)\n",
            "Requirement already satisfied: tqdm>=4.42.1 in /usr/local/lib/python3.10/dist-packages (from huggingface-hub==0.23.4->nlp_id) (4.66.5)\n",
            "Requirement already satisfied: typing-extensions>=3.7.4.3 in /usr/local/lib/python3.10/dist-packages (from huggingface-hub==0.23.4->nlp_id) (4.12.2)\n",
            "Requirement already satisfied: click in /usr/local/lib/python3.10/dist-packages (from nltk==3.9.1->nlp_id) (8.1.7)\n",
            "Requirement already satisfied: joblib in /usr/local/lib/python3.10/dist-packages (from nltk==3.9.1->nlp_id) (1.4.2)\n",
            "Requirement already satisfied: regex>=2021.8.3 in /usr/local/lib/python3.10/dist-packages (from nltk==3.9.1->nlp_id) (2024.5.15)\n",
            "Requirement already satisfied: threadpoolctl>=3.1.0 in /usr/local/lib/python3.10/dist-packages (from scikit-learn==1.5.1->nlp_id) (3.5.0)\n",
            "Requirement already satisfied: charset-normalizer<4,>=2 in /usr/local/lib/python3.10/dist-packages (from requests->huggingface-hub==0.23.4->nlp_id) (3.3.2)\n",
            "Requirement already satisfied: idna<4,>=2.5 in /usr/local/lib/python3.10/dist-packages (from requests->huggingface-hub==0.23.4->nlp_id) (3.8)\n",
            "Requirement already satisfied: urllib3<3,>=1.21.1 in /usr/local/lib/python3.10/dist-packages (from requests->huggingface-hub==0.23.4->nlp_id) (2.0.7)\n",
            "Requirement already satisfied: certifi>=2017.4.17 in /usr/local/lib/python3.10/dist-packages (from requests->huggingface-hub==0.23.4->nlp_id) (2024.7.4)\n",
            "Downloading nlp_id-0.1.18.0-py3-none-any.whl (8.1 MB)\n",
            "\u001b[2K   \u001b[90m━━━━━━━━━━━━━━━━━━━━━━━━━━━━━━━━━━━━━━━━\u001b[0m \u001b[32m8.1/8.1 MB\u001b[0m \u001b[31m26.2 MB/s\u001b[0m eta \u001b[36m0:00:00\u001b[0m\n",
            "\u001b[?25hDownloading huggingface_hub-0.23.4-py3-none-any.whl (402 kB)\n",
            "\u001b[2K   \u001b[90m━━━━━━━━━━━━━━━━━━━━━━━━━━━━━━━━━━━━━━━━\u001b[0m \u001b[32m402.6/402.6 kB\u001b[0m \u001b[31m20.4 MB/s\u001b[0m eta \u001b[36m0:00:00\u001b[0m\n",
            "\u001b[?25hDownloading nltk-3.9.1-py3-none-any.whl (1.5 MB)\n",
            "\u001b[2K   \u001b[90m━━━━━━━━━━━━━━━━━━━━━━━━━━━━━━━━━━━━━━━━\u001b[0m \u001b[32m1.5/1.5 MB\u001b[0m \u001b[31m34.4 MB/s\u001b[0m eta \u001b[36m0:00:00\u001b[0m\n",
            "\u001b[?25hDownloading scikit_learn-1.5.1-cp310-cp310-manylinux_2_17_x86_64.manylinux2014_x86_64.whl (13.4 MB)\n",
            "\u001b[2K   \u001b[90m━━━━━━━━━━━━━━━━━━━━━━━━━━━━━━━━━━━━━━━━\u001b[0m \u001b[32m13.4/13.4 MB\u001b[0m \u001b[31m57.9 MB/s\u001b[0m eta \u001b[36m0:00:00\u001b[0m\n",
            "\u001b[?25hBuilding wheels for collected packages: wget\n",
            "  Building wheel for wget (setup.py) ... \u001b[?25l\u001b[?25hdone\n",
            "  Created wheel for wget: filename=wget-3.2-py3-none-any.whl size=9656 sha256=4f7dd8134a170c3c02830490a072cd949028be13d2aae5d08d9f407517bab5c8\n",
            "  Stored in directory: /root/.cache/pip/wheels/8b/f1/7f/5c94f0a7a505ca1c81cd1d9208ae2064675d97582078e6c769\n",
            "Successfully built wget\n",
            "Installing collected packages: wget, nltk, scikit-learn, huggingface-hub, nlp_id\n",
            "  Attempting uninstall: nltk\n",
            "    Found existing installation: nltk 3.8.1\n",
            "    Uninstalling nltk-3.8.1:\n",
            "      Successfully uninstalled nltk-3.8.1\n",
            "  Attempting uninstall: scikit-learn\n",
            "    Found existing installation: scikit-learn 1.3.2\n",
            "    Uninstalling scikit-learn-1.3.2:\n",
            "      Successfully uninstalled scikit-learn-1.3.2\n",
            "  Attempting uninstall: huggingface-hub\n",
            "    Found existing installation: huggingface-hub 0.23.5\n",
            "    Uninstalling huggingface-hub-0.23.5:\n",
            "      Successfully uninstalled huggingface-hub-0.23.5\n",
            "Successfully installed huggingface-hub-0.23.4 nlp_id-0.1.18.0 nltk-3.9.1 scikit-learn-1.5.1 wget-3.2\n"
          ]
        }
      ]
    },
    {
      "cell_type": "code",
      "source": [
        "from sklearn.feature_extraction.text import CountVectorizer\n",
        "import pandas as pd\n",
        "from nlp_id import StopWord\n",
        "\n",
        "stopword = StopWord()\n",
        "stop_words = stopword.get_stopword()\n",
        "print(stop_words)"
      ],
      "metadata": {
        "id": "J6DsNMTi3G3O",
        "colab": {
          "base_uri": "https://localhost:8080/"
        },
        "outputId": "508fde76-d77e-4093-c2ca-186280f7bc9d"
      },
      "execution_count": 2,
      "outputs": [
        {
          "output_type": "stream",
          "name": "stdout",
          "text": [
            "['ada', 'adalagi', 'adalah', 'adanya', 'adapun', 'agak', 'agak-agak', 'agaknya', 'agar', 'aja', 'akan', 'akankah', 'akankan', 'akhir', 'akhir-akhirnya', 'akhirannya', 'akhiri', 'akhirinya', 'akhirnya', 'aku', 'akulah', 'akunya', 'akurat', 'akutu', 'ala', 'alamak', 'alhamdulillah', 'alhasil', 'amat', 'amat-amat', 'amatlah', 'anda', 'anda-anda', 'andai', 'andalah', 'antar', 'antara', 'antaranya', 'apa', 'apa-apanya', 'apaan', 'apabila', 'apaitu', 'apakah', 'apalagi', 'apanya', 'apasaja', 'apatah', 'apesnya', 'arah', 'artinya', 'asal', 'asalkan', 'asumsinya', 'asumsikan', 'atas', 'atas-atas', 'atas-batas', 'ataspun', 'atau', 'ataukah', 'ataupun', 'awal', 'awalnya', 'bagai', 'bagaikan', 'bagaimana', 'bagaimanakah', 'bagaimanapun', 'bagi', 'bagi-bagi', 'bagian', 'bagikan', 'bahasakan', 'bahasanya', 'bahkan', 'bahwa', 'bahwasanya', 'baik', 'bak', 'bakal', 'bakal-bakal', 'bakalan', 'balik', 'balikan', 'balikkan', 'banget', 'banget-banget', 'banyak', 'barangkali', 'baru', 'baru-baru', 'bawah', 'beberapa', 'begini', 'begini-begini', 'begini-begitu', 'begini-gini', 'beginian', 'beginikah', 'beginilah', 'begitu', 'begitu-begitu', 'begitu-gitu', 'begitukah', 'begitulah', 'begitupula', 'begitupun', 'bekerja', 'belakang', 'belakangan', 'beliau', 'beliau-beliau', 'beliaupun', 'belum', 'belumlah', 'benar', 'benar-benar', 'benarkah', 'benarlah', 'bener-benar', 'berada', 'berakhir', 'berakhirlah', 'berakhirnya', 'berapa', 'berapa-berapa', 'berapakah', 'berapalah', 'berapapun', 'berarti', 'berawal', 'berbagai', 'berbagi', 'berberapa', 'berdatangan', 'beri', 'berikan', 'berikut', 'berikutnya', 'beritagar', 'beritasatu', 'berjumlah', 'berkali', 'berkali-berkali', 'berkali-kali', 'berkata', 'berkehendak', 'berkeinginan', 'berkenaan', 'berlainan', 'berlaku', 'berlalu', 'berlangsung', 'berlebihan', 'bermacam', 'bermacam-macam', 'bermaksud', 'bermula', 'bersama', 'bersama-sama', 'bersiap', 'bersiap-siap', 'bertanya', 'bertanya-tanya', 'bertapa', 'berturut', 'berturut-turut', 'bertutur', 'berujar', 'berulang-kali', 'berulangkali', 'berupa', 'beserta', 'betul', 'betulkah', 'biasa', 'biasanya', 'bila', 'bilakah', 'bilamana', 'bisa', 'bisa-bisa', 'bisakah', 'bisanya', 'bocorannya', 'bocornya', 'boleh', 'boleh-boleh', 'bolehkah', 'bolehlah', 'bolehnya', 'bu', 'buat', 'buat-buat', 'bukan', 'bukankah', 'bukanlah', 'bukannya', 'bulan', 'bung', 'cara', 'caranya', 'ceileh', 'cieegitu', 'cieleh', 'ciri', 'ciri-ciri', 'cm', 'co', 'contoh', 'contohnya', 'cok', 'cuitannya', 'cuk', 'cukup', 'cukup-cukup', 'cukupkah', 'cukuplah', 'cukuuppp', 'cuma', 'cuma-cuma', 'cuy', 'dahulu', 'dalam', 'dalam-dalam', 'dan', 'dapat', 'dapat-dapat', 'dari', 'dariada', 'darimana', 'daripada', 'darisana', 'datang', 'deg', 'deg-degan', 'degan', 'dekat', 'demi', 'demikian', 'demikianlah', 'demonstran', 'dengan', 'depan', 'depan-depan', 'detail', 'di', 'dia', 'diakhiri', 'diakhirinya', 'dialah', 'diantara', 'diantaranya', 'dibagi-bagi', 'diberi', 'diberikan', 'diberikannya', 'dibuat', 'dibuatnya', 'didapat', 'didatangkan', 'digunakan', 'diibaratkan', 'diibaratkannya', 'diingat', 'diingatkan', 'diinginkan', 'dijamu', 'dijawab', 'dijelaskan', 'dijelaskannya', 'dikarenakan', 'dikatakan', 'dikatakannya', 'dikerjakan', 'diketahui', 'diketahuinya', 'dikira', 'dilakukan', 'dilalui', 'dilihat', 'dimaksud', 'dimaksudkan', 'dimaksudkannya', 'dimaksudnya', 'dimana', 'diminta', 'dimintai', 'dimisalkan', 'dimulai', 'dimulailah', 'dimulainya', 'dimungkinkan', 'dini', 'dipastikan', 'diperbuat', 'diperbuatnya', 'dipergunakan', 'diperkirakan', 'diperlihatkan', 'diperlukan', 'diperlukannya', 'diperoleh', 'dipersoalkan', 'dipertanyakan', 'dipidana', 'dipunyai', 'diri', 'dirinya', 'disampaikan', 'disana', 'disebut', 'disebutkan', 'disebutkannya', 'disini', 'disinilah', 'disitu', 'ditambahkan', 'ditandaskan', 'ditanya', 'ditanyai', 'ditanyakan', 'ditegaskan', 'ditujukan', 'ditunjuk', 'ditunjuki', 'ditunjukkan', 'ditunjukkannya', 'ditunjuknya', 'dituturkan', 'dituturkannya', 'diucapkan', 'diucapkannya', 'diungkapkan', 'diwaktu', 'diyakini', 'dkk', 'dll', 'doang', 'dong', 'doonggg', 'dsb', 'dst', 'dua', 'dulu', 'efektifkah', 'eleh', 'emang', 'empat', 'engkaulah', 'entah', 'entahlah', 'enyahlah', 'exsitu', 'gitu', 'gitu-gitu', 'gua', 'gue', 'gue-gue', 'guna', 'guna-guna', 'gunakan', 'halah', 'hampir', 'hampir-hampir', 'hanya', 'hanyalah', 'hari', 'harus', 'haruslah', 'harusnya', 'hendak', 'hendaklah', 'hendaknya', 'http', 'ia', 'ialah', 'ibarat', 'ibaratkan', 'ibaratnya', 'ibu', 'ikut', 'infonitas', 'ingat', 'ingat-ingat', 'ingin', 'ingin-ingin', 'inginkah', 'inginkan', 'ini', 'ini-ini', 'ini-itu', 'ini-kesini', 'inikah', 'inilah', 'insitu', 'insyaallah', 'itu', 'itu-begitu', 'itu-itu', 'itukah', 'itulah', 'iya', 'jadi', 'jadilah', 'jadinya', 'jangan', 'jangankan', 'janganlah', 'jarang', 'jarang-jarang', 'jauh', 'jawab', 'jawaban', 'jawabnya', 'jelas', 'jelaskan', 'jelaslah', 'jelasnya', 'jika', 'jikalau', 'jikapun', 'juga', 'jumat', 'jumlah', 'jumlahnya', 'juru', 'justru', 'kabarin', 'kabarkota', 'kadang', 'kadang-kadang', 'kala', 'kalapun', 'kalau', 'kalau-kalau', 'kalaulah', 'kalaupun', 'kali', 'kalian', 'kalianlah', 'kalopun', 'kami', 'kami-kami', 'kamilah', 'kamipun', 'kamis', 'kamu', 'kamu-kamu', 'kamulah', 'kamupun', 'kan', 'kandaskan', 'kapan', 'kapan-kapan', 'kapankah', 'kapanpun', 'karena', 'karena-karena', 'karenanya', 'kasus', 'kata', 'katakan', 'katakanlah', 'katamu', 'katanya', 'kau', 'kau-lah', 'kaulah', 'ke', 'keadaan', 'kebetulan', 'kecil', 'kecuali', 'kedua', 'keduanya', 'keinginan', 'kelamaan', 'kelihatan', 'kelihatannya', 'kelima', 'keluar', 'kembali', 'kemudian', 'kemungkinan', 'kemungkinannya', 'kenapa', 'kenapa-kenapa', 'kenapa-napa', 'kendati', 'kepada', 'kepada-kepada', 'kepadanya', 'kerap', 'kesampaian', 'keseluruhan', 'keseluruhannya', 'keterlaluan', 'ketika', 'ketimbang', 'kewaspada', 'kg', 'khususnya', 'kini', 'kinilah', 'kira', 'kira-kira', 'kira-kiranya', 'kiranya', 'kita', 'kita-kita', 'kitalah', 'km', 'kok', 'kurang', 'kurang-kurang', 'kurang-lebih', 'lagi', 'lagi-lagi', 'lagian', 'lagilah', 'lagipula', 'lah', 'laik', 'lain', 'lainnya', 'lalu', 'lalulah', 'lama', 'lamanya', 'lanjut', 'lanjutnya', 'lantaran', 'layaklah', 'layaknya', 'lebih', 'lebih-lebih', 'lewat', 'lima', 'lt', 'luar', 'lur', 'macam', 'mah', 'maka', 'makanya', 'makasih', 'makin', 'makin-makin', 'malah', 'malahan', 'mampu', 'mampukah', 'mana', 'manakala', 'manalagi', 'manasih', 'mas', 'masa', 'masalah', 'masalahnya', 'masih', 'masih-masih', 'masihkah', 'masing', 'masing-masing', 'mau', 'mau-mau', 'maupun', 'mba', 'melainkan', 'melakukan', 'melalui', 'melihat', 'melihatnya', 'memang', 'memang-memang', 'memangnya', 'memastikan', 'memberi', 'memberikan', 'membuat', 'memerlukan', 'memihak', 'meminta', 'memintakan', 'memisalkan', 'memperbuat', 'mempergunakan', 'memperkirakan', 'memperlihatkan', 'mempersiapkan', 'mempersoalkan', 'mempertanyakan', 'mempunyai', 'memulai', 'memungkinkan', 'menaiki', 'menambahkan', 'menandaskan', 'menanti', 'menanti-nanti', 'menantikan', 'menanya', 'menanyai', 'menanyakan', 'mendapat', 'mendapatkan', 'mendatang', 'mendatangi', 'mendatangkan', 'menegaskan', 'mengakhiri', 'mengakhirkan', 'mengapa', 'mengatakan', 'mengatakannya', 'mengenai', 'mengerjakan', 'mengetahui', 'menggunakan', 'menghendaki', 'mengibaratkan', 'mengibaratkannya', 'mengingat', 'mengingatkan', 'menginginkan', 'mengira', 'mengucapkan', 'mengucapkannya', 'mengungkapkan', 'menjadi', 'menjawab', 'menjelaskan', 'menuju', 'menunjuk', 'menunjuki', 'menunjukkan', 'menunjuknya', 'menurut', 'menurutmu', 'menurutnya', 'menuturkan', 'menyampaikan', 'menyangkut', 'menyatakan', 'menyebutkan', 'menyeluruh', 'menyiapkan', 'merahputih', 'merasa', 'merdeka', 'mereka', 'mereka-mereka', 'mereka-reka', 'merekalah', 'merupakan', 'meski', 'meskipun', 'mesti', 'mestinya', 'mestipun', 'meyakini', 'meyakinkan', 'milih', 'milih-milih', 'minggu', 'minta', 'mirip', 'mirisnya', 'misal', 'misalkan', 'misalnya', 'mula', 'mula-mula', 'mulai', 'mulailah', 'mulanya', 'mungkin', 'mungkin-mungkin', 'mungkinkah', 'nah', 'naik', 'namun', 'nanti', 'nantinya', 'nanya', 'nanya-nanya', 'netralitas', 'nya', 'nyaris', 'nyata-nyatanya', 'nyatanya', 'oke', 'oleh', 'olehnya', 'pada', 'padahal', 'padanya', 'pak', 'paling', 'paling-paling', 'panjang', 'pantas', 'para', 'pas', 'pasti', 'pastilah', 'pengen', 'pingin', 'penting', 'pentingnya', 'per', 'percuma', 'perihal', 'perlu', 'perlu-perlu', 'perlukah', 'perlunya', 'pernah', 'persoalan', 'pertama', 'pertama-tama', 'pertanyaan', 'pertanyakan', 'pihak', 'pihaknya', 'pukul', 'pula', 'pun', 'punya', 'rabu', 'rasa', 'rasa-rasanya', 'rasanya', 'rata', 'rata-ratanya', 'rupa-rupanya', 'rupanya', 'rute', 'saat', 'saat-saat', 'saatnya', 'sabtu', 'safaat', 'sahaja', 'saja', 'sajalah', 'saling', 'sama', 'sama-sama', 'sambil', 'sampai', 'sampai-sampai', 'sampaikan', 'sana', 'sana-sana', 'sanalah', 'sang', 'sangalah', 'sangat', 'sangat-lah', 'sangat-sangat', 'sangatlah', 'sangking', 'sanglah', 'santailah', 'satu', 'satu-pun', 'satuanya', 'satunya', 'satupun', 'saya', 'sayalah', 'se', 'seadanya', 'seandainya', 'sebab', 'sebab-musabab', 'sebab-musababnya', 'sebab-sebab', 'sebab-sebabnya', 'sebabnya', 'sebagai', 'sebagai-nya', 'sebagai-sebagainya', 'sebagaimana', 'sebagaimananya', 'sebagaimanapun', 'sebagain', 'sebagainya', 'sebagian', 'sebagiannya', 'sebaginya', 'sebaik', 'sebaik-baiknya', 'sebaiknya', 'sebaliknya', 'sebanyak', 'sebegini', 'sebegitu', 'sebegitunya', 'sebelahnya', 'sebelahya', 'sebelum', 'sebelum-nya', 'sebelum-sebelum', 'sebelum-sebelumnya', 'sebelumnya', 'sebelumnya-belum', 'sebelumnya-misalnya', 'sebelumnya-sebelumnya', 'sebenar-benarnya', 'sebenarnya', 'sebenernya', 'seberangnya', 'seberapa', 'seberapanya', 'seberapapun', 'sebetuknya', 'sebetulnya', 'sebisanya', 'sebuah', 'sebut', 'sebutannya', 'sebutlah', 'sebutnya', 'secara', 'secukupnya', 'secukupunya', 'sedalam-dalamnya', 'sedang', 'sedang-sedang', 'sedangkan', 'sedangnya', 'sedangpun', 'sedari', 'sedarinya', 'sedemikian', 'sedemikiannya', 'sederajatnya', 'sediakalanya', 'sediakan', 'sedianya', 'sedikit', 'sedikitnya', 'seenaknya', 'segala', 'segala-galanya', 'segalanya', 'segamblang-gamblangnya', 'segera', 'segerakan', 'segeranya', 'segini-gininya', 'segininya', 'segitu', 'segitu-gitu', 'segitu-segitu', 'segitunya', 'segmen-nya', 'segmen-segmennya', 'segmennya', 'segmentasinya', 'sehalu', 'sehari', 'sehari-harinya', 'sehari-seharinya', 'seharinya', 'seharusnya', 'sehelainya', 'sehingga', 'sehingganya', 'seikhlasnya', 'seiklasnya', 'seimbangnya', 'seingat', 'seiringnya', 'sejak', 'sejatinya', 'sejauh', 'sejelas-jelasnya', 'sejenak', 'sejenak-sejenak', 'sejenisnya', 'sejumlah', 'sekadar', 'sekadarnya', 'sekali', 'sekali-kali', 'sekali-sekali', 'sekalian', 'sekaligus', 'sekalinya', 'sekalinyapun', 'sekalipun', 'sekarang', 'sekarangpun', 'sekedar', 'seketika', 'sekian', 'sekian-sekian', 'sekilas', 'sekira', 'sekiranya', 'sekitar', 'sekitarnya', 'sekitarnyapun', 'sekurang-kurangnya', 'sekurangnya', 'sela', 'selaiknya', 'selain', 'selainnya', 'selaku', 'selalu', 'selama', 'selama-lamanya', 'selamanya', 'selanjutnya', 'selasa', 'selesain', 'selesainya', 'seluruh', 'seluruhnya', 'semacam', 'semacamnya', 'semakin', 'semampu', 'semampunya', 'semaraknya', 'semasa', 'semasih', 'semata', 'semata-mata', 'semaunya', 'sembarang', 'sembarangannya', 'semenjak', 'sementara', 'sementaranya', 'semestinya', 'semisal', 'semisalnya', 'sempat', 'sempat-sempat', 'sempat-sempatnya', 'sempatin', 'sempatnya', 'sempet-sempetnya', 'sempetin', 'sempetnya', 'semua', 'semuanya', 'semula', 'sendiri', 'sendirian', 'sendirinya', 'senin', 'seolah', 'seolah-olah', 'seorang', 'seorangnya', 'seorangpun', 'sepanjang', 'sepantarnya', 'sepantasnya', 'sepantasnyalah', 'sepengamatannya', 'sepengetahuannya', 'sepenuhnya', 'seperlunya', 'seperti', 'sepertihalnya', 'sepertinya', 'sepihak', 'seputar', 'seputarannya', 'seputarnya', 'sering', 'sering-sering', 'sering-seringnya', 'seringnya', 'serius', 'serta', 'serta-mereta', 'serta-merta', 'sertamerta', 'serupa', 'sesaat', 'sesama', 'sesamanya', 'sesampai', 'sesampainya', 'sesegera', 'sesegeranya', 'sesekali', 'sesempatnya', 'seseorang', 'sesuainya', 'sesuatu', 'sesuatunya', 'sesuatupun', 'sesudah', 'sesudahnya', 'sesungguhnya', 'setelah', 'setelahnya', 'setempat', 'setengah', 'seterusnya', 'seterusnya-seterusnya', 'seterusnyalah', 'setiap', 'setiba', 'setibanya', 'setinggi', 'seumpamanya', 'seusai', 'seusainya', 'seutuhnya', 'sewaktu', 'seyakin', 'seyakin-yakinnya', 'seyogianya', 'si', 'siap', 'siapa', 'siapa-siapa', 'siapakah', 'siapalah', 'siapapun', 'siapasih', 'sih', 'sini', 'sini-sini', 'sinilah', 'sinipun', 'situ', 'situ-situ', 'soal', 'soalnya', 'suara', 'suatu', 'sudah', 'sudah-sudah', 'sudahkah', 'sudahlah', 'sungguh', 'sungguh-sungguh', 'supaya', 'suratkabar', 'tadi', 'tadi-tadi', 'tadinya', 'tahu', 'tahun', 'tambah', 'tambahnya', 'tampak', 'tampaknya', 'tandas', 'tandasnya', 'tanpa', 'tanya', 'tanyakan', 'tanyanya', 'tapi', 'tapi-tapi', 'tatkala', 'tegas', 'tegasnya', 'telaah', 'telah', 'tempat', 'tengah', 'tengahlah', 'tentang', 'tentu', 'tentulah', 'tentunya', 'tepat', 'tepatnya', 'terakhir', 'terasa', 'terbanyak', 'terbilang', 'terdahulu', 'terdapat', 'terdiri', 'terhadap', 'terhadapnya', 'teringat', 'teringat-ingat', 'terjadi', 'terjadilah', 'terjadinya', 'terkadang', 'terkira', 'terlalu', 'terlalu-terlalu', 'terlebih', 'terlihat', 'termasuk', 'ternyata', 'tersampaikan', 'tersebut', 'tersebutlah', 'tertarik', 'tertentu', 'tertuju', 'terus', 'terus-menerus', 'terus-terus', 'terutama', 'tetap', 'tetapi', 'tetaplah', 'tetapnya', 'tiap', 'tiba', 'tiba-tiba', 'tidak', 'tidakkah', 'tidaklah', 'tiga', 'tinggi', 'toh', 'ton', 'tunjuk', 'turut', 'tutur', 'tuturnya', 'ucap', 'ucapnya', 'udah', 'udah-udah', 'ujar', 'ujarnya', 'umpamanya', 'umum', 'umum-nya', 'umumnya', 'ungkap', 'ungkapnya', 'untuk', 'untuk-untuk', 'usah', 'usai', 'via', 'waduh', 'wah', 'wahai', 'waktu', 'waktunya', 'walau', 'walaupun', 'walhasil', 'walopun', 'wow', 'www', 'ya', 'yaitu', 'yakin', 'yakni', 'yang', 'yg']\n"
          ]
        }
      ]
    },
    {
      "cell_type": "code",
      "source": [
        "dokumen = [\"Pengertian Lagu Wajib beserta Ciri Ciri Lirik dan Contohnya\"]"
      ],
      "metadata": {
        "id": "V97PB9Kpfpcq"
      },
      "execution_count": 3,
      "outputs": []
    },
    {
      "cell_type": "markdown",
      "source": [
        "### Count Vectorizer"
      ],
      "metadata": {
        "id": "64lVKBsyYEia"
      }
    },
    {
      "cell_type": "code",
      "source": [
        "vectorizer = CountVectorizer()\n",
        "count_vector = vectorizer.fit_transform(dokumen)\n",
        "#fit untuk train, transform untuk test, jika datasetnya dibagi jadi test dan train"
      ],
      "metadata": {
        "id": "ZI_ztLNQfuMO"
      },
      "execution_count": 5,
      "outputs": []
    },
    {
      "cell_type": "code",
      "source": [
        "# menunjukkan vocabulary yang dihasilkan; normornya tidak dihitung, itu adalah posisi dalam sparse vektor.\n",
        "vectorizer.vocabulary_"
      ],
      "metadata": {
        "id": "BtwY8RgufuVm",
        "colab": {
          "base_uri": "https://localhost:8080/"
        },
        "outputId": "a8b85dc7-59d3-48d6-e886-dda214d88ff0"
      },
      "execution_count": 6,
      "outputs": [
        {
          "output_type": "execute_result",
          "data": {
            "text/plain": [
              "{'pengertian': 6,\n",
              " 'lagu': 4,\n",
              " 'wajib': 7,\n",
              " 'beserta': 0,\n",
              " 'ciri': 1,\n",
              " 'lirik': 5,\n",
              " 'dan': 3,\n",
              " 'contohnya': 2}"
            ]
          },
          "metadata": {},
          "execution_count": 6
        }
      ]
    },
    {
      "cell_type": "code",
      "source": [
        "# shape matriks. 1 dokumen, 8 kata unik\n",
        "count_vector.shape"
      ],
      "metadata": {
        "id": "TSAadXT_fud5",
        "colab": {
          "base_uri": "https://localhost:8080/"
        },
        "outputId": "1822382e-7c16-497c-d793-5a6de915b516"
      },
      "execution_count": 7,
      "outputs": [
        {
          "output_type": "execute_result",
          "data": {
            "text/plain": [
              "(1, 8)"
            ]
          },
          "metadata": {},
          "execution_count": 7
        }
      ]
    },
    {
      "cell_type": "code",
      "source": [
        "# isi dari text vectorization\n",
        "print(count_vector)"
      ],
      "metadata": {
        "id": "d0LEsrYgfuhp",
        "colab": {
          "base_uri": "https://localhost:8080/"
        },
        "outputId": "e8fabf2c-e86e-4ec9-e1c6-25f1ed1caaae"
      },
      "execution_count": 8,
      "outputs": [
        {
          "output_type": "stream",
          "name": "stdout",
          "text": [
            "  (0, 6)\t1\n",
            "  (0, 4)\t1\n",
            "  (0, 7)\t1\n",
            "  (0, 0)\t1\n",
            "  (0, 1)\t2\n",
            "  (0, 5)\t1\n",
            "  (0, 3)\t1\n",
            "  (0, 2)\t1\n"
          ]
        }
      ]
    },
    {
      "cell_type": "code",
      "source": [
        "count_array = count_vector.toarray()\n",
        "df = pd.DataFrame(data=count_array, columns = vectorizer.get_feature_names_out()) # untuk scikit learn baru, menggunakan get_feature_names()\n",
        "df"
      ],
      "metadata": {
        "id": "vfXgV6E4lufg",
        "colab": {
          "base_uri": "https://localhost:8080/",
          "height": 89
        },
        "outputId": "0f5b9588-67b2-4253-c44e-c63f41d95085"
      },
      "execution_count": 9,
      "outputs": [
        {
          "output_type": "execute_result",
          "data": {
            "text/plain": [
              "   beserta  ciri  contohnya  dan  lagu  lirik  pengertian  wajib\n",
              "0        1     2          1    1     1      1           1      1"
            ],
            "text/html": [
              "\n",
              "  <div id=\"df-79498a9f-9620-4fd8-99dd-06969c5622c5\" class=\"colab-df-container\">\n",
              "    <div>\n",
              "<style scoped>\n",
              "    .dataframe tbody tr th:only-of-type {\n",
              "        vertical-align: middle;\n",
              "    }\n",
              "\n",
              "    .dataframe tbody tr th {\n",
              "        vertical-align: top;\n",
              "    }\n",
              "\n",
              "    .dataframe thead th {\n",
              "        text-align: right;\n",
              "    }\n",
              "</style>\n",
              "<table border=\"1\" class=\"dataframe\">\n",
              "  <thead>\n",
              "    <tr style=\"text-align: right;\">\n",
              "      <th></th>\n",
              "      <th>beserta</th>\n",
              "      <th>ciri</th>\n",
              "      <th>contohnya</th>\n",
              "      <th>dan</th>\n",
              "      <th>lagu</th>\n",
              "      <th>lirik</th>\n",
              "      <th>pengertian</th>\n",
              "      <th>wajib</th>\n",
              "    </tr>\n",
              "  </thead>\n",
              "  <tbody>\n",
              "    <tr>\n",
              "      <th>0</th>\n",
              "      <td>1</td>\n",
              "      <td>2</td>\n",
              "      <td>1</td>\n",
              "      <td>1</td>\n",
              "      <td>1</td>\n",
              "      <td>1</td>\n",
              "      <td>1</td>\n",
              "      <td>1</td>\n",
              "    </tr>\n",
              "  </tbody>\n",
              "</table>\n",
              "</div>\n",
              "    <div class=\"colab-df-buttons\">\n",
              "\n",
              "  <div class=\"colab-df-container\">\n",
              "    <button class=\"colab-df-convert\" onclick=\"convertToInteractive('df-79498a9f-9620-4fd8-99dd-06969c5622c5')\"\n",
              "            title=\"Convert this dataframe to an interactive table.\"\n",
              "            style=\"display:none;\">\n",
              "\n",
              "  <svg xmlns=\"http://www.w3.org/2000/svg\" height=\"24px\" viewBox=\"0 -960 960 960\">\n",
              "    <path d=\"M120-120v-720h720v720H120Zm60-500h600v-160H180v160Zm220 220h160v-160H400v160Zm0 220h160v-160H400v160ZM180-400h160v-160H180v160Zm440 0h160v-160H620v160ZM180-180h160v-160H180v160Zm440 0h160v-160H620v160Z\"/>\n",
              "  </svg>\n",
              "    </button>\n",
              "\n",
              "  <style>\n",
              "    .colab-df-container {\n",
              "      display:flex;\n",
              "      gap: 12px;\n",
              "    }\n",
              "\n",
              "    .colab-df-convert {\n",
              "      background-color: #E8F0FE;\n",
              "      border: none;\n",
              "      border-radius: 50%;\n",
              "      cursor: pointer;\n",
              "      display: none;\n",
              "      fill: #1967D2;\n",
              "      height: 32px;\n",
              "      padding: 0 0 0 0;\n",
              "      width: 32px;\n",
              "    }\n",
              "\n",
              "    .colab-df-convert:hover {\n",
              "      background-color: #E2EBFA;\n",
              "      box-shadow: 0px 1px 2px rgba(60, 64, 67, 0.3), 0px 1px 3px 1px rgba(60, 64, 67, 0.15);\n",
              "      fill: #174EA6;\n",
              "    }\n",
              "\n",
              "    .colab-df-buttons div {\n",
              "      margin-bottom: 4px;\n",
              "    }\n",
              "\n",
              "    [theme=dark] .colab-df-convert {\n",
              "      background-color: #3B4455;\n",
              "      fill: #D2E3FC;\n",
              "    }\n",
              "\n",
              "    [theme=dark] .colab-df-convert:hover {\n",
              "      background-color: #434B5C;\n",
              "      box-shadow: 0px 1px 3px 1px rgba(0, 0, 0, 0.15);\n",
              "      filter: drop-shadow(0px 1px 2px rgba(0, 0, 0, 0.3));\n",
              "      fill: #FFFFFF;\n",
              "    }\n",
              "  </style>\n",
              "\n",
              "    <script>\n",
              "      const buttonEl =\n",
              "        document.querySelector('#df-79498a9f-9620-4fd8-99dd-06969c5622c5 button.colab-df-convert');\n",
              "      buttonEl.style.display =\n",
              "        google.colab.kernel.accessAllowed ? 'block' : 'none';\n",
              "\n",
              "      async function convertToInteractive(key) {\n",
              "        const element = document.querySelector('#df-79498a9f-9620-4fd8-99dd-06969c5622c5');\n",
              "        const dataTable =\n",
              "          await google.colab.kernel.invokeFunction('convertToInteractive',\n",
              "                                                    [key], {});\n",
              "        if (!dataTable) return;\n",
              "\n",
              "        const docLinkHtml = 'Like what you see? Visit the ' +\n",
              "          '<a target=\"_blank\" href=https://colab.research.google.com/notebooks/data_table.ipynb>data table notebook</a>'\n",
              "          + ' to learn more about interactive tables.';\n",
              "        element.innerHTML = '';\n",
              "        dataTable['output_type'] = 'display_data';\n",
              "        await google.colab.output.renderOutput(dataTable, element);\n",
              "        const docLink = document.createElement('div');\n",
              "        docLink.innerHTML = docLinkHtml;\n",
              "        element.appendChild(docLink);\n",
              "      }\n",
              "    </script>\n",
              "  </div>\n",
              "\n",
              "\n",
              "  <div id=\"id_522558ff-7dcd-41a8-9b63-e22c6c3c4cd3\">\n",
              "    <style>\n",
              "      .colab-df-generate {\n",
              "        background-color: #E8F0FE;\n",
              "        border: none;\n",
              "        border-radius: 50%;\n",
              "        cursor: pointer;\n",
              "        display: none;\n",
              "        fill: #1967D2;\n",
              "        height: 32px;\n",
              "        padding: 0 0 0 0;\n",
              "        width: 32px;\n",
              "      }\n",
              "\n",
              "      .colab-df-generate:hover {\n",
              "        background-color: #E2EBFA;\n",
              "        box-shadow: 0px 1px 2px rgba(60, 64, 67, 0.3), 0px 1px 3px 1px rgba(60, 64, 67, 0.15);\n",
              "        fill: #174EA6;\n",
              "      }\n",
              "\n",
              "      [theme=dark] .colab-df-generate {\n",
              "        background-color: #3B4455;\n",
              "        fill: #D2E3FC;\n",
              "      }\n",
              "\n",
              "      [theme=dark] .colab-df-generate:hover {\n",
              "        background-color: #434B5C;\n",
              "        box-shadow: 0px 1px 3px 1px rgba(0, 0, 0, 0.15);\n",
              "        filter: drop-shadow(0px 1px 2px rgba(0, 0, 0, 0.3));\n",
              "        fill: #FFFFFF;\n",
              "      }\n",
              "    </style>\n",
              "    <button class=\"colab-df-generate\" onclick=\"generateWithVariable('df')\"\n",
              "            title=\"Generate code using this dataframe.\"\n",
              "            style=\"display:none;\">\n",
              "\n",
              "  <svg xmlns=\"http://www.w3.org/2000/svg\" height=\"24px\"viewBox=\"0 0 24 24\"\n",
              "       width=\"24px\">\n",
              "    <path d=\"M7,19H8.4L18.45,9,17,7.55,7,17.6ZM5,21V16.75L18.45,3.32a2,2,0,0,1,2.83,0l1.4,1.43a1.91,1.91,0,0,1,.58,1.4,1.91,1.91,0,0,1-.58,1.4L9.25,21ZM18.45,9,17,7.55Zm-12,3A5.31,5.31,0,0,0,4.9,8.1,5.31,5.31,0,0,0,1,6.5,5.31,5.31,0,0,0,4.9,4.9,5.31,5.31,0,0,0,6.5,1,5.31,5.31,0,0,0,8.1,4.9,5.31,5.31,0,0,0,12,6.5,5.46,5.46,0,0,0,6.5,12Z\"/>\n",
              "  </svg>\n",
              "    </button>\n",
              "    <script>\n",
              "      (() => {\n",
              "      const buttonEl =\n",
              "        document.querySelector('#id_522558ff-7dcd-41a8-9b63-e22c6c3c4cd3 button.colab-df-generate');\n",
              "      buttonEl.style.display =\n",
              "        google.colab.kernel.accessAllowed ? 'block' : 'none';\n",
              "\n",
              "      buttonEl.onclick = () => {\n",
              "        google.colab.notebook.generateWithVariable('df');\n",
              "      }\n",
              "      })();\n",
              "    </script>\n",
              "  </div>\n",
              "\n",
              "    </div>\n",
              "  </div>\n"
            ],
            "application/vnd.google.colaboratory.intrinsic+json": {
              "type": "dataframe",
              "variable_name": "df",
              "summary": "{\n  \"name\": \"df\",\n  \"rows\": 1,\n  \"fields\": [\n    {\n      \"column\": \"beserta\",\n      \"properties\": {\n        \"dtype\": \"number\",\n        \"std\": null,\n        \"min\": 1,\n        \"max\": 1,\n        \"num_unique_values\": 1,\n        \"samples\": [\n          1\n        ],\n        \"semantic_type\": \"\",\n        \"description\": \"\"\n      }\n    },\n    {\n      \"column\": \"ciri\",\n      \"properties\": {\n        \"dtype\": \"number\",\n        \"std\": null,\n        \"min\": 2,\n        \"max\": 2,\n        \"num_unique_values\": 1,\n        \"samples\": [\n          2\n        ],\n        \"semantic_type\": \"\",\n        \"description\": \"\"\n      }\n    },\n    {\n      \"column\": \"contohnya\",\n      \"properties\": {\n        \"dtype\": \"number\",\n        \"std\": null,\n        \"min\": 1,\n        \"max\": 1,\n        \"num_unique_values\": 1,\n        \"samples\": [\n          1\n        ],\n        \"semantic_type\": \"\",\n        \"description\": \"\"\n      }\n    },\n    {\n      \"column\": \"dan\",\n      \"properties\": {\n        \"dtype\": \"number\",\n        \"std\": null,\n        \"min\": 1,\n        \"max\": 1,\n        \"num_unique_values\": 1,\n        \"samples\": [\n          1\n        ],\n        \"semantic_type\": \"\",\n        \"description\": \"\"\n      }\n    },\n    {\n      \"column\": \"lagu\",\n      \"properties\": {\n        \"dtype\": \"number\",\n        \"std\": null,\n        \"min\": 1,\n        \"max\": 1,\n        \"num_unique_values\": 1,\n        \"samples\": [\n          1\n        ],\n        \"semantic_type\": \"\",\n        \"description\": \"\"\n      }\n    },\n    {\n      \"column\": \"lirik\",\n      \"properties\": {\n        \"dtype\": \"number\",\n        \"std\": null,\n        \"min\": 1,\n        \"max\": 1,\n        \"num_unique_values\": 1,\n        \"samples\": [\n          1\n        ],\n        \"semantic_type\": \"\",\n        \"description\": \"\"\n      }\n    },\n    {\n      \"column\": \"pengertian\",\n      \"properties\": {\n        \"dtype\": \"number\",\n        \"std\": null,\n        \"min\": 1,\n        \"max\": 1,\n        \"num_unique_values\": 1,\n        \"samples\": [\n          1\n        ],\n        \"semantic_type\": \"\",\n        \"description\": \"\"\n      }\n    },\n    {\n      \"column\": \"wajib\",\n      \"properties\": {\n        \"dtype\": \"number\",\n        \"std\": null,\n        \"min\": 1,\n        \"max\": 1,\n        \"num_unique_values\": 1,\n        \"samples\": [\n          1\n        ],\n        \"semantic_type\": \"\",\n        \"description\": \"\"\n      }\n    }\n  ]\n}"
            }
          },
          "metadata": {},
          "execution_count": 9
        }
      ]
    },
    {
      "cell_type": "code",
      "source": [
        "# dengan data lebih banyak\n",
        "data = [\n",
        "    \"Pengertian Lagu Wajib beserta Ciri Lirik dan Contohnya\",\n",
        "    \"Lirik Lagu Indonesia Raya\",\n",
        "    \"Penjelasan Mengenai Metronome dan Fungsinya dalam Musik\",\n",
        "    \"Ulasan tentang Ekonomi Kreatif beserta Ciri-Ciri dan Manfaatnya\",\n",
        "    \"Ragam Kerajinan Khas yang Terdapat di Indonesia\"\n",
        "]"
      ],
      "metadata": {
        "id": "mZO-w_1D5NRM"
      },
      "execution_count": 10,
      "outputs": []
    },
    {
      "cell_type": "code",
      "source": [
        "tmp=[]\n",
        "for i  in data:\n",
        "  for j in i.split():\n",
        "    tmp.append(j.lower())"
      ],
      "metadata": {
        "id": "eX8c4dQRZG5b"
      },
      "execution_count": 11,
      "outputs": []
    },
    {
      "cell_type": "code",
      "source": [
        "tmp"
      ],
      "metadata": {
        "colab": {
          "base_uri": "https://localhost:8080/"
        },
        "id": "0lbEooSrZQ4Z",
        "outputId": "1454b503-66ee-4bc8-fe24-bc3e10f37b8c"
      },
      "execution_count": 12,
      "outputs": [
        {
          "output_type": "execute_result",
          "data": {
            "text/plain": [
              "['pengertian',\n",
              " 'lagu',\n",
              " 'wajib',\n",
              " 'beserta',\n",
              " 'ciri',\n",
              " 'lirik',\n",
              " 'dan',\n",
              " 'contohnya',\n",
              " 'lirik',\n",
              " 'lagu',\n",
              " 'indonesia',\n",
              " 'raya',\n",
              " 'penjelasan',\n",
              " 'mengenai',\n",
              " 'metronome',\n",
              " 'dan',\n",
              " 'fungsinya',\n",
              " 'dalam',\n",
              " 'musik',\n",
              " 'ulasan',\n",
              " 'tentang',\n",
              " 'ekonomi',\n",
              " 'kreatif',\n",
              " 'beserta',\n",
              " 'ciri-ciri',\n",
              " 'dan',\n",
              " 'manfaatnya',\n",
              " 'ragam',\n",
              " 'kerajinan',\n",
              " 'khas',\n",
              " 'yang',\n",
              " 'terdapat',\n",
              " 'di',\n",
              " 'indonesia']"
            ]
          },
          "metadata": {},
          "execution_count": 12
        }
      ]
    },
    {
      "cell_type": "code",
      "source": [
        "len(tmp)"
      ],
      "metadata": {
        "colab": {
          "base_uri": "https://localhost:8080/"
        },
        "id": "Qy-pRRQeZmMx",
        "outputId": "8f8a6043-a42a-48d5-f206-a57350db17a2"
      },
      "execution_count": 17,
      "outputs": [
        {
          "output_type": "execute_result",
          "data": {
            "text/plain": [
              "34"
            ]
          },
          "metadata": {},
          "execution_count": 17
        }
      ]
    },
    {
      "cell_type": "code",
      "source": [
        "vectorizer = CountVectorizer()\n",
        "count_vector = vectorizer.fit_transform(data)"
      ],
      "metadata": {
        "id": "hej2noLZfGn6"
      },
      "execution_count": 13,
      "outputs": []
    },
    {
      "cell_type": "code",
      "source": [
        "vectorizer.vocabulary_"
      ],
      "metadata": {
        "id": "2o-zuIN2jSvS",
        "colab": {
          "base_uri": "https://localhost:8080/"
        },
        "outputId": "808a9a70-7e52-4602-cde9-5ad05418b729"
      },
      "execution_count": 14,
      "outputs": [
        {
          "output_type": "execute_result",
          "data": {
            "text/plain": [
              "{'pengertian': 18,\n",
              " 'lagu': 12,\n",
              " 'wajib': 25,\n",
              " 'beserta': 0,\n",
              " 'ciri': 1,\n",
              " 'lirik': 13,\n",
              " 'dan': 4,\n",
              " 'contohnya': 2,\n",
              " 'indonesia': 8,\n",
              " 'raya': 21,\n",
              " 'penjelasan': 19,\n",
              " 'mengenai': 15,\n",
              " 'metronome': 16,\n",
              " 'fungsinya': 7,\n",
              " 'dalam': 3,\n",
              " 'musik': 17,\n",
              " 'ulasan': 24,\n",
              " 'tentang': 22,\n",
              " 'ekonomi': 6,\n",
              " 'kreatif': 11,\n",
              " 'manfaatnya': 14,\n",
              " 'ragam': 20,\n",
              " 'kerajinan': 9,\n",
              " 'khas': 10,\n",
              " 'yang': 26,\n",
              " 'terdapat': 23,\n",
              " 'di': 5}"
            ]
          },
          "metadata": {},
          "execution_count": 14
        }
      ]
    },
    {
      "cell_type": "code",
      "source": [
        "len(vectorizer.vocabulary_)"
      ],
      "metadata": {
        "colab": {
          "base_uri": "https://localhost:8080/"
        },
        "id": "nOOw0dO5Zq7F",
        "outputId": "99903570-9e87-479f-bdcd-2d6814378e61"
      },
      "execution_count": 18,
      "outputs": [
        {
          "output_type": "execute_result",
          "data": {
            "text/plain": [
              "27"
            ]
          },
          "metadata": {},
          "execution_count": 18
        }
      ]
    },
    {
      "cell_type": "code",
      "source": [
        "print(count_vector)"
      ],
      "metadata": {
        "colab": {
          "base_uri": "https://localhost:8080/"
        },
        "id": "ojCeFG541HM5",
        "outputId": "6f58d94f-7ac2-46d1-fe68-20ea9f72b4e5"
      },
      "execution_count": 19,
      "outputs": [
        {
          "output_type": "stream",
          "name": "stdout",
          "text": [
            "  (0, 18)\t1\n",
            "  (0, 12)\t1\n",
            "  (0, 25)\t1\n",
            "  (0, 0)\t1\n",
            "  (0, 1)\t1\n",
            "  (0, 13)\t1\n",
            "  (0, 4)\t1\n",
            "  (0, 2)\t1\n",
            "  (1, 12)\t1\n",
            "  (1, 13)\t1\n",
            "  (1, 8)\t1\n",
            "  (1, 21)\t1\n",
            "  (2, 4)\t1\n",
            "  (2, 19)\t1\n",
            "  (2, 15)\t1\n",
            "  (2, 16)\t1\n",
            "  (2, 7)\t1\n",
            "  (2, 3)\t1\n",
            "  (2, 17)\t1\n",
            "  (3, 0)\t1\n",
            "  (3, 1)\t2\n",
            "  (3, 4)\t1\n",
            "  (3, 24)\t1\n",
            "  (3, 22)\t1\n",
            "  (3, 6)\t1\n",
            "  (3, 11)\t1\n",
            "  (3, 14)\t1\n",
            "  (4, 8)\t1\n",
            "  (4, 20)\t1\n",
            "  (4, 9)\t1\n",
            "  (4, 10)\t1\n",
            "  (4, 26)\t1\n",
            "  (4, 23)\t1\n",
            "  (4, 5)\t1\n"
          ]
        }
      ]
    },
    {
      "cell_type": "code",
      "source": [
        "count_vector.shape"
      ],
      "metadata": {
        "id": "Q5oHue31jV61",
        "colab": {
          "base_uri": "https://localhost:8080/"
        },
        "outputId": "a03217a7-b339-4d5f-c7e1-7b0c88dccc3a"
      },
      "execution_count": 20,
      "outputs": [
        {
          "output_type": "execute_result",
          "data": {
            "text/plain": [
              "(5, 27)"
            ]
          },
          "metadata": {},
          "execution_count": 20
        }
      ]
    },
    {
      "cell_type": "code",
      "source": [
        "count_array = count_vector.toarray()\n",
        "df = pd.DataFrame(data=count_array, columns = vectorizer.get_feature_names_out()) # untuk scikit learn baru, menggunakan get_feature_names()\n",
        "df"
      ],
      "metadata": {
        "id": "R3EfSKSMmd91",
        "colab": {
          "base_uri": "https://localhost:8080/",
          "height": 255
        },
        "outputId": "a97df5ea-f2f4-435e-fa36-b1dea298433d"
      },
      "execution_count": 21,
      "outputs": [
        {
          "output_type": "execute_result",
          "data": {
            "text/plain": [
              "   beserta  ciri  contohnya  dalam  dan  di  ekonomi  fungsinya  indonesia  \\\n",
              "0        1     1          1      0    1   0        0          0          0   \n",
              "1        0     0          0      0    0   0        0          0          1   \n",
              "2        0     0          0      1    1   0        0          1          0   \n",
              "3        1     2          0      0    1   0        1          0          0   \n",
              "4        0     0          0      0    0   1        0          0          1   \n",
              "\n",
              "   kerajinan  ...  musik  pengertian  penjelasan  ragam  raya  tentang  \\\n",
              "0          0  ...      0           1           0      0     0        0   \n",
              "1          0  ...      0           0           0      0     1        0   \n",
              "2          0  ...      1           0           1      0     0        0   \n",
              "3          0  ...      0           0           0      0     0        1   \n",
              "4          1  ...      0           0           0      1     0        0   \n",
              "\n",
              "   terdapat  ulasan  wajib  yang  \n",
              "0         0       0      1     0  \n",
              "1         0       0      0     0  \n",
              "2         0       0      0     0  \n",
              "3         0       1      0     0  \n",
              "4         1       0      0     1  \n",
              "\n",
              "[5 rows x 27 columns]"
            ],
            "text/html": [
              "\n",
              "  <div id=\"df-101351e6-49d9-4989-b3a3-8ad40dd6c680\" class=\"colab-df-container\">\n",
              "    <div>\n",
              "<style scoped>\n",
              "    .dataframe tbody tr th:only-of-type {\n",
              "        vertical-align: middle;\n",
              "    }\n",
              "\n",
              "    .dataframe tbody tr th {\n",
              "        vertical-align: top;\n",
              "    }\n",
              "\n",
              "    .dataframe thead th {\n",
              "        text-align: right;\n",
              "    }\n",
              "</style>\n",
              "<table border=\"1\" class=\"dataframe\">\n",
              "  <thead>\n",
              "    <tr style=\"text-align: right;\">\n",
              "      <th></th>\n",
              "      <th>beserta</th>\n",
              "      <th>ciri</th>\n",
              "      <th>contohnya</th>\n",
              "      <th>dalam</th>\n",
              "      <th>dan</th>\n",
              "      <th>di</th>\n",
              "      <th>ekonomi</th>\n",
              "      <th>fungsinya</th>\n",
              "      <th>indonesia</th>\n",
              "      <th>kerajinan</th>\n",
              "      <th>...</th>\n",
              "      <th>musik</th>\n",
              "      <th>pengertian</th>\n",
              "      <th>penjelasan</th>\n",
              "      <th>ragam</th>\n",
              "      <th>raya</th>\n",
              "      <th>tentang</th>\n",
              "      <th>terdapat</th>\n",
              "      <th>ulasan</th>\n",
              "      <th>wajib</th>\n",
              "      <th>yang</th>\n",
              "    </tr>\n",
              "  </thead>\n",
              "  <tbody>\n",
              "    <tr>\n",
              "      <th>0</th>\n",
              "      <td>1</td>\n",
              "      <td>1</td>\n",
              "      <td>1</td>\n",
              "      <td>0</td>\n",
              "      <td>1</td>\n",
              "      <td>0</td>\n",
              "      <td>0</td>\n",
              "      <td>0</td>\n",
              "      <td>0</td>\n",
              "      <td>0</td>\n",
              "      <td>...</td>\n",
              "      <td>0</td>\n",
              "      <td>1</td>\n",
              "      <td>0</td>\n",
              "      <td>0</td>\n",
              "      <td>0</td>\n",
              "      <td>0</td>\n",
              "      <td>0</td>\n",
              "      <td>0</td>\n",
              "      <td>1</td>\n",
              "      <td>0</td>\n",
              "    </tr>\n",
              "    <tr>\n",
              "      <th>1</th>\n",
              "      <td>0</td>\n",
              "      <td>0</td>\n",
              "      <td>0</td>\n",
              "      <td>0</td>\n",
              "      <td>0</td>\n",
              "      <td>0</td>\n",
              "      <td>0</td>\n",
              "      <td>0</td>\n",
              "      <td>1</td>\n",
              "      <td>0</td>\n",
              "      <td>...</td>\n",
              "      <td>0</td>\n",
              "      <td>0</td>\n",
              "      <td>0</td>\n",
              "      <td>0</td>\n",
              "      <td>1</td>\n",
              "      <td>0</td>\n",
              "      <td>0</td>\n",
              "      <td>0</td>\n",
              "      <td>0</td>\n",
              "      <td>0</td>\n",
              "    </tr>\n",
              "    <tr>\n",
              "      <th>2</th>\n",
              "      <td>0</td>\n",
              "      <td>0</td>\n",
              "      <td>0</td>\n",
              "      <td>1</td>\n",
              "      <td>1</td>\n",
              "      <td>0</td>\n",
              "      <td>0</td>\n",
              "      <td>1</td>\n",
              "      <td>0</td>\n",
              "      <td>0</td>\n",
              "      <td>...</td>\n",
              "      <td>1</td>\n",
              "      <td>0</td>\n",
              "      <td>1</td>\n",
              "      <td>0</td>\n",
              "      <td>0</td>\n",
              "      <td>0</td>\n",
              "      <td>0</td>\n",
              "      <td>0</td>\n",
              "      <td>0</td>\n",
              "      <td>0</td>\n",
              "    </tr>\n",
              "    <tr>\n",
              "      <th>3</th>\n",
              "      <td>1</td>\n",
              "      <td>2</td>\n",
              "      <td>0</td>\n",
              "      <td>0</td>\n",
              "      <td>1</td>\n",
              "      <td>0</td>\n",
              "      <td>1</td>\n",
              "      <td>0</td>\n",
              "      <td>0</td>\n",
              "      <td>0</td>\n",
              "      <td>...</td>\n",
              "      <td>0</td>\n",
              "      <td>0</td>\n",
              "      <td>0</td>\n",
              "      <td>0</td>\n",
              "      <td>0</td>\n",
              "      <td>1</td>\n",
              "      <td>0</td>\n",
              "      <td>1</td>\n",
              "      <td>0</td>\n",
              "      <td>0</td>\n",
              "    </tr>\n",
              "    <tr>\n",
              "      <th>4</th>\n",
              "      <td>0</td>\n",
              "      <td>0</td>\n",
              "      <td>0</td>\n",
              "      <td>0</td>\n",
              "      <td>0</td>\n",
              "      <td>1</td>\n",
              "      <td>0</td>\n",
              "      <td>0</td>\n",
              "      <td>1</td>\n",
              "      <td>1</td>\n",
              "      <td>...</td>\n",
              "      <td>0</td>\n",
              "      <td>0</td>\n",
              "      <td>0</td>\n",
              "      <td>1</td>\n",
              "      <td>0</td>\n",
              "      <td>0</td>\n",
              "      <td>1</td>\n",
              "      <td>0</td>\n",
              "      <td>0</td>\n",
              "      <td>1</td>\n",
              "    </tr>\n",
              "  </tbody>\n",
              "</table>\n",
              "<p>5 rows × 27 columns</p>\n",
              "</div>\n",
              "    <div class=\"colab-df-buttons\">\n",
              "\n",
              "  <div class=\"colab-df-container\">\n",
              "    <button class=\"colab-df-convert\" onclick=\"convertToInteractive('df-101351e6-49d9-4989-b3a3-8ad40dd6c680')\"\n",
              "            title=\"Convert this dataframe to an interactive table.\"\n",
              "            style=\"display:none;\">\n",
              "\n",
              "  <svg xmlns=\"http://www.w3.org/2000/svg\" height=\"24px\" viewBox=\"0 -960 960 960\">\n",
              "    <path d=\"M120-120v-720h720v720H120Zm60-500h600v-160H180v160Zm220 220h160v-160H400v160Zm0 220h160v-160H400v160ZM180-400h160v-160H180v160Zm440 0h160v-160H620v160ZM180-180h160v-160H180v160Zm440 0h160v-160H620v160Z\"/>\n",
              "  </svg>\n",
              "    </button>\n",
              "\n",
              "  <style>\n",
              "    .colab-df-container {\n",
              "      display:flex;\n",
              "      gap: 12px;\n",
              "    }\n",
              "\n",
              "    .colab-df-convert {\n",
              "      background-color: #E8F0FE;\n",
              "      border: none;\n",
              "      border-radius: 50%;\n",
              "      cursor: pointer;\n",
              "      display: none;\n",
              "      fill: #1967D2;\n",
              "      height: 32px;\n",
              "      padding: 0 0 0 0;\n",
              "      width: 32px;\n",
              "    }\n",
              "\n",
              "    .colab-df-convert:hover {\n",
              "      background-color: #E2EBFA;\n",
              "      box-shadow: 0px 1px 2px rgba(60, 64, 67, 0.3), 0px 1px 3px 1px rgba(60, 64, 67, 0.15);\n",
              "      fill: #174EA6;\n",
              "    }\n",
              "\n",
              "    .colab-df-buttons div {\n",
              "      margin-bottom: 4px;\n",
              "    }\n",
              "\n",
              "    [theme=dark] .colab-df-convert {\n",
              "      background-color: #3B4455;\n",
              "      fill: #D2E3FC;\n",
              "    }\n",
              "\n",
              "    [theme=dark] .colab-df-convert:hover {\n",
              "      background-color: #434B5C;\n",
              "      box-shadow: 0px 1px 3px 1px rgba(0, 0, 0, 0.15);\n",
              "      filter: drop-shadow(0px 1px 2px rgba(0, 0, 0, 0.3));\n",
              "      fill: #FFFFFF;\n",
              "    }\n",
              "  </style>\n",
              "\n",
              "    <script>\n",
              "      const buttonEl =\n",
              "        document.querySelector('#df-101351e6-49d9-4989-b3a3-8ad40dd6c680 button.colab-df-convert');\n",
              "      buttonEl.style.display =\n",
              "        google.colab.kernel.accessAllowed ? 'block' : 'none';\n",
              "\n",
              "      async function convertToInteractive(key) {\n",
              "        const element = document.querySelector('#df-101351e6-49d9-4989-b3a3-8ad40dd6c680');\n",
              "        const dataTable =\n",
              "          await google.colab.kernel.invokeFunction('convertToInteractive',\n",
              "                                                    [key], {});\n",
              "        if (!dataTable) return;\n",
              "\n",
              "        const docLinkHtml = 'Like what you see? Visit the ' +\n",
              "          '<a target=\"_blank\" href=https://colab.research.google.com/notebooks/data_table.ipynb>data table notebook</a>'\n",
              "          + ' to learn more about interactive tables.';\n",
              "        element.innerHTML = '';\n",
              "        dataTable['output_type'] = 'display_data';\n",
              "        await google.colab.output.renderOutput(dataTable, element);\n",
              "        const docLink = document.createElement('div');\n",
              "        docLink.innerHTML = docLinkHtml;\n",
              "        element.appendChild(docLink);\n",
              "      }\n",
              "    </script>\n",
              "  </div>\n",
              "\n",
              "\n",
              "<div id=\"df-abec12cf-ce4e-498a-90d9-d5fab668f954\">\n",
              "  <button class=\"colab-df-quickchart\" onclick=\"quickchart('df-abec12cf-ce4e-498a-90d9-d5fab668f954')\"\n",
              "            title=\"Suggest charts\"\n",
              "            style=\"display:none;\">\n",
              "\n",
              "<svg xmlns=\"http://www.w3.org/2000/svg\" height=\"24px\"viewBox=\"0 0 24 24\"\n",
              "     width=\"24px\">\n",
              "    <g>\n",
              "        <path d=\"M19 3H5c-1.1 0-2 .9-2 2v14c0 1.1.9 2 2 2h14c1.1 0 2-.9 2-2V5c0-1.1-.9-2-2-2zM9 17H7v-7h2v7zm4 0h-2V7h2v10zm4 0h-2v-4h2v4z\"/>\n",
              "    </g>\n",
              "</svg>\n",
              "  </button>\n",
              "\n",
              "<style>\n",
              "  .colab-df-quickchart {\n",
              "      --bg-color: #E8F0FE;\n",
              "      --fill-color: #1967D2;\n",
              "      --hover-bg-color: #E2EBFA;\n",
              "      --hover-fill-color: #174EA6;\n",
              "      --disabled-fill-color: #AAA;\n",
              "      --disabled-bg-color: #DDD;\n",
              "  }\n",
              "\n",
              "  [theme=dark] .colab-df-quickchart {\n",
              "      --bg-color: #3B4455;\n",
              "      --fill-color: #D2E3FC;\n",
              "      --hover-bg-color: #434B5C;\n",
              "      --hover-fill-color: #FFFFFF;\n",
              "      --disabled-bg-color: #3B4455;\n",
              "      --disabled-fill-color: #666;\n",
              "  }\n",
              "\n",
              "  .colab-df-quickchart {\n",
              "    background-color: var(--bg-color);\n",
              "    border: none;\n",
              "    border-radius: 50%;\n",
              "    cursor: pointer;\n",
              "    display: none;\n",
              "    fill: var(--fill-color);\n",
              "    height: 32px;\n",
              "    padding: 0;\n",
              "    width: 32px;\n",
              "  }\n",
              "\n",
              "  .colab-df-quickchart:hover {\n",
              "    background-color: var(--hover-bg-color);\n",
              "    box-shadow: 0 1px 2px rgba(60, 64, 67, 0.3), 0 1px 3px 1px rgba(60, 64, 67, 0.15);\n",
              "    fill: var(--button-hover-fill-color);\n",
              "  }\n",
              "\n",
              "  .colab-df-quickchart-complete:disabled,\n",
              "  .colab-df-quickchart-complete:disabled:hover {\n",
              "    background-color: var(--disabled-bg-color);\n",
              "    fill: var(--disabled-fill-color);\n",
              "    box-shadow: none;\n",
              "  }\n",
              "\n",
              "  .colab-df-spinner {\n",
              "    border: 2px solid var(--fill-color);\n",
              "    border-color: transparent;\n",
              "    border-bottom-color: var(--fill-color);\n",
              "    animation:\n",
              "      spin 1s steps(1) infinite;\n",
              "  }\n",
              "\n",
              "  @keyframes spin {\n",
              "    0% {\n",
              "      border-color: transparent;\n",
              "      border-bottom-color: var(--fill-color);\n",
              "      border-left-color: var(--fill-color);\n",
              "    }\n",
              "    20% {\n",
              "      border-color: transparent;\n",
              "      border-left-color: var(--fill-color);\n",
              "      border-top-color: var(--fill-color);\n",
              "    }\n",
              "    30% {\n",
              "      border-color: transparent;\n",
              "      border-left-color: var(--fill-color);\n",
              "      border-top-color: var(--fill-color);\n",
              "      border-right-color: var(--fill-color);\n",
              "    }\n",
              "    40% {\n",
              "      border-color: transparent;\n",
              "      border-right-color: var(--fill-color);\n",
              "      border-top-color: var(--fill-color);\n",
              "    }\n",
              "    60% {\n",
              "      border-color: transparent;\n",
              "      border-right-color: var(--fill-color);\n",
              "    }\n",
              "    80% {\n",
              "      border-color: transparent;\n",
              "      border-right-color: var(--fill-color);\n",
              "      border-bottom-color: var(--fill-color);\n",
              "    }\n",
              "    90% {\n",
              "      border-color: transparent;\n",
              "      border-bottom-color: var(--fill-color);\n",
              "    }\n",
              "  }\n",
              "</style>\n",
              "\n",
              "  <script>\n",
              "    async function quickchart(key) {\n",
              "      const quickchartButtonEl =\n",
              "        document.querySelector('#' + key + ' button');\n",
              "      quickchartButtonEl.disabled = true;  // To prevent multiple clicks.\n",
              "      quickchartButtonEl.classList.add('colab-df-spinner');\n",
              "      try {\n",
              "        const charts = await google.colab.kernel.invokeFunction(\n",
              "            'suggestCharts', [key], {});\n",
              "      } catch (error) {\n",
              "        console.error('Error during call to suggestCharts:', error);\n",
              "      }\n",
              "      quickchartButtonEl.classList.remove('colab-df-spinner');\n",
              "      quickchartButtonEl.classList.add('colab-df-quickchart-complete');\n",
              "    }\n",
              "    (() => {\n",
              "      let quickchartButtonEl =\n",
              "        document.querySelector('#df-abec12cf-ce4e-498a-90d9-d5fab668f954 button');\n",
              "      quickchartButtonEl.style.display =\n",
              "        google.colab.kernel.accessAllowed ? 'block' : 'none';\n",
              "    })();\n",
              "  </script>\n",
              "</div>\n",
              "\n",
              "  <div id=\"id_2d585987-fb3c-4719-870f-573dd89e3f68\">\n",
              "    <style>\n",
              "      .colab-df-generate {\n",
              "        background-color: #E8F0FE;\n",
              "        border: none;\n",
              "        border-radius: 50%;\n",
              "        cursor: pointer;\n",
              "        display: none;\n",
              "        fill: #1967D2;\n",
              "        height: 32px;\n",
              "        padding: 0 0 0 0;\n",
              "        width: 32px;\n",
              "      }\n",
              "\n",
              "      .colab-df-generate:hover {\n",
              "        background-color: #E2EBFA;\n",
              "        box-shadow: 0px 1px 2px rgba(60, 64, 67, 0.3), 0px 1px 3px 1px rgba(60, 64, 67, 0.15);\n",
              "        fill: #174EA6;\n",
              "      }\n",
              "\n",
              "      [theme=dark] .colab-df-generate {\n",
              "        background-color: #3B4455;\n",
              "        fill: #D2E3FC;\n",
              "      }\n",
              "\n",
              "      [theme=dark] .colab-df-generate:hover {\n",
              "        background-color: #434B5C;\n",
              "        box-shadow: 0px 1px 3px 1px rgba(0, 0, 0, 0.15);\n",
              "        filter: drop-shadow(0px 1px 2px rgba(0, 0, 0, 0.3));\n",
              "        fill: #FFFFFF;\n",
              "      }\n",
              "    </style>\n",
              "    <button class=\"colab-df-generate\" onclick=\"generateWithVariable('df')\"\n",
              "            title=\"Generate code using this dataframe.\"\n",
              "            style=\"display:none;\">\n",
              "\n",
              "  <svg xmlns=\"http://www.w3.org/2000/svg\" height=\"24px\"viewBox=\"0 0 24 24\"\n",
              "       width=\"24px\">\n",
              "    <path d=\"M7,19H8.4L18.45,9,17,7.55,7,17.6ZM5,21V16.75L18.45,3.32a2,2,0,0,1,2.83,0l1.4,1.43a1.91,1.91,0,0,1,.58,1.4,1.91,1.91,0,0,1-.58,1.4L9.25,21ZM18.45,9,17,7.55Zm-12,3A5.31,5.31,0,0,0,4.9,8.1,5.31,5.31,0,0,0,1,6.5,5.31,5.31,0,0,0,4.9,4.9,5.31,5.31,0,0,0,6.5,1,5.31,5.31,0,0,0,8.1,4.9,5.31,5.31,0,0,0,12,6.5,5.46,5.46,0,0,0,6.5,12Z\"/>\n",
              "  </svg>\n",
              "    </button>\n",
              "    <script>\n",
              "      (() => {\n",
              "      const buttonEl =\n",
              "        document.querySelector('#id_2d585987-fb3c-4719-870f-573dd89e3f68 button.colab-df-generate');\n",
              "      buttonEl.style.display =\n",
              "        google.colab.kernel.accessAllowed ? 'block' : 'none';\n",
              "\n",
              "      buttonEl.onclick = () => {\n",
              "        google.colab.notebook.generateWithVariable('df');\n",
              "      }\n",
              "      })();\n",
              "    </script>\n",
              "  </div>\n",
              "\n",
              "    </div>\n",
              "  </div>\n"
            ],
            "application/vnd.google.colaboratory.intrinsic+json": {
              "type": "dataframe",
              "variable_name": "df"
            }
          },
          "metadata": {},
          "execution_count": 21
        }
      ]
    },
    {
      "cell_type": "markdown",
      "source": [
        "* Customize Count Vectorizer"
      ],
      "metadata": {
        "id": "Z6by09E_jeF-"
      }
    },
    {
      "cell_type": "code",
      "source": [
        "# menggunkanan stop_words yang sudah didefinisikan\n",
        "stop_words = [\"dan\", \"yang\"]\n",
        "\n",
        "vectorizer = CountVectorizer(stop_words=stop_words)\n",
        "count_vector=vectorizer.fit_transform(data)\n",
        "count_vector.shape"
      ],
      "metadata": {
        "id": "Xay4a6bgjZVw",
        "colab": {
          "base_uri": "https://localhost:8080/"
        },
        "outputId": "1504940a-c54b-4049-fed9-b9aee929ca0a"
      },
      "execution_count": 22,
      "outputs": [
        {
          "output_type": "execute_result",
          "data": {
            "text/plain": [
              "(5, 25)"
            ]
          },
          "metadata": {},
          "execution_count": 22
        }
      ]
    },
    {
      "cell_type": "code",
      "source": [
        "vectorizer.vocabulary_"
      ],
      "metadata": {
        "colab": {
          "base_uri": "https://localhost:8080/"
        },
        "id": "WbIzbUFI014Q",
        "outputId": "d09f8fd4-5710-4038-f2ee-3442ddfd4333"
      },
      "execution_count": 23,
      "outputs": [
        {
          "output_type": "execute_result",
          "data": {
            "text/plain": [
              "{'pengertian': 17,\n",
              " 'lagu': 11,\n",
              " 'wajib': 24,\n",
              " 'beserta': 0,\n",
              " 'ciri': 1,\n",
              " 'lirik': 12,\n",
              " 'contohnya': 2,\n",
              " 'indonesia': 7,\n",
              " 'raya': 20,\n",
              " 'penjelasan': 18,\n",
              " 'mengenai': 14,\n",
              " 'metronome': 15,\n",
              " 'fungsinya': 6,\n",
              " 'dalam': 3,\n",
              " 'musik': 16,\n",
              " 'ulasan': 23,\n",
              " 'tentang': 21,\n",
              " 'ekonomi': 5,\n",
              " 'kreatif': 10,\n",
              " 'manfaatnya': 13,\n",
              " 'ragam': 19,\n",
              " 'kerajinan': 8,\n",
              " 'khas': 9,\n",
              " 'terdapat': 22,\n",
              " 'di': 4}"
            ]
          },
          "metadata": {},
          "execution_count": 23
        }
      ]
    },
    {
      "cell_type": "code",
      "source": [
        "len(vectorizer.vocabulary_)"
      ],
      "metadata": {
        "colab": {
          "base_uri": "https://localhost:8080/"
        },
        "id": "U9W5TlkpagHO",
        "outputId": "21b0876a-093f-471b-cccf-4fa5b86074e6"
      },
      "execution_count": 24,
      "outputs": [
        {
          "output_type": "execute_result",
          "data": {
            "text/plain": [
              "25"
            ]
          },
          "metadata": {},
          "execution_count": 24
        }
      ]
    },
    {
      "cell_type": "code",
      "source": [
        "print(count_vector)"
      ],
      "metadata": {
        "id": "O75LyQxX1PVr",
        "colab": {
          "base_uri": "https://localhost:8080/"
        },
        "outputId": "cebcbe5e-b1bd-4581-b655-75c6017de001"
      },
      "execution_count": 25,
      "outputs": [
        {
          "output_type": "stream",
          "name": "stdout",
          "text": [
            "  (0, 17)\t1\n",
            "  (0, 11)\t1\n",
            "  (0, 24)\t1\n",
            "  (0, 0)\t1\n",
            "  (0, 1)\t1\n",
            "  (0, 12)\t1\n",
            "  (0, 2)\t1\n",
            "  (1, 11)\t1\n",
            "  (1, 12)\t1\n",
            "  (1, 7)\t1\n",
            "  (1, 20)\t1\n",
            "  (2, 18)\t1\n",
            "  (2, 14)\t1\n",
            "  (2, 15)\t1\n",
            "  (2, 6)\t1\n",
            "  (2, 3)\t1\n",
            "  (2, 16)\t1\n",
            "  (3, 0)\t1\n",
            "  (3, 1)\t2\n",
            "  (3, 23)\t1\n",
            "  (3, 21)\t1\n",
            "  (3, 5)\t1\n",
            "  (3, 10)\t1\n",
            "  (3, 13)\t1\n",
            "  (4, 7)\t1\n",
            "  (4, 19)\t1\n",
            "  (4, 8)\t1\n",
            "  (4, 9)\t1\n",
            "  (4, 22)\t1\n",
            "  (4, 4)\t1\n"
          ]
        }
      ]
    },
    {
      "cell_type": "code",
      "source": [
        "long_text = [\"Pengolahan bahasa alami (disingkat PBA; bahasa Inggris: natural language processing, disingkat NLP) adalah cabang ilmu komputer, \\\n",
        "linguistik, dan kecerdasan buatan yang mengkaji interaksi antara komputer dan bahasa (alami) manusia, khususnya cara memprogram komputer untuk mengolah data bahasa alami \\\n",
        "dalam jumlah besar. Hasilnya adalah komputer mampu 'memahami' isi dokumen, termasuk nuansa bahasa di dalamnya. Dengan ini, komputer dapat dengan akurat mengambil informasi \\\n",
        "dan wawasan dari dokumen sekaligus mengelompokkan dan menata dokumen-dokumen itu sendiri. \\\n",
        "Kajian NLP antara lain mencakup segmentasi wicara, segmentasi teks, penandaan kelas kata, dan pengawataksaan makna. Meski kajiannya dapat mencakup teks dan wicara, \\\n",
        "pengolahan wicara telah berkembang menjadi suatu bidang kajian terpisah.\"]"
      ],
      "metadata": {
        "id": "ImygZAzM1v4p"
      },
      "execution_count": 26,
      "outputs": []
    },
    {
      "cell_type": "code",
      "source": [
        "vectorizer = CountVectorizer(stop_words = stop_words)\n",
        "count_vector = vectorizer.fit_transform(long_text)\n",
        "count_vector.shape"
      ],
      "metadata": {
        "colab": {
          "base_uri": "https://localhost:8080/"
        },
        "id": "Zp6jrNVN1z5O",
        "outputId": "2af9d4df-3939-4d51-9e79-7bc04d8b4690"
      },
      "execution_count": 27,
      "outputs": [
        {
          "output_type": "execute_result",
          "data": {
            "text/plain": [
              "(1, 71)"
            ]
          },
          "metadata": {},
          "execution_count": 27
        }
      ]
    },
    {
      "cell_type": "code",
      "source": [
        "print(count_vector)"
      ],
      "metadata": {
        "colab": {
          "base_uri": "https://localhost:8080/"
        },
        "id": "pqEkdaNX3KfM",
        "outputId": "0386bf64-4792-402e-d19a-2b3031ca2fa3",
        "collapsed": true
      },
      "execution_count": 28,
      "outputs": [
        {
          "output_type": "stream",
          "name": "stdout",
          "text": [
            "  (0, 58)\t2\n",
            "  (0, 4)\t5\n",
            "  (0, 2)\t3\n",
            "  (0, 18)\t2\n",
            "  (0, 55)\t1\n",
            "  (0, 23)\t1\n",
            "  (0, 52)\t1\n",
            "  (0, 37)\t1\n",
            "  (0, 59)\t1\n",
            "  (0, 53)\t2\n",
            "  (0, 0)\t2\n",
            "  (0, 9)\t1\n",
            "  (0, 21)\t1\n",
            "  (0, 35)\t5\n",
            "  (0, 38)\t1\n",
            "  (0, 32)\t1\n",
            "  (0, 8)\t1\n",
            "  (0, 48)\t1\n",
            "  (0, 25)\t1\n",
            "  (0, 3)\t2\n",
            "  (0, 41)\t1\n",
            "  (0, 34)\t1\n",
            "  (0, 10)\t1\n",
            "  (0, 43)\t1\n",
            "  (0, 68)\t1\n",
            "  :\t:\n",
            "  (0, 14)\t1\n",
            "  (0, 61)\t1\n",
            "  (0, 47)\t1\n",
            "  (0, 44)\t1\n",
            "  (0, 27)\t1\n",
            "  (0, 62)\t1\n",
            "  (0, 29)\t2\n",
            "  (0, 36)\t1\n",
            "  (0, 45)\t2\n",
            "  (0, 60)\t2\n",
            "  (0, 70)\t3\n",
            "  (0, 64)\t2\n",
            "  (0, 56)\t1\n",
            "  (0, 33)\t1\n",
            "  (0, 31)\t1\n",
            "  (0, 57)\t1\n",
            "  (0, 39)\t1\n",
            "  (0, 51)\t1\n",
            "  (0, 30)\t1\n",
            "  (0, 65)\t1\n",
            "  (0, 5)\t1\n",
            "  (0, 50)\t1\n",
            "  (0, 63)\t1\n",
            "  (0, 7)\t1\n",
            "  (0, 67)\t1\n"
          ]
        }
      ]
    },
    {
      "cell_type": "code",
      "source": [
        "vectorizer.vocabulary_"
      ],
      "metadata": {
        "colab": {
          "base_uri": "https://localhost:8080/"
        },
        "id": "kcwwlDR43PzS",
        "outputId": "63c26ea9-8f4b-4933-ac2e-5924c6d171a4"
      },
      "execution_count": 29,
      "outputs": [
        {
          "output_type": "execute_result",
          "data": {
            "text/plain": [
              "{'pengolahan': 58,\n",
              " 'bahasa': 4,\n",
              " 'alami': 2,\n",
              " 'disingkat': 18,\n",
              " 'pba': 55,\n",
              " 'inggris': 23,\n",
              " 'natural': 52,\n",
              " 'language': 37,\n",
              " 'processing': 59,\n",
              " 'nlp': 53,\n",
              " 'adalah': 0,\n",
              " 'cabang': 9,\n",
              " 'ilmu': 21,\n",
              " 'komputer': 35,\n",
              " 'linguistik': 38,\n",
              " 'kecerdasan': 32,\n",
              " 'buatan': 8,\n",
              " 'mengkaji': 48,\n",
              " 'interaksi': 25,\n",
              " 'antara': 3,\n",
              " 'manusia': 41,\n",
              " 'khususnya': 34,\n",
              " 'cara': 10,\n",
              " 'memprogram': 43,\n",
              " 'untuk': 68,\n",
              " 'mengolah': 49,\n",
              " 'data': 15,\n",
              " 'dalam': 11,\n",
              " 'jumlah': 28,\n",
              " 'besar': 6,\n",
              " 'hasilnya': 20,\n",
              " 'mampu': 40,\n",
              " 'memahami': 42,\n",
              " 'isi': 26,\n",
              " 'dokumen': 19,\n",
              " 'termasuk': 66,\n",
              " 'nuansa': 54,\n",
              " 'di': 17,\n",
              " 'dalamnya': 12,\n",
              " 'dengan': 16,\n",
              " 'ini': 24,\n",
              " 'dapat': 13,\n",
              " 'akurat': 1,\n",
              " 'mengambil': 46,\n",
              " 'informasi': 22,\n",
              " 'wawasan': 69,\n",
              " 'dari': 14,\n",
              " 'sekaligus': 61,\n",
              " 'mengelompokkan': 47,\n",
              " 'menata': 44,\n",
              " 'itu': 27,\n",
              " 'sendiri': 62,\n",
              " 'kajian': 29,\n",
              " 'lain': 36,\n",
              " 'mencakup': 45,\n",
              " 'segmentasi': 60,\n",
              " 'wicara': 70,\n",
              " 'teks': 64,\n",
              " 'penandaan': 56,\n",
              " 'kelas': 33,\n",
              " 'kata': 31,\n",
              " 'pengawataksaan': 57,\n",
              " 'makna': 39,\n",
              " 'meski': 51,\n",
              " 'kajiannya': 30,\n",
              " 'telah': 65,\n",
              " 'berkembang': 5,\n",
              " 'menjadi': 50,\n",
              " 'suatu': 63,\n",
              " 'bidang': 7,\n",
              " 'terpisah': 67}"
            ]
          },
          "metadata": {},
          "execution_count": 29
        }
      ]
    },
    {
      "cell_type": "code",
      "source": [
        "vectorizer.get_feature_names_out()"
      ],
      "metadata": {
        "colab": {
          "base_uri": "https://localhost:8080/"
        },
        "id": "DXPQZ4Vra909",
        "outputId": "3ceb2ca0-3713-4106-a4c4-887ff5c9edb7"
      },
      "execution_count": 30,
      "outputs": [
        {
          "output_type": "execute_result",
          "data": {
            "text/plain": [
              "array(['adalah', 'akurat', 'alami', 'antara', 'bahasa', 'berkembang',\n",
              "       'besar', 'bidang', 'buatan', 'cabang', 'cara', 'dalam', 'dalamnya',\n",
              "       'dapat', 'dari', 'data', 'dengan', 'di', 'disingkat', 'dokumen',\n",
              "       'hasilnya', 'ilmu', 'informasi', 'inggris', 'ini', 'interaksi',\n",
              "       'isi', 'itu', 'jumlah', 'kajian', 'kajiannya', 'kata',\n",
              "       'kecerdasan', 'kelas', 'khususnya', 'komputer', 'lain', 'language',\n",
              "       'linguistik', 'makna', 'mampu', 'manusia', 'memahami',\n",
              "       'memprogram', 'menata', 'mencakup', 'mengambil', 'mengelompokkan',\n",
              "       'mengkaji', 'mengolah', 'menjadi', 'meski', 'natural', 'nlp',\n",
              "       'nuansa', 'pba', 'penandaan', 'pengawataksaan', 'pengolahan',\n",
              "       'processing', 'segmentasi', 'sekaligus', 'sendiri', 'suatu',\n",
              "       'teks', 'telah', 'termasuk', 'terpisah', 'untuk', 'wawasan',\n",
              "       'wicara'], dtype=object)"
            ]
          },
          "metadata": {},
          "execution_count": 30
        }
      ]
    },
    {
      "cell_type": "code",
      "source": [
        "vectorizer = CountVectorizer()\n",
        "count_vector = vectorizer.fit_transform(long_text)\n",
        "count_vector.shape"
      ],
      "metadata": {
        "colab": {
          "base_uri": "https://localhost:8080/"
        },
        "id": "mUbJLIJ_bLvZ",
        "outputId": "bb3ca9ce-65f7-43f5-8196-513aeb3122ca"
      },
      "execution_count": 31,
      "outputs": [
        {
          "output_type": "execute_result",
          "data": {
            "text/plain": [
              "(1, 73)"
            ]
          },
          "metadata": {},
          "execution_count": 31
        }
      ]
    },
    {
      "cell_type": "code",
      "source": [
        "vectorizer.get_feature_names_out()"
      ],
      "metadata": {
        "colab": {
          "base_uri": "https://localhost:8080/"
        },
        "id": "Hc5fpIN5bLx6",
        "outputId": "14300e37-65bc-40f8-c237-ada76747cd10"
      },
      "execution_count": 32,
      "outputs": [
        {
          "output_type": "execute_result",
          "data": {
            "text/plain": [
              "array(['adalah', 'akurat', 'alami', 'antara', 'bahasa', 'berkembang',\n",
              "       'besar', 'bidang', 'buatan', 'cabang', 'cara', 'dalam', 'dalamnya',\n",
              "       'dan', 'dapat', 'dari', 'data', 'dengan', 'di', 'disingkat',\n",
              "       'dokumen', 'hasilnya', 'ilmu', 'informasi', 'inggris', 'ini',\n",
              "       'interaksi', 'isi', 'itu', 'jumlah', 'kajian', 'kajiannya', 'kata',\n",
              "       'kecerdasan', 'kelas', 'khususnya', 'komputer', 'lain', 'language',\n",
              "       'linguistik', 'makna', 'mampu', 'manusia', 'memahami',\n",
              "       'memprogram', 'menata', 'mencakup', 'mengambil', 'mengelompokkan',\n",
              "       'mengkaji', 'mengolah', 'menjadi', 'meski', 'natural', 'nlp',\n",
              "       'nuansa', 'pba', 'penandaan', 'pengawataksaan', 'pengolahan',\n",
              "       'processing', 'segmentasi', 'sekaligus', 'sendiri', 'suatu',\n",
              "       'teks', 'telah', 'termasuk', 'terpisah', 'untuk', 'wawasan',\n",
              "       'wicara', 'yang'], dtype=object)"
            ]
          },
          "metadata": {},
          "execution_count": 32
        }
      ]
    },
    {
      "cell_type": "code",
      "source": [
        "# menggunakan MIN_DF sebagai tambahan stop_words\n",
        "# abaikan kata yang muncul di kurang dari 25% dokumen"
      ],
      "metadata": {
        "id": "rtcTWUYXkiqd"
      },
      "execution_count": 33,
      "outputs": []
    },
    {
      "cell_type": "code",
      "source": [
        "vectorizer = CountVectorizer(stop_words=stop_words, min_df=0.25)\n",
        "count_vector=vectorizer.fit_transform(long_text)\n",
        "count_vector.shape"
      ],
      "metadata": {
        "id": "m0kVoyl8j0gY",
        "colab": {
          "base_uri": "https://localhost:8080/"
        },
        "outputId": "7fd442ad-9ee1-4513-c91a-f5ff2a034e0e"
      },
      "execution_count": 34,
      "outputs": [
        {
          "output_type": "execute_result",
          "data": {
            "text/plain": [
              "(1, 71)"
            ]
          },
          "metadata": {},
          "execution_count": 34
        }
      ]
    },
    {
      "cell_type": "code",
      "source": [
        "print(count_vector)"
      ],
      "metadata": {
        "colab": {
          "base_uri": "https://localhost:8080/"
        },
        "id": "G6OGujb-5-xv",
        "outputId": "514ad442-6dc6-4d12-c2fc-ae7fb20c365a"
      },
      "execution_count": 35,
      "outputs": [
        {
          "output_type": "stream",
          "name": "stdout",
          "text": [
            "  (0, 58)\t2\n",
            "  (0, 4)\t5\n",
            "  (0, 2)\t3\n",
            "  (0, 18)\t2\n",
            "  (0, 55)\t1\n",
            "  (0, 23)\t1\n",
            "  (0, 52)\t1\n",
            "  (0, 37)\t1\n",
            "  (0, 59)\t1\n",
            "  (0, 53)\t2\n",
            "  (0, 0)\t2\n",
            "  (0, 9)\t1\n",
            "  (0, 21)\t1\n",
            "  (0, 35)\t5\n",
            "  (0, 38)\t1\n",
            "  (0, 32)\t1\n",
            "  (0, 8)\t1\n",
            "  (0, 48)\t1\n",
            "  (0, 25)\t1\n",
            "  (0, 3)\t2\n",
            "  (0, 41)\t1\n",
            "  (0, 34)\t1\n",
            "  (0, 10)\t1\n",
            "  (0, 43)\t1\n",
            "  (0, 68)\t1\n",
            "  :\t:\n",
            "  (0, 14)\t1\n",
            "  (0, 61)\t1\n",
            "  (0, 47)\t1\n",
            "  (0, 44)\t1\n",
            "  (0, 27)\t1\n",
            "  (0, 62)\t1\n",
            "  (0, 29)\t2\n",
            "  (0, 36)\t1\n",
            "  (0, 45)\t2\n",
            "  (0, 60)\t2\n",
            "  (0, 70)\t3\n",
            "  (0, 64)\t2\n",
            "  (0, 56)\t1\n",
            "  (0, 33)\t1\n",
            "  (0, 31)\t1\n",
            "  (0, 57)\t1\n",
            "  (0, 39)\t1\n",
            "  (0, 51)\t1\n",
            "  (0, 30)\t1\n",
            "  (0, 65)\t1\n",
            "  (0, 5)\t1\n",
            "  (0, 50)\t1\n",
            "  (0, 63)\t1\n",
            "  (0, 7)\t1\n",
            "  (0, 67)\t1\n"
          ]
        }
      ]
    },
    {
      "cell_type": "code",
      "source": [
        "vectorizer.vocabulary_"
      ],
      "metadata": {
        "id": "_KSPVwTllE1r",
        "colab": {
          "base_uri": "https://localhost:8080/"
        },
        "outputId": "51076a67-112b-4109-f81a-5db3f1ecbaaa"
      },
      "execution_count": 36,
      "outputs": [
        {
          "output_type": "execute_result",
          "data": {
            "text/plain": [
              "{'pengolahan': 58,\n",
              " 'bahasa': 4,\n",
              " 'alami': 2,\n",
              " 'disingkat': 18,\n",
              " 'pba': 55,\n",
              " 'inggris': 23,\n",
              " 'natural': 52,\n",
              " 'language': 37,\n",
              " 'processing': 59,\n",
              " 'nlp': 53,\n",
              " 'adalah': 0,\n",
              " 'cabang': 9,\n",
              " 'ilmu': 21,\n",
              " 'komputer': 35,\n",
              " 'linguistik': 38,\n",
              " 'kecerdasan': 32,\n",
              " 'buatan': 8,\n",
              " 'mengkaji': 48,\n",
              " 'interaksi': 25,\n",
              " 'antara': 3,\n",
              " 'manusia': 41,\n",
              " 'khususnya': 34,\n",
              " 'cara': 10,\n",
              " 'memprogram': 43,\n",
              " 'untuk': 68,\n",
              " 'mengolah': 49,\n",
              " 'data': 15,\n",
              " 'dalam': 11,\n",
              " 'jumlah': 28,\n",
              " 'besar': 6,\n",
              " 'hasilnya': 20,\n",
              " 'mampu': 40,\n",
              " 'memahami': 42,\n",
              " 'isi': 26,\n",
              " 'dokumen': 19,\n",
              " 'termasuk': 66,\n",
              " 'nuansa': 54,\n",
              " 'di': 17,\n",
              " 'dalamnya': 12,\n",
              " 'dengan': 16,\n",
              " 'ini': 24,\n",
              " 'dapat': 13,\n",
              " 'akurat': 1,\n",
              " 'mengambil': 46,\n",
              " 'informasi': 22,\n",
              " 'wawasan': 69,\n",
              " 'dari': 14,\n",
              " 'sekaligus': 61,\n",
              " 'mengelompokkan': 47,\n",
              " 'menata': 44,\n",
              " 'itu': 27,\n",
              " 'sendiri': 62,\n",
              " 'kajian': 29,\n",
              " 'lain': 36,\n",
              " 'mencakup': 45,\n",
              " 'segmentasi': 60,\n",
              " 'wicara': 70,\n",
              " 'teks': 64,\n",
              " 'penandaan': 56,\n",
              " 'kelas': 33,\n",
              " 'kata': 31,\n",
              " 'pengawataksaan': 57,\n",
              " 'makna': 39,\n",
              " 'meski': 51,\n",
              " 'kajiannya': 30,\n",
              " 'telah': 65,\n",
              " 'berkembang': 5,\n",
              " 'menjadi': 50,\n",
              " 'suatu': 63,\n",
              " 'bidang': 7,\n",
              " 'terpisah': 67}"
            ]
          },
          "metadata": {},
          "execution_count": 36
        }
      ]
    },
    {
      "cell_type": "code",
      "source": [
        "count_array = count_vector.toarray()\n",
        "df = pd.DataFrame(data=count_array, columns = vectorizer.get_feature_names_out()).T.sort_values(0, ascending=False) # untuk scikit learn baru, menggunakan get_feature_names()\n",
        "df"
      ],
      "metadata": {
        "id": "cTuiy3Fx6Hrn",
        "colab": {
          "base_uri": "https://localhost:8080/",
          "height": 423
        },
        "outputId": "265ac4e0-b262-4133-e026-5b89f89e829a"
      },
      "execution_count": 38,
      "outputs": [
        {
          "output_type": "execute_result",
          "data": {
            "text/plain": [
              "            0\n",
              "komputer    5\n",
              "bahasa      5\n",
              "dokumen     4\n",
              "wicara      3\n",
              "alami       3\n",
              "...        ..\n",
              "linguistik  1\n",
              "makna       1\n",
              "mampu       1\n",
              "manusia     1\n",
              "language    1\n",
              "\n",
              "[71 rows x 1 columns]"
            ],
            "text/html": [
              "\n",
              "  <div id=\"df-769ab732-2590-40d0-9368-d2a70d321f68\" class=\"colab-df-container\">\n",
              "    <div>\n",
              "<style scoped>\n",
              "    .dataframe tbody tr th:only-of-type {\n",
              "        vertical-align: middle;\n",
              "    }\n",
              "\n",
              "    .dataframe tbody tr th {\n",
              "        vertical-align: top;\n",
              "    }\n",
              "\n",
              "    .dataframe thead th {\n",
              "        text-align: right;\n",
              "    }\n",
              "</style>\n",
              "<table border=\"1\" class=\"dataframe\">\n",
              "  <thead>\n",
              "    <tr style=\"text-align: right;\">\n",
              "      <th></th>\n",
              "      <th>0</th>\n",
              "    </tr>\n",
              "  </thead>\n",
              "  <tbody>\n",
              "    <tr>\n",
              "      <th>komputer</th>\n",
              "      <td>5</td>\n",
              "    </tr>\n",
              "    <tr>\n",
              "      <th>bahasa</th>\n",
              "      <td>5</td>\n",
              "    </tr>\n",
              "    <tr>\n",
              "      <th>dokumen</th>\n",
              "      <td>4</td>\n",
              "    </tr>\n",
              "    <tr>\n",
              "      <th>wicara</th>\n",
              "      <td>3</td>\n",
              "    </tr>\n",
              "    <tr>\n",
              "      <th>alami</th>\n",
              "      <td>3</td>\n",
              "    </tr>\n",
              "    <tr>\n",
              "      <th>...</th>\n",
              "      <td>...</td>\n",
              "    </tr>\n",
              "    <tr>\n",
              "      <th>linguistik</th>\n",
              "      <td>1</td>\n",
              "    </tr>\n",
              "    <tr>\n",
              "      <th>makna</th>\n",
              "      <td>1</td>\n",
              "    </tr>\n",
              "    <tr>\n",
              "      <th>mampu</th>\n",
              "      <td>1</td>\n",
              "    </tr>\n",
              "    <tr>\n",
              "      <th>manusia</th>\n",
              "      <td>1</td>\n",
              "    </tr>\n",
              "    <tr>\n",
              "      <th>language</th>\n",
              "      <td>1</td>\n",
              "    </tr>\n",
              "  </tbody>\n",
              "</table>\n",
              "<p>71 rows × 1 columns</p>\n",
              "</div>\n",
              "    <div class=\"colab-df-buttons\">\n",
              "\n",
              "  <div class=\"colab-df-container\">\n",
              "    <button class=\"colab-df-convert\" onclick=\"convertToInteractive('df-769ab732-2590-40d0-9368-d2a70d321f68')\"\n",
              "            title=\"Convert this dataframe to an interactive table.\"\n",
              "            style=\"display:none;\">\n",
              "\n",
              "  <svg xmlns=\"http://www.w3.org/2000/svg\" height=\"24px\" viewBox=\"0 -960 960 960\">\n",
              "    <path d=\"M120-120v-720h720v720H120Zm60-500h600v-160H180v160Zm220 220h160v-160H400v160Zm0 220h160v-160H400v160ZM180-400h160v-160H180v160Zm440 0h160v-160H620v160ZM180-180h160v-160H180v160Zm440 0h160v-160H620v160Z\"/>\n",
              "  </svg>\n",
              "    </button>\n",
              "\n",
              "  <style>\n",
              "    .colab-df-container {\n",
              "      display:flex;\n",
              "      gap: 12px;\n",
              "    }\n",
              "\n",
              "    .colab-df-convert {\n",
              "      background-color: #E8F0FE;\n",
              "      border: none;\n",
              "      border-radius: 50%;\n",
              "      cursor: pointer;\n",
              "      display: none;\n",
              "      fill: #1967D2;\n",
              "      height: 32px;\n",
              "      padding: 0 0 0 0;\n",
              "      width: 32px;\n",
              "    }\n",
              "\n",
              "    .colab-df-convert:hover {\n",
              "      background-color: #E2EBFA;\n",
              "      box-shadow: 0px 1px 2px rgba(60, 64, 67, 0.3), 0px 1px 3px 1px rgba(60, 64, 67, 0.15);\n",
              "      fill: #174EA6;\n",
              "    }\n",
              "\n",
              "    .colab-df-buttons div {\n",
              "      margin-bottom: 4px;\n",
              "    }\n",
              "\n",
              "    [theme=dark] .colab-df-convert {\n",
              "      background-color: #3B4455;\n",
              "      fill: #D2E3FC;\n",
              "    }\n",
              "\n",
              "    [theme=dark] .colab-df-convert:hover {\n",
              "      background-color: #434B5C;\n",
              "      box-shadow: 0px 1px 3px 1px rgba(0, 0, 0, 0.15);\n",
              "      filter: drop-shadow(0px 1px 2px rgba(0, 0, 0, 0.3));\n",
              "      fill: #FFFFFF;\n",
              "    }\n",
              "  </style>\n",
              "\n",
              "    <script>\n",
              "      const buttonEl =\n",
              "        document.querySelector('#df-769ab732-2590-40d0-9368-d2a70d321f68 button.colab-df-convert');\n",
              "      buttonEl.style.display =\n",
              "        google.colab.kernel.accessAllowed ? 'block' : 'none';\n",
              "\n",
              "      async function convertToInteractive(key) {\n",
              "        const element = document.querySelector('#df-769ab732-2590-40d0-9368-d2a70d321f68');\n",
              "        const dataTable =\n",
              "          await google.colab.kernel.invokeFunction('convertToInteractive',\n",
              "                                                    [key], {});\n",
              "        if (!dataTable) return;\n",
              "\n",
              "        const docLinkHtml = 'Like what you see? Visit the ' +\n",
              "          '<a target=\"_blank\" href=https://colab.research.google.com/notebooks/data_table.ipynb>data table notebook</a>'\n",
              "          + ' to learn more about interactive tables.';\n",
              "        element.innerHTML = '';\n",
              "        dataTable['output_type'] = 'display_data';\n",
              "        await google.colab.output.renderOutput(dataTable, element);\n",
              "        const docLink = document.createElement('div');\n",
              "        docLink.innerHTML = docLinkHtml;\n",
              "        element.appendChild(docLink);\n",
              "      }\n",
              "    </script>\n",
              "  </div>\n",
              "\n",
              "\n",
              "<div id=\"df-12610b0a-44bf-4c3e-9fd4-add475c6e90b\">\n",
              "  <button class=\"colab-df-quickchart\" onclick=\"quickchart('df-12610b0a-44bf-4c3e-9fd4-add475c6e90b')\"\n",
              "            title=\"Suggest charts\"\n",
              "            style=\"display:none;\">\n",
              "\n",
              "<svg xmlns=\"http://www.w3.org/2000/svg\" height=\"24px\"viewBox=\"0 0 24 24\"\n",
              "     width=\"24px\">\n",
              "    <g>\n",
              "        <path d=\"M19 3H5c-1.1 0-2 .9-2 2v14c0 1.1.9 2 2 2h14c1.1 0 2-.9 2-2V5c0-1.1-.9-2-2-2zM9 17H7v-7h2v7zm4 0h-2V7h2v10zm4 0h-2v-4h2v4z\"/>\n",
              "    </g>\n",
              "</svg>\n",
              "  </button>\n",
              "\n",
              "<style>\n",
              "  .colab-df-quickchart {\n",
              "      --bg-color: #E8F0FE;\n",
              "      --fill-color: #1967D2;\n",
              "      --hover-bg-color: #E2EBFA;\n",
              "      --hover-fill-color: #174EA6;\n",
              "      --disabled-fill-color: #AAA;\n",
              "      --disabled-bg-color: #DDD;\n",
              "  }\n",
              "\n",
              "  [theme=dark] .colab-df-quickchart {\n",
              "      --bg-color: #3B4455;\n",
              "      --fill-color: #D2E3FC;\n",
              "      --hover-bg-color: #434B5C;\n",
              "      --hover-fill-color: #FFFFFF;\n",
              "      --disabled-bg-color: #3B4455;\n",
              "      --disabled-fill-color: #666;\n",
              "  }\n",
              "\n",
              "  .colab-df-quickchart {\n",
              "    background-color: var(--bg-color);\n",
              "    border: none;\n",
              "    border-radius: 50%;\n",
              "    cursor: pointer;\n",
              "    display: none;\n",
              "    fill: var(--fill-color);\n",
              "    height: 32px;\n",
              "    padding: 0;\n",
              "    width: 32px;\n",
              "  }\n",
              "\n",
              "  .colab-df-quickchart:hover {\n",
              "    background-color: var(--hover-bg-color);\n",
              "    box-shadow: 0 1px 2px rgba(60, 64, 67, 0.3), 0 1px 3px 1px rgba(60, 64, 67, 0.15);\n",
              "    fill: var(--button-hover-fill-color);\n",
              "  }\n",
              "\n",
              "  .colab-df-quickchart-complete:disabled,\n",
              "  .colab-df-quickchart-complete:disabled:hover {\n",
              "    background-color: var(--disabled-bg-color);\n",
              "    fill: var(--disabled-fill-color);\n",
              "    box-shadow: none;\n",
              "  }\n",
              "\n",
              "  .colab-df-spinner {\n",
              "    border: 2px solid var(--fill-color);\n",
              "    border-color: transparent;\n",
              "    border-bottom-color: var(--fill-color);\n",
              "    animation:\n",
              "      spin 1s steps(1) infinite;\n",
              "  }\n",
              "\n",
              "  @keyframes spin {\n",
              "    0% {\n",
              "      border-color: transparent;\n",
              "      border-bottom-color: var(--fill-color);\n",
              "      border-left-color: var(--fill-color);\n",
              "    }\n",
              "    20% {\n",
              "      border-color: transparent;\n",
              "      border-left-color: var(--fill-color);\n",
              "      border-top-color: var(--fill-color);\n",
              "    }\n",
              "    30% {\n",
              "      border-color: transparent;\n",
              "      border-left-color: var(--fill-color);\n",
              "      border-top-color: var(--fill-color);\n",
              "      border-right-color: var(--fill-color);\n",
              "    }\n",
              "    40% {\n",
              "      border-color: transparent;\n",
              "      border-right-color: var(--fill-color);\n",
              "      border-top-color: var(--fill-color);\n",
              "    }\n",
              "    60% {\n",
              "      border-color: transparent;\n",
              "      border-right-color: var(--fill-color);\n",
              "    }\n",
              "    80% {\n",
              "      border-color: transparent;\n",
              "      border-right-color: var(--fill-color);\n",
              "      border-bottom-color: var(--fill-color);\n",
              "    }\n",
              "    90% {\n",
              "      border-color: transparent;\n",
              "      border-bottom-color: var(--fill-color);\n",
              "    }\n",
              "  }\n",
              "</style>\n",
              "\n",
              "  <script>\n",
              "    async function quickchart(key) {\n",
              "      const quickchartButtonEl =\n",
              "        document.querySelector('#' + key + ' button');\n",
              "      quickchartButtonEl.disabled = true;  // To prevent multiple clicks.\n",
              "      quickchartButtonEl.classList.add('colab-df-spinner');\n",
              "      try {\n",
              "        const charts = await google.colab.kernel.invokeFunction(\n",
              "            'suggestCharts', [key], {});\n",
              "      } catch (error) {\n",
              "        console.error('Error during call to suggestCharts:', error);\n",
              "      }\n",
              "      quickchartButtonEl.classList.remove('colab-df-spinner');\n",
              "      quickchartButtonEl.classList.add('colab-df-quickchart-complete');\n",
              "    }\n",
              "    (() => {\n",
              "      let quickchartButtonEl =\n",
              "        document.querySelector('#df-12610b0a-44bf-4c3e-9fd4-add475c6e90b button');\n",
              "      quickchartButtonEl.style.display =\n",
              "        google.colab.kernel.accessAllowed ? 'block' : 'none';\n",
              "    })();\n",
              "  </script>\n",
              "</div>\n",
              "\n",
              "  <div id=\"id_447c9152-7a43-416b-8f71-4950694883c3\">\n",
              "    <style>\n",
              "      .colab-df-generate {\n",
              "        background-color: #E8F0FE;\n",
              "        border: none;\n",
              "        border-radius: 50%;\n",
              "        cursor: pointer;\n",
              "        display: none;\n",
              "        fill: #1967D2;\n",
              "        height: 32px;\n",
              "        padding: 0 0 0 0;\n",
              "        width: 32px;\n",
              "      }\n",
              "\n",
              "      .colab-df-generate:hover {\n",
              "        background-color: #E2EBFA;\n",
              "        box-shadow: 0px 1px 2px rgba(60, 64, 67, 0.3), 0px 1px 3px 1px rgba(60, 64, 67, 0.15);\n",
              "        fill: #174EA6;\n",
              "      }\n",
              "\n",
              "      [theme=dark] .colab-df-generate {\n",
              "        background-color: #3B4455;\n",
              "        fill: #D2E3FC;\n",
              "      }\n",
              "\n",
              "      [theme=dark] .colab-df-generate:hover {\n",
              "        background-color: #434B5C;\n",
              "        box-shadow: 0px 1px 3px 1px rgba(0, 0, 0, 0.15);\n",
              "        filter: drop-shadow(0px 1px 2px rgba(0, 0, 0, 0.3));\n",
              "        fill: #FFFFFF;\n",
              "      }\n",
              "    </style>\n",
              "    <button class=\"colab-df-generate\" onclick=\"generateWithVariable('df')\"\n",
              "            title=\"Generate code using this dataframe.\"\n",
              "            style=\"display:none;\">\n",
              "\n",
              "  <svg xmlns=\"http://www.w3.org/2000/svg\" height=\"24px\"viewBox=\"0 0 24 24\"\n",
              "       width=\"24px\">\n",
              "    <path d=\"M7,19H8.4L18.45,9,17,7.55,7,17.6ZM5,21V16.75L18.45,3.32a2,2,0,0,1,2.83,0l1.4,1.43a1.91,1.91,0,0,1,.58,1.4,1.91,1.91,0,0,1-.58,1.4L9.25,21ZM18.45,9,17,7.55Zm-12,3A5.31,5.31,0,0,0,4.9,8.1,5.31,5.31,0,0,0,1,6.5,5.31,5.31,0,0,0,4.9,4.9,5.31,5.31,0,0,0,6.5,1,5.31,5.31,0,0,0,8.1,4.9,5.31,5.31,0,0,0,12,6.5,5.46,5.46,0,0,0,6.5,12Z\"/>\n",
              "  </svg>\n",
              "    </button>\n",
              "    <script>\n",
              "      (() => {\n",
              "      const buttonEl =\n",
              "        document.querySelector('#id_447c9152-7a43-416b-8f71-4950694883c3 button.colab-df-generate');\n",
              "      buttonEl.style.display =\n",
              "        google.colab.kernel.accessAllowed ? 'block' : 'none';\n",
              "\n",
              "      buttonEl.onclick = () => {\n",
              "        google.colab.notebook.generateWithVariable('df');\n",
              "      }\n",
              "      })();\n",
              "    </script>\n",
              "  </div>\n",
              "\n",
              "    </div>\n",
              "  </div>\n"
            ],
            "application/vnd.google.colaboratory.intrinsic+json": {
              "type": "dataframe",
              "variable_name": "df",
              "summary": "{\n  \"name\": \"df\",\n  \"rows\": 71,\n  \"fields\": [\n    {\n      \"column\": 0,\n      \"properties\": {\n        \"dtype\": \"number\",\n        \"std\": 0,\n        \"min\": 1,\n        \"max\": 5,\n        \"num_unique_values\": 5,\n        \"samples\": [\n          4,\n          1,\n          3\n        ],\n        \"semantic_type\": \"\",\n        \"description\": \"\"\n      }\n    }\n  ]\n}"
            }
          },
          "metadata": {},
          "execution_count": 38
        }
      ]
    },
    {
      "cell_type": "markdown",
      "source": [
        "frrekuansi paling tinggi dari count vector adalah bahasa dan komputer"
      ],
      "metadata": {
        "id": "05kP4_YS6JkU"
      }
    },
    {
      "cell_type": "markdown",
      "source": [
        "### 2. TF-IDF"
      ],
      "metadata": {
        "id": "P_1wM1xSlTxt"
      }
    },
    {
      "cell_type": "code",
      "source": [
        "from sklearn.feature_extraction.text import TfidfVectorizer"
      ],
      "metadata": {
        "id": "o7ES0ZMxlIdH"
      },
      "execution_count": 56,
      "outputs": []
    },
    {
      "cell_type": "code",
      "source": [
        "dokumen = [\"Pengertian Lagu Wajib beserta Ciri Ciri Lirik dan Contohnya\"]"
      ],
      "metadata": {
        "id": "PgjDAx2J37y-"
      },
      "execution_count": 57,
      "outputs": []
    },
    {
      "cell_type": "code",
      "source": [
        "vectorizer = TfidfVectorizer() # norm=\"l1\" or l2 or default, default = l2\n",
        "tfidf = vectorizer.fit_transform(dokumen)"
      ],
      "metadata": {
        "id": "wpbyPyRJm0kz"
      },
      "execution_count": 58,
      "outputs": []
    },
    {
      "cell_type": "code",
      "source": [
        "vectorizer.vocabulary_"
      ],
      "metadata": {
        "id": "9Hot489XnD_K",
        "colab": {
          "base_uri": "https://localhost:8080/"
        },
        "outputId": "c8f150d5-9f5d-4ab4-a2a0-e1c5fc222a70"
      },
      "execution_count": 59,
      "outputs": [
        {
          "output_type": "execute_result",
          "data": {
            "text/plain": [
              "{'pengertian': 6,\n",
              " 'lagu': 4,\n",
              " 'wajib': 7,\n",
              " 'beserta': 0,\n",
              " 'ciri': 1,\n",
              " 'lirik': 5,\n",
              " 'dan': 3,\n",
              " 'contohnya': 2}"
            ]
          },
          "metadata": {},
          "execution_count": 59
        }
      ]
    },
    {
      "cell_type": "code",
      "source": [
        "print(tfidf)"
      ],
      "metadata": {
        "id": "6zT3mJdmoN0S",
        "colab": {
          "base_uri": "https://localhost:8080/"
        },
        "outputId": "73ad703a-ea63-4448-fc44-ce41e4e3271a"
      },
      "execution_count": 60,
      "outputs": [
        {
          "output_type": "stream",
          "name": "stdout",
          "text": [
            "  (0, 6)\t0.30151134457776363\n",
            "  (0, 4)\t0.30151134457776363\n",
            "  (0, 7)\t0.30151134457776363\n",
            "  (0, 0)\t0.30151134457776363\n",
            "  (0, 1)\t0.6030226891555273\n",
            "  (0, 5)\t0.30151134457776363\n",
            "  (0, 3)\t0.30151134457776363\n",
            "  (0, 2)\t0.30151134457776363\n"
          ]
        }
      ]
    },
    {
      "cell_type": "code",
      "source": [
        "# dengan data lebih banyak\n",
        "data = [\n",
        "    \"Pengertian Lagu Wajib beserta Ciri Lirik dan Contohnya\",\n",
        "    \"Lirik Lagu Indonesia Raya\",\n",
        "    \"Penjelasan Mengenai Metronome dan Fungsinya dalam Musik\",\n",
        "    \"Ulasan tentang Ekonomi Kreatif beserta Ciri-Ciri dan Manfaatnya\",\n",
        "    \"Ragam Kerajinan Khas yang Terdapat di Indonesia\"\n",
        "]"
      ],
      "metadata": {
        "id": "6aL997fm4by-"
      },
      "execution_count": 61,
      "outputs": []
    },
    {
      "cell_type": "code",
      "source": [
        "# menggunakan data lebih banyak\n",
        "vectorizer = TfidfVectorizer()\n",
        "tfidf = vectorizer.fit_transform(data)"
      ],
      "metadata": {
        "id": "Ryfcw5TAoRwo"
      },
      "execution_count": 62,
      "outputs": []
    },
    {
      "cell_type": "code",
      "source": [
        "tfidf.shape"
      ],
      "metadata": {
        "id": "-W962RhspC3g",
        "colab": {
          "base_uri": "https://localhost:8080/"
        },
        "outputId": "cd9c9b84-cbe2-4003-d5cb-0deeb7bf8db7"
      },
      "execution_count": 63,
      "outputs": [
        {
          "output_type": "execute_result",
          "data": {
            "text/plain": [
              "(5, 27)"
            ]
          },
          "metadata": {},
          "execution_count": 63
        }
      ]
    },
    {
      "cell_type": "code",
      "source": [
        "print(tfidf)"
      ],
      "metadata": {
        "id": "BJENuzK1ol4S",
        "colab": {
          "base_uri": "https://localhost:8080/"
        },
        "outputId": "6e3a2adf-1103-4d6a-f5be-8f0d4d5725d9"
      },
      "execution_count": 64,
      "outputs": [
        {
          "output_type": "stream",
          "name": "stdout",
          "text": [
            "  (0, 18)\t0.4064846527589392\n",
            "  (0, 12)\t0.327949258410413\n",
            "  (0, 25)\t0.4064846527589392\n",
            "  (0, 0)\t0.327949258410413\n",
            "  (0, 1)\t0.327949258410413\n",
            "  (0, 13)\t0.327949258410413\n",
            "  (0, 4)\t0.2722275093493945\n",
            "  (0, 2)\t0.4064846527589392\n",
            "  (1, 12)\t0.46951480421464364\n",
            "  (1, 13)\t0.46951480421464364\n",
            "  (1, 8)\t0.46951480421464364\n",
            "  (1, 21)\t0.5819514978671799\n",
            "  (2, 4)\t0.26372909429700125\n",
            "  (2, 19)\t0.39379498998448487\n",
            "  (2, 15)\t0.39379498998448487\n",
            "  (2, 16)\t0.39379498998448487\n",
            "  (2, 7)\t0.39379498998448487\n",
            "  (2, 3)\t0.39379498998448487\n",
            "  (2, 17)\t0.39379498998448487\n",
            "  (3, 0)\t0.2734800562367467\n",
            "  (3, 1)\t0.5469601124734934\n",
            "  (3, 4)\t0.22701315114087783\n",
            "  (3, 24)\t0.33897148063305216\n",
            "  (3, 22)\t0.33897148063305216\n",
            "  (3, 6)\t0.33897148063305216\n",
            "  (3, 11)\t0.33897148063305216\n",
            "  (3, 14)\t0.33897148063305216\n",
            "  (4, 8)\t0.3128396318588854\n",
            "  (4, 20)\t0.38775666010579296\n",
            "  (4, 9)\t0.38775666010579296\n",
            "  (4, 10)\t0.38775666010579296\n",
            "  (4, 26)\t0.38775666010579296\n",
            "  (4, 23)\t0.38775666010579296\n",
            "  (4, 5)\t0.38775666010579296\n"
          ]
        }
      ]
    },
    {
      "cell_type": "code",
      "source": [
        "vectorizer.vocabulary_"
      ],
      "metadata": {
        "colab": {
          "base_uri": "https://localhost:8080/"
        },
        "id": "36GI7Yi_dyBD",
        "outputId": "1859cf40-1995-42b6-9555-c938614e5772"
      },
      "execution_count": 65,
      "outputs": [
        {
          "output_type": "execute_result",
          "data": {
            "text/plain": [
              "{'pengertian': 18,\n",
              " 'lagu': 12,\n",
              " 'wajib': 25,\n",
              " 'beserta': 0,\n",
              " 'ciri': 1,\n",
              " 'lirik': 13,\n",
              " 'dan': 4,\n",
              " 'contohnya': 2,\n",
              " 'indonesia': 8,\n",
              " 'raya': 21,\n",
              " 'penjelasan': 19,\n",
              " 'mengenai': 15,\n",
              " 'metronome': 16,\n",
              " 'fungsinya': 7,\n",
              " 'dalam': 3,\n",
              " 'musik': 17,\n",
              " 'ulasan': 24,\n",
              " 'tentang': 22,\n",
              " 'ekonomi': 6,\n",
              " 'kreatif': 11,\n",
              " 'manfaatnya': 14,\n",
              " 'ragam': 20,\n",
              " 'kerajinan': 9,\n",
              " 'khas': 10,\n",
              " 'yang': 26,\n",
              " 'terdapat': 23,\n",
              " 'di': 5}"
            ]
          },
          "metadata": {},
          "execution_count": 65
        }
      ]
    },
    {
      "cell_type": "code",
      "source": [
        "tfidf_array = tfidf.toarray()\n",
        "df = pd.DataFrame(data=tfidf_array, columns = vectorizer.get_feature_names_out()) # untuk scikit learn baru, menggunakan get_feature_names()\n",
        "df"
      ],
      "metadata": {
        "colab": {
          "base_uri": "https://localhost:8080/",
          "height": 255
        },
        "id": "RTRDIWcB4pk8",
        "outputId": "34686123-f39a-4b50-c077-09e9e12fdcd2"
      },
      "execution_count": 66,
      "outputs": [
        {
          "output_type": "execute_result",
          "data": {
            "text/plain": [
              "    beserta      ciri  contohnya     dalam       dan        di   ekonomi  \\\n",
              "0  0.327949  0.327949   0.406485  0.000000  0.272228  0.000000  0.000000   \n",
              "1  0.000000  0.000000   0.000000  0.000000  0.000000  0.000000  0.000000   \n",
              "2  0.000000  0.000000   0.000000  0.393795  0.263729  0.000000  0.000000   \n",
              "3  0.273480  0.546960   0.000000  0.000000  0.227013  0.000000  0.338971   \n",
              "4  0.000000  0.000000   0.000000  0.000000  0.000000  0.387757  0.000000   \n",
              "\n",
              "   fungsinya  indonesia  kerajinan  ...     musik  pengertian  penjelasan  \\\n",
              "0   0.000000   0.000000   0.000000  ...  0.000000    0.406485    0.000000   \n",
              "1   0.000000   0.469515   0.000000  ...  0.000000    0.000000    0.000000   \n",
              "2   0.393795   0.000000   0.000000  ...  0.393795    0.000000    0.393795   \n",
              "3   0.000000   0.000000   0.000000  ...  0.000000    0.000000    0.000000   \n",
              "4   0.000000   0.312840   0.387757  ...  0.000000    0.000000    0.000000   \n",
              "\n",
              "      ragam      raya   tentang  terdapat    ulasan     wajib      yang  \n",
              "0  0.000000  0.000000  0.000000  0.000000  0.000000  0.406485  0.000000  \n",
              "1  0.000000  0.581951  0.000000  0.000000  0.000000  0.000000  0.000000  \n",
              "2  0.000000  0.000000  0.000000  0.000000  0.000000  0.000000  0.000000  \n",
              "3  0.000000  0.000000  0.338971  0.000000  0.338971  0.000000  0.000000  \n",
              "4  0.387757  0.000000  0.000000  0.387757  0.000000  0.000000  0.387757  \n",
              "\n",
              "[5 rows x 27 columns]"
            ],
            "text/html": [
              "\n",
              "  <div id=\"df-e7743d20-d7f0-453a-9fe3-f60d92ff3471\" class=\"colab-df-container\">\n",
              "    <div>\n",
              "<style scoped>\n",
              "    .dataframe tbody tr th:only-of-type {\n",
              "        vertical-align: middle;\n",
              "    }\n",
              "\n",
              "    .dataframe tbody tr th {\n",
              "        vertical-align: top;\n",
              "    }\n",
              "\n",
              "    .dataframe thead th {\n",
              "        text-align: right;\n",
              "    }\n",
              "</style>\n",
              "<table border=\"1\" class=\"dataframe\">\n",
              "  <thead>\n",
              "    <tr style=\"text-align: right;\">\n",
              "      <th></th>\n",
              "      <th>beserta</th>\n",
              "      <th>ciri</th>\n",
              "      <th>contohnya</th>\n",
              "      <th>dalam</th>\n",
              "      <th>dan</th>\n",
              "      <th>di</th>\n",
              "      <th>ekonomi</th>\n",
              "      <th>fungsinya</th>\n",
              "      <th>indonesia</th>\n",
              "      <th>kerajinan</th>\n",
              "      <th>...</th>\n",
              "      <th>musik</th>\n",
              "      <th>pengertian</th>\n",
              "      <th>penjelasan</th>\n",
              "      <th>ragam</th>\n",
              "      <th>raya</th>\n",
              "      <th>tentang</th>\n",
              "      <th>terdapat</th>\n",
              "      <th>ulasan</th>\n",
              "      <th>wajib</th>\n",
              "      <th>yang</th>\n",
              "    </tr>\n",
              "  </thead>\n",
              "  <tbody>\n",
              "    <tr>\n",
              "      <th>0</th>\n",
              "      <td>0.327949</td>\n",
              "      <td>0.327949</td>\n",
              "      <td>0.406485</td>\n",
              "      <td>0.000000</td>\n",
              "      <td>0.272228</td>\n",
              "      <td>0.000000</td>\n",
              "      <td>0.000000</td>\n",
              "      <td>0.000000</td>\n",
              "      <td>0.000000</td>\n",
              "      <td>0.000000</td>\n",
              "      <td>...</td>\n",
              "      <td>0.000000</td>\n",
              "      <td>0.406485</td>\n",
              "      <td>0.000000</td>\n",
              "      <td>0.000000</td>\n",
              "      <td>0.000000</td>\n",
              "      <td>0.000000</td>\n",
              "      <td>0.000000</td>\n",
              "      <td>0.000000</td>\n",
              "      <td>0.406485</td>\n",
              "      <td>0.000000</td>\n",
              "    </tr>\n",
              "    <tr>\n",
              "      <th>1</th>\n",
              "      <td>0.000000</td>\n",
              "      <td>0.000000</td>\n",
              "      <td>0.000000</td>\n",
              "      <td>0.000000</td>\n",
              "      <td>0.000000</td>\n",
              "      <td>0.000000</td>\n",
              "      <td>0.000000</td>\n",
              "      <td>0.000000</td>\n",
              "      <td>0.469515</td>\n",
              "      <td>0.000000</td>\n",
              "      <td>...</td>\n",
              "      <td>0.000000</td>\n",
              "      <td>0.000000</td>\n",
              "      <td>0.000000</td>\n",
              "      <td>0.000000</td>\n",
              "      <td>0.581951</td>\n",
              "      <td>0.000000</td>\n",
              "      <td>0.000000</td>\n",
              "      <td>0.000000</td>\n",
              "      <td>0.000000</td>\n",
              "      <td>0.000000</td>\n",
              "    </tr>\n",
              "    <tr>\n",
              "      <th>2</th>\n",
              "      <td>0.000000</td>\n",
              "      <td>0.000000</td>\n",
              "      <td>0.000000</td>\n",
              "      <td>0.393795</td>\n",
              "      <td>0.263729</td>\n",
              "      <td>0.000000</td>\n",
              "      <td>0.000000</td>\n",
              "      <td>0.393795</td>\n",
              "      <td>0.000000</td>\n",
              "      <td>0.000000</td>\n",
              "      <td>...</td>\n",
              "      <td>0.393795</td>\n",
              "      <td>0.000000</td>\n",
              "      <td>0.393795</td>\n",
              "      <td>0.000000</td>\n",
              "      <td>0.000000</td>\n",
              "      <td>0.000000</td>\n",
              "      <td>0.000000</td>\n",
              "      <td>0.000000</td>\n",
              "      <td>0.000000</td>\n",
              "      <td>0.000000</td>\n",
              "    </tr>\n",
              "    <tr>\n",
              "      <th>3</th>\n",
              "      <td>0.273480</td>\n",
              "      <td>0.546960</td>\n",
              "      <td>0.000000</td>\n",
              "      <td>0.000000</td>\n",
              "      <td>0.227013</td>\n",
              "      <td>0.000000</td>\n",
              "      <td>0.338971</td>\n",
              "      <td>0.000000</td>\n",
              "      <td>0.000000</td>\n",
              "      <td>0.000000</td>\n",
              "      <td>...</td>\n",
              "      <td>0.000000</td>\n",
              "      <td>0.000000</td>\n",
              "      <td>0.000000</td>\n",
              "      <td>0.000000</td>\n",
              "      <td>0.000000</td>\n",
              "      <td>0.338971</td>\n",
              "      <td>0.000000</td>\n",
              "      <td>0.338971</td>\n",
              "      <td>0.000000</td>\n",
              "      <td>0.000000</td>\n",
              "    </tr>\n",
              "    <tr>\n",
              "      <th>4</th>\n",
              "      <td>0.000000</td>\n",
              "      <td>0.000000</td>\n",
              "      <td>0.000000</td>\n",
              "      <td>0.000000</td>\n",
              "      <td>0.000000</td>\n",
              "      <td>0.387757</td>\n",
              "      <td>0.000000</td>\n",
              "      <td>0.000000</td>\n",
              "      <td>0.312840</td>\n",
              "      <td>0.387757</td>\n",
              "      <td>...</td>\n",
              "      <td>0.000000</td>\n",
              "      <td>0.000000</td>\n",
              "      <td>0.000000</td>\n",
              "      <td>0.387757</td>\n",
              "      <td>0.000000</td>\n",
              "      <td>0.000000</td>\n",
              "      <td>0.387757</td>\n",
              "      <td>0.000000</td>\n",
              "      <td>0.000000</td>\n",
              "      <td>0.387757</td>\n",
              "    </tr>\n",
              "  </tbody>\n",
              "</table>\n",
              "<p>5 rows × 27 columns</p>\n",
              "</div>\n",
              "    <div class=\"colab-df-buttons\">\n",
              "\n",
              "  <div class=\"colab-df-container\">\n",
              "    <button class=\"colab-df-convert\" onclick=\"convertToInteractive('df-e7743d20-d7f0-453a-9fe3-f60d92ff3471')\"\n",
              "            title=\"Convert this dataframe to an interactive table.\"\n",
              "            style=\"display:none;\">\n",
              "\n",
              "  <svg xmlns=\"http://www.w3.org/2000/svg\" height=\"24px\" viewBox=\"0 -960 960 960\">\n",
              "    <path d=\"M120-120v-720h720v720H120Zm60-500h600v-160H180v160Zm220 220h160v-160H400v160Zm0 220h160v-160H400v160ZM180-400h160v-160H180v160Zm440 0h160v-160H620v160ZM180-180h160v-160H180v160Zm440 0h160v-160H620v160Z\"/>\n",
              "  </svg>\n",
              "    </button>\n",
              "\n",
              "  <style>\n",
              "    .colab-df-container {\n",
              "      display:flex;\n",
              "      gap: 12px;\n",
              "    }\n",
              "\n",
              "    .colab-df-convert {\n",
              "      background-color: #E8F0FE;\n",
              "      border: none;\n",
              "      border-radius: 50%;\n",
              "      cursor: pointer;\n",
              "      display: none;\n",
              "      fill: #1967D2;\n",
              "      height: 32px;\n",
              "      padding: 0 0 0 0;\n",
              "      width: 32px;\n",
              "    }\n",
              "\n",
              "    .colab-df-convert:hover {\n",
              "      background-color: #E2EBFA;\n",
              "      box-shadow: 0px 1px 2px rgba(60, 64, 67, 0.3), 0px 1px 3px 1px rgba(60, 64, 67, 0.15);\n",
              "      fill: #174EA6;\n",
              "    }\n",
              "\n",
              "    .colab-df-buttons div {\n",
              "      margin-bottom: 4px;\n",
              "    }\n",
              "\n",
              "    [theme=dark] .colab-df-convert {\n",
              "      background-color: #3B4455;\n",
              "      fill: #D2E3FC;\n",
              "    }\n",
              "\n",
              "    [theme=dark] .colab-df-convert:hover {\n",
              "      background-color: #434B5C;\n",
              "      box-shadow: 0px 1px 3px 1px rgba(0, 0, 0, 0.15);\n",
              "      filter: drop-shadow(0px 1px 2px rgba(0, 0, 0, 0.3));\n",
              "      fill: #FFFFFF;\n",
              "    }\n",
              "  </style>\n",
              "\n",
              "    <script>\n",
              "      const buttonEl =\n",
              "        document.querySelector('#df-e7743d20-d7f0-453a-9fe3-f60d92ff3471 button.colab-df-convert');\n",
              "      buttonEl.style.display =\n",
              "        google.colab.kernel.accessAllowed ? 'block' : 'none';\n",
              "\n",
              "      async function convertToInteractive(key) {\n",
              "        const element = document.querySelector('#df-e7743d20-d7f0-453a-9fe3-f60d92ff3471');\n",
              "        const dataTable =\n",
              "          await google.colab.kernel.invokeFunction('convertToInteractive',\n",
              "                                                    [key], {});\n",
              "        if (!dataTable) return;\n",
              "\n",
              "        const docLinkHtml = 'Like what you see? Visit the ' +\n",
              "          '<a target=\"_blank\" href=https://colab.research.google.com/notebooks/data_table.ipynb>data table notebook</a>'\n",
              "          + ' to learn more about interactive tables.';\n",
              "        element.innerHTML = '';\n",
              "        dataTable['output_type'] = 'display_data';\n",
              "        await google.colab.output.renderOutput(dataTable, element);\n",
              "        const docLink = document.createElement('div');\n",
              "        docLink.innerHTML = docLinkHtml;\n",
              "        element.appendChild(docLink);\n",
              "      }\n",
              "    </script>\n",
              "  </div>\n",
              "\n",
              "\n",
              "<div id=\"df-f6378518-a24a-4206-89c0-c0a75c412f87\">\n",
              "  <button class=\"colab-df-quickchart\" onclick=\"quickchart('df-f6378518-a24a-4206-89c0-c0a75c412f87')\"\n",
              "            title=\"Suggest charts\"\n",
              "            style=\"display:none;\">\n",
              "\n",
              "<svg xmlns=\"http://www.w3.org/2000/svg\" height=\"24px\"viewBox=\"0 0 24 24\"\n",
              "     width=\"24px\">\n",
              "    <g>\n",
              "        <path d=\"M19 3H5c-1.1 0-2 .9-2 2v14c0 1.1.9 2 2 2h14c1.1 0 2-.9 2-2V5c0-1.1-.9-2-2-2zM9 17H7v-7h2v7zm4 0h-2V7h2v10zm4 0h-2v-4h2v4z\"/>\n",
              "    </g>\n",
              "</svg>\n",
              "  </button>\n",
              "\n",
              "<style>\n",
              "  .colab-df-quickchart {\n",
              "      --bg-color: #E8F0FE;\n",
              "      --fill-color: #1967D2;\n",
              "      --hover-bg-color: #E2EBFA;\n",
              "      --hover-fill-color: #174EA6;\n",
              "      --disabled-fill-color: #AAA;\n",
              "      --disabled-bg-color: #DDD;\n",
              "  }\n",
              "\n",
              "  [theme=dark] .colab-df-quickchart {\n",
              "      --bg-color: #3B4455;\n",
              "      --fill-color: #D2E3FC;\n",
              "      --hover-bg-color: #434B5C;\n",
              "      --hover-fill-color: #FFFFFF;\n",
              "      --disabled-bg-color: #3B4455;\n",
              "      --disabled-fill-color: #666;\n",
              "  }\n",
              "\n",
              "  .colab-df-quickchart {\n",
              "    background-color: var(--bg-color);\n",
              "    border: none;\n",
              "    border-radius: 50%;\n",
              "    cursor: pointer;\n",
              "    display: none;\n",
              "    fill: var(--fill-color);\n",
              "    height: 32px;\n",
              "    padding: 0;\n",
              "    width: 32px;\n",
              "  }\n",
              "\n",
              "  .colab-df-quickchart:hover {\n",
              "    background-color: var(--hover-bg-color);\n",
              "    box-shadow: 0 1px 2px rgba(60, 64, 67, 0.3), 0 1px 3px 1px rgba(60, 64, 67, 0.15);\n",
              "    fill: var(--button-hover-fill-color);\n",
              "  }\n",
              "\n",
              "  .colab-df-quickchart-complete:disabled,\n",
              "  .colab-df-quickchart-complete:disabled:hover {\n",
              "    background-color: var(--disabled-bg-color);\n",
              "    fill: var(--disabled-fill-color);\n",
              "    box-shadow: none;\n",
              "  }\n",
              "\n",
              "  .colab-df-spinner {\n",
              "    border: 2px solid var(--fill-color);\n",
              "    border-color: transparent;\n",
              "    border-bottom-color: var(--fill-color);\n",
              "    animation:\n",
              "      spin 1s steps(1) infinite;\n",
              "  }\n",
              "\n",
              "  @keyframes spin {\n",
              "    0% {\n",
              "      border-color: transparent;\n",
              "      border-bottom-color: var(--fill-color);\n",
              "      border-left-color: var(--fill-color);\n",
              "    }\n",
              "    20% {\n",
              "      border-color: transparent;\n",
              "      border-left-color: var(--fill-color);\n",
              "      border-top-color: var(--fill-color);\n",
              "    }\n",
              "    30% {\n",
              "      border-color: transparent;\n",
              "      border-left-color: var(--fill-color);\n",
              "      border-top-color: var(--fill-color);\n",
              "      border-right-color: var(--fill-color);\n",
              "    }\n",
              "    40% {\n",
              "      border-color: transparent;\n",
              "      border-right-color: var(--fill-color);\n",
              "      border-top-color: var(--fill-color);\n",
              "    }\n",
              "    60% {\n",
              "      border-color: transparent;\n",
              "      border-right-color: var(--fill-color);\n",
              "    }\n",
              "    80% {\n",
              "      border-color: transparent;\n",
              "      border-right-color: var(--fill-color);\n",
              "      border-bottom-color: var(--fill-color);\n",
              "    }\n",
              "    90% {\n",
              "      border-color: transparent;\n",
              "      border-bottom-color: var(--fill-color);\n",
              "    }\n",
              "  }\n",
              "</style>\n",
              "\n",
              "  <script>\n",
              "    async function quickchart(key) {\n",
              "      const quickchartButtonEl =\n",
              "        document.querySelector('#' + key + ' button');\n",
              "      quickchartButtonEl.disabled = true;  // To prevent multiple clicks.\n",
              "      quickchartButtonEl.classList.add('colab-df-spinner');\n",
              "      try {\n",
              "        const charts = await google.colab.kernel.invokeFunction(\n",
              "            'suggestCharts', [key], {});\n",
              "      } catch (error) {\n",
              "        console.error('Error during call to suggestCharts:', error);\n",
              "      }\n",
              "      quickchartButtonEl.classList.remove('colab-df-spinner');\n",
              "      quickchartButtonEl.classList.add('colab-df-quickchart-complete');\n",
              "    }\n",
              "    (() => {\n",
              "      let quickchartButtonEl =\n",
              "        document.querySelector('#df-f6378518-a24a-4206-89c0-c0a75c412f87 button');\n",
              "      quickchartButtonEl.style.display =\n",
              "        google.colab.kernel.accessAllowed ? 'block' : 'none';\n",
              "    })();\n",
              "  </script>\n",
              "</div>\n",
              "\n",
              "  <div id=\"id_30e0b3fb-7757-4aad-b3a0-a13ae398b8c5\">\n",
              "    <style>\n",
              "      .colab-df-generate {\n",
              "        background-color: #E8F0FE;\n",
              "        border: none;\n",
              "        border-radius: 50%;\n",
              "        cursor: pointer;\n",
              "        display: none;\n",
              "        fill: #1967D2;\n",
              "        height: 32px;\n",
              "        padding: 0 0 0 0;\n",
              "        width: 32px;\n",
              "      }\n",
              "\n",
              "      .colab-df-generate:hover {\n",
              "        background-color: #E2EBFA;\n",
              "        box-shadow: 0px 1px 2px rgba(60, 64, 67, 0.3), 0px 1px 3px 1px rgba(60, 64, 67, 0.15);\n",
              "        fill: #174EA6;\n",
              "      }\n",
              "\n",
              "      [theme=dark] .colab-df-generate {\n",
              "        background-color: #3B4455;\n",
              "        fill: #D2E3FC;\n",
              "      }\n",
              "\n",
              "      [theme=dark] .colab-df-generate:hover {\n",
              "        background-color: #434B5C;\n",
              "        box-shadow: 0px 1px 3px 1px rgba(0, 0, 0, 0.15);\n",
              "        filter: drop-shadow(0px 1px 2px rgba(0, 0, 0, 0.3));\n",
              "        fill: #FFFFFF;\n",
              "      }\n",
              "    </style>\n",
              "    <button class=\"colab-df-generate\" onclick=\"generateWithVariable('df')\"\n",
              "            title=\"Generate code using this dataframe.\"\n",
              "            style=\"display:none;\">\n",
              "\n",
              "  <svg xmlns=\"http://www.w3.org/2000/svg\" height=\"24px\"viewBox=\"0 0 24 24\"\n",
              "       width=\"24px\">\n",
              "    <path d=\"M7,19H8.4L18.45,9,17,7.55,7,17.6ZM5,21V16.75L18.45,3.32a2,2,0,0,1,2.83,0l1.4,1.43a1.91,1.91,0,0,1,.58,1.4,1.91,1.91,0,0,1-.58,1.4L9.25,21ZM18.45,9,17,7.55Zm-12,3A5.31,5.31,0,0,0,4.9,8.1,5.31,5.31,0,0,0,1,6.5,5.31,5.31,0,0,0,4.9,4.9,5.31,5.31,0,0,0,6.5,1,5.31,5.31,0,0,0,8.1,4.9,5.31,5.31,0,0,0,12,6.5,5.46,5.46,0,0,0,6.5,12Z\"/>\n",
              "  </svg>\n",
              "    </button>\n",
              "    <script>\n",
              "      (() => {\n",
              "      const buttonEl =\n",
              "        document.querySelector('#id_30e0b3fb-7757-4aad-b3a0-a13ae398b8c5 button.colab-df-generate');\n",
              "      buttonEl.style.display =\n",
              "        google.colab.kernel.accessAllowed ? 'block' : 'none';\n",
              "\n",
              "      buttonEl.onclick = () => {\n",
              "        google.colab.notebook.generateWithVariable('df');\n",
              "      }\n",
              "      })();\n",
              "    </script>\n",
              "  </div>\n",
              "\n",
              "    </div>\n",
              "  </div>\n"
            ],
            "application/vnd.google.colaboratory.intrinsic+json": {
              "type": "dataframe",
              "variable_name": "df"
            }
          },
          "metadata": {},
          "execution_count": 66
        }
      ]
    },
    {
      "cell_type": "markdown",
      "source": [
        "* Customize TF-IDF"
      ],
      "metadata": {
        "id": "pRXsH7p7o4QN"
      }
    },
    {
      "cell_type": "code",
      "source": [
        "# menggunkanan stop_words yang sudah didefinisikan\n",
        "# DAN menggunakan MIN_DF sebagai tambahan stop_words\n",
        "# abaikan kata yang muncul di kurang dari 25% dokumen\n",
        "# stop_words = [\"dan\", \"yang\"]\n",
        "\n",
        "vectorizer = TfidfVectorizer(stop_words=stop_words, min_df=0.25)\n",
        "tfidf=vectorizer.fit_transform(long_text)\n",
        "tfidf.shape"
      ],
      "metadata": {
        "id": "Ktels-qconMF",
        "colab": {
          "base_uri": "https://localhost:8080/"
        },
        "outputId": "7b42e54d-839c-48d5-f5dc-ef04abfd3fda"
      },
      "execution_count": 67,
      "outputs": [
        {
          "output_type": "execute_result",
          "data": {
            "text/plain": [
              "(1, 71)"
            ]
          },
          "metadata": {},
          "execution_count": 67
        }
      ]
    },
    {
      "cell_type": "code",
      "source": [
        "print(tfidf)"
      ],
      "metadata": {
        "colab": {
          "base_uri": "https://localhost:8080/"
        },
        "id": "G5crnVtZ5QM1",
        "outputId": "7d9ca003-6ca6-4c95-fdb6-c56319e77362"
      },
      "execution_count": 68,
      "outputs": [
        {
          "output_type": "stream",
          "name": "stdout",
          "text": [
            "  (0, 58)\t0.14784425419091457\n",
            "  (0, 4)\t0.3696106354772864\n",
            "  (0, 2)\t0.22176638128637186\n",
            "  (0, 18)\t0.14784425419091457\n",
            "  (0, 55)\t0.07392212709545729\n",
            "  (0, 23)\t0.07392212709545729\n",
            "  (0, 52)\t0.07392212709545729\n",
            "  (0, 37)\t0.07392212709545729\n",
            "  (0, 59)\t0.07392212709545729\n",
            "  (0, 53)\t0.14784425419091457\n",
            "  (0, 0)\t0.14784425419091457\n",
            "  (0, 9)\t0.07392212709545729\n",
            "  (0, 21)\t0.07392212709545729\n",
            "  (0, 35)\t0.3696106354772864\n",
            "  (0, 38)\t0.07392212709545729\n",
            "  (0, 32)\t0.07392212709545729\n",
            "  (0, 8)\t0.07392212709545729\n",
            "  (0, 48)\t0.07392212709545729\n",
            "  (0, 25)\t0.07392212709545729\n",
            "  (0, 3)\t0.14784425419091457\n",
            "  (0, 41)\t0.07392212709545729\n",
            "  (0, 34)\t0.07392212709545729\n",
            "  (0, 10)\t0.07392212709545729\n",
            "  (0, 43)\t0.07392212709545729\n",
            "  (0, 68)\t0.07392212709545729\n",
            "  :\t:\n",
            "  (0, 14)\t0.07392212709545729\n",
            "  (0, 61)\t0.07392212709545729\n",
            "  (0, 47)\t0.07392212709545729\n",
            "  (0, 44)\t0.07392212709545729\n",
            "  (0, 27)\t0.07392212709545729\n",
            "  (0, 62)\t0.07392212709545729\n",
            "  (0, 29)\t0.14784425419091457\n",
            "  (0, 36)\t0.07392212709545729\n",
            "  (0, 45)\t0.14784425419091457\n",
            "  (0, 60)\t0.14784425419091457\n",
            "  (0, 70)\t0.22176638128637186\n",
            "  (0, 64)\t0.14784425419091457\n",
            "  (0, 56)\t0.07392212709545729\n",
            "  (0, 33)\t0.07392212709545729\n",
            "  (0, 31)\t0.07392212709545729\n",
            "  (0, 57)\t0.07392212709545729\n",
            "  (0, 39)\t0.07392212709545729\n",
            "  (0, 51)\t0.07392212709545729\n",
            "  (0, 30)\t0.07392212709545729\n",
            "  (0, 65)\t0.07392212709545729\n",
            "  (0, 5)\t0.07392212709545729\n",
            "  (0, 50)\t0.07392212709545729\n",
            "  (0, 63)\t0.07392212709545729\n",
            "  (0, 7)\t0.07392212709545729\n",
            "  (0, 67)\t0.07392212709545729\n"
          ]
        }
      ]
    },
    {
      "cell_type": "code",
      "source": [
        "tfidf_array = tfidf.toarray()\n",
        "df = pd.DataFrame(data=tfidf_array, columns = vectorizer.get_feature_names_out()) # untuk scikit learn baru, menggunakan get_feature_names()\n",
        "df"
      ],
      "metadata": {
        "colab": {
          "base_uri": "https://localhost:8080/",
          "height": 130
        },
        "id": "n0bSte03e8xA",
        "outputId": "9c9cdc48-b3ad-4288-cdd5-1c6e9acf7529"
      },
      "execution_count": 70,
      "outputs": [
        {
          "output_type": "execute_result",
          "data": {
            "text/plain": [
              "     adalah    akurat     alami    antara    bahasa  berkembang     besar  \\\n",
              "0  0.147844  0.073922  0.221766  0.147844  0.369611    0.073922  0.073922   \n",
              "\n",
              "     bidang    buatan    cabang  ...  sekaligus   sendiri     suatu      teks  \\\n",
              "0  0.073922  0.073922  0.073922  ...   0.073922  0.073922  0.073922  0.147844   \n",
              "\n",
              "      telah  termasuk  terpisah     untuk   wawasan    wicara  \n",
              "0  0.073922  0.073922  0.073922  0.073922  0.073922  0.221766  \n",
              "\n",
              "[1 rows x 71 columns]"
            ],
            "text/html": [
              "\n",
              "  <div id=\"df-3667dcbe-8906-4958-9389-2dd40e5882e4\" class=\"colab-df-container\">\n",
              "    <div>\n",
              "<style scoped>\n",
              "    .dataframe tbody tr th:only-of-type {\n",
              "        vertical-align: middle;\n",
              "    }\n",
              "\n",
              "    .dataframe tbody tr th {\n",
              "        vertical-align: top;\n",
              "    }\n",
              "\n",
              "    .dataframe thead th {\n",
              "        text-align: right;\n",
              "    }\n",
              "</style>\n",
              "<table border=\"1\" class=\"dataframe\">\n",
              "  <thead>\n",
              "    <tr style=\"text-align: right;\">\n",
              "      <th></th>\n",
              "      <th>adalah</th>\n",
              "      <th>akurat</th>\n",
              "      <th>alami</th>\n",
              "      <th>antara</th>\n",
              "      <th>bahasa</th>\n",
              "      <th>berkembang</th>\n",
              "      <th>besar</th>\n",
              "      <th>bidang</th>\n",
              "      <th>buatan</th>\n",
              "      <th>cabang</th>\n",
              "      <th>...</th>\n",
              "      <th>sekaligus</th>\n",
              "      <th>sendiri</th>\n",
              "      <th>suatu</th>\n",
              "      <th>teks</th>\n",
              "      <th>telah</th>\n",
              "      <th>termasuk</th>\n",
              "      <th>terpisah</th>\n",
              "      <th>untuk</th>\n",
              "      <th>wawasan</th>\n",
              "      <th>wicara</th>\n",
              "    </tr>\n",
              "  </thead>\n",
              "  <tbody>\n",
              "    <tr>\n",
              "      <th>0</th>\n",
              "      <td>0.147844</td>\n",
              "      <td>0.073922</td>\n",
              "      <td>0.221766</td>\n",
              "      <td>0.147844</td>\n",
              "      <td>0.369611</td>\n",
              "      <td>0.073922</td>\n",
              "      <td>0.073922</td>\n",
              "      <td>0.073922</td>\n",
              "      <td>0.073922</td>\n",
              "      <td>0.073922</td>\n",
              "      <td>...</td>\n",
              "      <td>0.073922</td>\n",
              "      <td>0.073922</td>\n",
              "      <td>0.073922</td>\n",
              "      <td>0.147844</td>\n",
              "      <td>0.073922</td>\n",
              "      <td>0.073922</td>\n",
              "      <td>0.073922</td>\n",
              "      <td>0.073922</td>\n",
              "      <td>0.073922</td>\n",
              "      <td>0.221766</td>\n",
              "    </tr>\n",
              "  </tbody>\n",
              "</table>\n",
              "<p>1 rows × 71 columns</p>\n",
              "</div>\n",
              "    <div class=\"colab-df-buttons\">\n",
              "\n",
              "  <div class=\"colab-df-container\">\n",
              "    <button class=\"colab-df-convert\" onclick=\"convertToInteractive('df-3667dcbe-8906-4958-9389-2dd40e5882e4')\"\n",
              "            title=\"Convert this dataframe to an interactive table.\"\n",
              "            style=\"display:none;\">\n",
              "\n",
              "  <svg xmlns=\"http://www.w3.org/2000/svg\" height=\"24px\" viewBox=\"0 -960 960 960\">\n",
              "    <path d=\"M120-120v-720h720v720H120Zm60-500h600v-160H180v160Zm220 220h160v-160H400v160Zm0 220h160v-160H400v160ZM180-400h160v-160H180v160Zm440 0h160v-160H620v160ZM180-180h160v-160H180v160Zm440 0h160v-160H620v160Z\"/>\n",
              "  </svg>\n",
              "    </button>\n",
              "\n",
              "  <style>\n",
              "    .colab-df-container {\n",
              "      display:flex;\n",
              "      gap: 12px;\n",
              "    }\n",
              "\n",
              "    .colab-df-convert {\n",
              "      background-color: #E8F0FE;\n",
              "      border: none;\n",
              "      border-radius: 50%;\n",
              "      cursor: pointer;\n",
              "      display: none;\n",
              "      fill: #1967D2;\n",
              "      height: 32px;\n",
              "      padding: 0 0 0 0;\n",
              "      width: 32px;\n",
              "    }\n",
              "\n",
              "    .colab-df-convert:hover {\n",
              "      background-color: #E2EBFA;\n",
              "      box-shadow: 0px 1px 2px rgba(60, 64, 67, 0.3), 0px 1px 3px 1px rgba(60, 64, 67, 0.15);\n",
              "      fill: #174EA6;\n",
              "    }\n",
              "\n",
              "    .colab-df-buttons div {\n",
              "      margin-bottom: 4px;\n",
              "    }\n",
              "\n",
              "    [theme=dark] .colab-df-convert {\n",
              "      background-color: #3B4455;\n",
              "      fill: #D2E3FC;\n",
              "    }\n",
              "\n",
              "    [theme=dark] .colab-df-convert:hover {\n",
              "      background-color: #434B5C;\n",
              "      box-shadow: 0px 1px 3px 1px rgba(0, 0, 0, 0.15);\n",
              "      filter: drop-shadow(0px 1px 2px rgba(0, 0, 0, 0.3));\n",
              "      fill: #FFFFFF;\n",
              "    }\n",
              "  </style>\n",
              "\n",
              "    <script>\n",
              "      const buttonEl =\n",
              "        document.querySelector('#df-3667dcbe-8906-4958-9389-2dd40e5882e4 button.colab-df-convert');\n",
              "      buttonEl.style.display =\n",
              "        google.colab.kernel.accessAllowed ? 'block' : 'none';\n",
              "\n",
              "      async function convertToInteractive(key) {\n",
              "        const element = document.querySelector('#df-3667dcbe-8906-4958-9389-2dd40e5882e4');\n",
              "        const dataTable =\n",
              "          await google.colab.kernel.invokeFunction('convertToInteractive',\n",
              "                                                    [key], {});\n",
              "        if (!dataTable) return;\n",
              "\n",
              "        const docLinkHtml = 'Like what you see? Visit the ' +\n",
              "          '<a target=\"_blank\" href=https://colab.research.google.com/notebooks/data_table.ipynb>data table notebook</a>'\n",
              "          + ' to learn more about interactive tables.';\n",
              "        element.innerHTML = '';\n",
              "        dataTable['output_type'] = 'display_data';\n",
              "        await google.colab.output.renderOutput(dataTable, element);\n",
              "        const docLink = document.createElement('div');\n",
              "        docLink.innerHTML = docLinkHtml;\n",
              "        element.appendChild(docLink);\n",
              "      }\n",
              "    </script>\n",
              "  </div>\n",
              "\n",
              "\n",
              "  <div id=\"id_f9442e4e-1af5-494f-85fb-1a66bebba737\">\n",
              "    <style>\n",
              "      .colab-df-generate {\n",
              "        background-color: #E8F0FE;\n",
              "        border: none;\n",
              "        border-radius: 50%;\n",
              "        cursor: pointer;\n",
              "        display: none;\n",
              "        fill: #1967D2;\n",
              "        height: 32px;\n",
              "        padding: 0 0 0 0;\n",
              "        width: 32px;\n",
              "      }\n",
              "\n",
              "      .colab-df-generate:hover {\n",
              "        background-color: #E2EBFA;\n",
              "        box-shadow: 0px 1px 2px rgba(60, 64, 67, 0.3), 0px 1px 3px 1px rgba(60, 64, 67, 0.15);\n",
              "        fill: #174EA6;\n",
              "      }\n",
              "\n",
              "      [theme=dark] .colab-df-generate {\n",
              "        background-color: #3B4455;\n",
              "        fill: #D2E3FC;\n",
              "      }\n",
              "\n",
              "      [theme=dark] .colab-df-generate:hover {\n",
              "        background-color: #434B5C;\n",
              "        box-shadow: 0px 1px 3px 1px rgba(0, 0, 0, 0.15);\n",
              "        filter: drop-shadow(0px 1px 2px rgba(0, 0, 0, 0.3));\n",
              "        fill: #FFFFFF;\n",
              "      }\n",
              "    </style>\n",
              "    <button class=\"colab-df-generate\" onclick=\"generateWithVariable('df')\"\n",
              "            title=\"Generate code using this dataframe.\"\n",
              "            style=\"display:none;\">\n",
              "\n",
              "  <svg xmlns=\"http://www.w3.org/2000/svg\" height=\"24px\"viewBox=\"0 0 24 24\"\n",
              "       width=\"24px\">\n",
              "    <path d=\"M7,19H8.4L18.45,9,17,7.55,7,17.6ZM5,21V16.75L18.45,3.32a2,2,0,0,1,2.83,0l1.4,1.43a1.91,1.91,0,0,1,.58,1.4,1.91,1.91,0,0,1-.58,1.4L9.25,21ZM18.45,9,17,7.55Zm-12,3A5.31,5.31,0,0,0,4.9,8.1,5.31,5.31,0,0,0,1,6.5,5.31,5.31,0,0,0,4.9,4.9,5.31,5.31,0,0,0,6.5,1,5.31,5.31,0,0,0,8.1,4.9,5.31,5.31,0,0,0,12,6.5,5.46,5.46,0,0,0,6.5,12Z\"/>\n",
              "  </svg>\n",
              "    </button>\n",
              "    <script>\n",
              "      (() => {\n",
              "      const buttonEl =\n",
              "        document.querySelector('#id_f9442e4e-1af5-494f-85fb-1a66bebba737 button.colab-df-generate');\n",
              "      buttonEl.style.display =\n",
              "        google.colab.kernel.accessAllowed ? 'block' : 'none';\n",
              "\n",
              "      buttonEl.onclick = () => {\n",
              "        google.colab.notebook.generateWithVariable('df');\n",
              "      }\n",
              "      })();\n",
              "    </script>\n",
              "  </div>\n",
              "\n",
              "    </div>\n",
              "  </div>\n"
            ],
            "application/vnd.google.colaboratory.intrinsic+json": {
              "type": "dataframe",
              "variable_name": "df"
            }
          },
          "metadata": {},
          "execution_count": 70
        }
      ]
    },
    {
      "cell_type": "code",
      "source": [
        "vectorizer.vocabulary_"
      ],
      "metadata": {
        "colab": {
          "base_uri": "https://localhost:8080/"
        },
        "id": "xgtx1TWu5AbO",
        "outputId": "fb87e309-90df-4c2d-dfe5-09584a3c845b"
      },
      "execution_count": 69,
      "outputs": [
        {
          "output_type": "execute_result",
          "data": {
            "text/plain": [
              "{'pengolahan': 58,\n",
              " 'bahasa': 4,\n",
              " 'alami': 2,\n",
              " 'disingkat': 18,\n",
              " 'pba': 55,\n",
              " 'inggris': 23,\n",
              " 'natural': 52,\n",
              " 'language': 37,\n",
              " 'processing': 59,\n",
              " 'nlp': 53,\n",
              " 'adalah': 0,\n",
              " 'cabang': 9,\n",
              " 'ilmu': 21,\n",
              " 'komputer': 35,\n",
              " 'linguistik': 38,\n",
              " 'kecerdasan': 32,\n",
              " 'buatan': 8,\n",
              " 'mengkaji': 48,\n",
              " 'interaksi': 25,\n",
              " 'antara': 3,\n",
              " 'manusia': 41,\n",
              " 'khususnya': 34,\n",
              " 'cara': 10,\n",
              " 'memprogram': 43,\n",
              " 'untuk': 68,\n",
              " 'mengolah': 49,\n",
              " 'data': 15,\n",
              " 'dalam': 11,\n",
              " 'jumlah': 28,\n",
              " 'besar': 6,\n",
              " 'hasilnya': 20,\n",
              " 'mampu': 40,\n",
              " 'memahami': 42,\n",
              " 'isi': 26,\n",
              " 'dokumen': 19,\n",
              " 'termasuk': 66,\n",
              " 'nuansa': 54,\n",
              " 'di': 17,\n",
              " 'dalamnya': 12,\n",
              " 'dengan': 16,\n",
              " 'ini': 24,\n",
              " 'dapat': 13,\n",
              " 'akurat': 1,\n",
              " 'mengambil': 46,\n",
              " 'informasi': 22,\n",
              " 'wawasan': 69,\n",
              " 'dari': 14,\n",
              " 'sekaligus': 61,\n",
              " 'mengelompokkan': 47,\n",
              " 'menata': 44,\n",
              " 'itu': 27,\n",
              " 'sendiri': 62,\n",
              " 'kajian': 29,\n",
              " 'lain': 36,\n",
              " 'mencakup': 45,\n",
              " 'segmentasi': 60,\n",
              " 'wicara': 70,\n",
              " 'teks': 64,\n",
              " 'penandaan': 56,\n",
              " 'kelas': 33,\n",
              " 'kata': 31,\n",
              " 'pengawataksaan': 57,\n",
              " 'makna': 39,\n",
              " 'meski': 51,\n",
              " 'kajiannya': 30,\n",
              " 'telah': 65,\n",
              " 'berkembang': 5,\n",
              " 'menjadi': 50,\n",
              " 'suatu': 63,\n",
              " 'bidang': 7,\n",
              " 'terpisah': 67}"
            ]
          },
          "metadata": {},
          "execution_count": 69
        }
      ]
    },
    {
      "cell_type": "code",
      "source": [
        "# menggunkanan stop_words yang sudah didefinisikan\n",
        "# DAN menggunakan MIN_DF sebagai tambahan stop_words\n",
        "# abaikan kata yang muncul di kurang dari 25% dokumen\n",
        "# stop_words = [\"dan\", \"yang\"]\n",
        "\n",
        "vectorizer = TfidfVectorizer(stop_words=stop_words, min_df=0.25)\n",
        "tfidf=vectorizer.fit_transform(long_text)\n",
        "tfidf.shape"
      ],
      "metadata": {
        "id": "MS0ezbCq5ztW",
        "colab": {
          "base_uri": "https://localhost:8080/"
        },
        "outputId": "1d438703-e47f-47cc-ddd4-e6747375e949"
      },
      "execution_count": 71,
      "outputs": [
        {
          "output_type": "execute_result",
          "data": {
            "text/plain": [
              "(1, 71)"
            ]
          },
          "metadata": {},
          "execution_count": 71
        }
      ]
    },
    {
      "cell_type": "markdown",
      "source": [
        "frekuensi paling tinggi adalah komputer dan bahasa"
      ],
      "metadata": {
        "id": "EmJt3I4W51PI"
      }
    },
    {
      "cell_type": "markdown",
      "source": [],
      "metadata": {
        "id": "um0P-Hl_51Xf"
      }
    },
    {
      "cell_type": "markdown",
      "source": [
        "2. Co-Occurance Matrix"
      ],
      "metadata": {
        "id": "QxQarBldprVy"
      }
    },
    {
      "cell_type": "markdown",
      "source": [
        "* Matriks A menyimpan co-occurance words.\n",
        "\n",
        "* Dalam metode ini, kita menghitung berapa kali setiap kata muncul di dalam window dengan ukuran tertentu di sekitar kata yang dituju.\n",
        "\n",
        "* Hitung jumlah ini untuk semua kata dalam korpus."
      ],
      "metadata": {
        "id": "V7BDiObvxKsL"
      }
    },
    {
      "cell_type": "code",
      "source": [
        "import nltk\n",
        "import numpy as np\n",
        "import pandas as pd"
      ],
      "metadata": {
        "id": "mycnsVtxpQ-j"
      },
      "execution_count": 72,
      "outputs": []
    },
    {
      "cell_type": "code",
      "source": [
        "sentences=['saya suka makan',\n",
        "           'saya suka nonton',\n",
        "           'saya benci tidur']"
      ],
      "metadata": {
        "id": "T12QNScMuYrj"
      },
      "execution_count": 73,
      "outputs": []
    },
    {
      "cell_type": "code",
      "source": [
        "kata = list(set((\" \".join(sentences)).split()))"
      ],
      "metadata": {
        "id": "ZALLXPiyzN2d"
      },
      "execution_count": 74,
      "outputs": []
    },
    {
      "cell_type": "code",
      "source": [
        "kata"
      ],
      "metadata": {
        "colab": {
          "base_uri": "https://localhost:8080/"
        },
        "id": "YS3tZUH5fqII",
        "outputId": "cb6b6fc9-a807-4143-a39f-e6fd27bf72be"
      },
      "execution_count": 75,
      "outputs": [
        {
          "output_type": "execute_result",
          "data": {
            "text/plain": [
              "['nonton', 'tidur', 'makan', 'saya', 'benci', 'suka']"
            ]
          },
          "metadata": {},
          "execution_count": 75
        }
      ]
    },
    {
      "cell_type": "code",
      "source": [
        "# split kalimat\n",
        "text_data=[]\n",
        "for i in sentences:\n",
        "    text_data.append(i.split())\n",
        "text_data"
      ],
      "metadata": {
        "id": "BaHXxMAwu2VV",
        "colab": {
          "base_uri": "https://localhost:8080/"
        },
        "outputId": "664ff8fa-071d-42d3-bec2-8831c4841683"
      },
      "execution_count": 76,
      "outputs": [
        {
          "output_type": "execute_result",
          "data": {
            "text/plain": [
              "[['saya', 'suka', 'makan'],\n",
              " ['saya', 'suka', 'nonton'],\n",
              " ['saya', 'benci', 'tidur']]"
            ]
          },
          "metadata": {},
          "execution_count": 76
        }
      ]
    },
    {
      "cell_type": "code",
      "source": [
        "num_words = [len(sentence.split()) for sentence in sentences]\n",
        "min_words =  min(num_words)\n",
        "min_words"
      ],
      "metadata": {
        "id": "h42urrRbvkSv",
        "colab": {
          "base_uri": "https://localhost:8080/"
        },
        "outputId": "20034a2d-d84c-4587-e67d-6455522b50b7"
      },
      "execution_count": 77,
      "outputs": [
        {
          "output_type": "execute_result",
          "data": {
            "text/plain": [
              "3"
            ]
          },
          "metadata": {},
          "execution_count": 77
        }
      ]
    },
    {
      "cell_type": "code",
      "source": [
        "window_size = 2\n",
        "\n",
        "w = []\n",
        "for data in sentences:\n",
        "    data = data.split(' ') #if data is list\n",
        "    for index_1 in range(len(data) - window_size+1):\n",
        "        for index_2 in range(index_1 + 1, index_1 + window_size + 1):\n",
        "            if index_2 <= len(data)-1:\n",
        "                w.append([data[index_1], data[index_2]])"
      ],
      "metadata": {
        "id": "sh_eEfZNw4Wx"
      },
      "execution_count": 78,
      "outputs": []
    },
    {
      "cell_type": "code",
      "source": [
        "len(w)"
      ],
      "metadata": {
        "id": "lefRxosFxry-",
        "colab": {
          "base_uri": "https://localhost:8080/"
        },
        "outputId": "6ce2e772-e76b-47ae-8c0b-6bbf10797d72"
      },
      "execution_count": 79,
      "outputs": [
        {
          "output_type": "execute_result",
          "data": {
            "text/plain": [
              "9"
            ]
          },
          "metadata": {},
          "execution_count": 79
        }
      ]
    },
    {
      "cell_type": "code",
      "source": [
        "w"
      ],
      "metadata": {
        "colab": {
          "base_uri": "https://localhost:8080/"
        },
        "id": "GAhWEsVG7BR3",
        "outputId": "a5e305b2-3bf4-4d96-d3b6-df4e4373b20f"
      },
      "execution_count": 80,
      "outputs": [
        {
          "output_type": "execute_result",
          "data": {
            "text/plain": [
              "[['saya', 'suka'],\n",
              " ['saya', 'makan'],\n",
              " ['suka', 'makan'],\n",
              " ['saya', 'suka'],\n",
              " ['saya', 'nonton'],\n",
              " ['suka', 'nonton'],\n",
              " ['saya', 'benci'],\n",
              " ['saya', 'tidur'],\n",
              " ['benci', 'tidur']]"
            ]
          },
          "metadata": {},
          "execution_count": 80
        }
      ]
    },
    {
      "cell_type": "code",
      "source": [
        "w1 = [x[::-1] for x in w]\n",
        "w.extend(w1)\n",
        "len(w)"
      ],
      "metadata": {
        "id": "hfVlB3xAyGJQ",
        "colab": {
          "base_uri": "https://localhost:8080/"
        },
        "outputId": "fc438109-9073-4a11-a35c-704e27a56540"
      },
      "execution_count": 81,
      "outputs": [
        {
          "output_type": "execute_result",
          "data": {
            "text/plain": [
              "18"
            ]
          },
          "metadata": {},
          "execution_count": 81
        }
      ]
    },
    {
      "cell_type": "code",
      "source": [
        "w"
      ],
      "metadata": {
        "colab": {
          "base_uri": "https://localhost:8080/"
        },
        "id": "sH9d86vfgC-0",
        "outputId": "925922d2-35b8-47ec-9249-842f177f9e96"
      },
      "execution_count": 82,
      "outputs": [
        {
          "output_type": "execute_result",
          "data": {
            "text/plain": [
              "[['saya', 'suka'],\n",
              " ['saya', 'makan'],\n",
              " ['suka', 'makan'],\n",
              " ['saya', 'suka'],\n",
              " ['saya', 'nonton'],\n",
              " ['suka', 'nonton'],\n",
              " ['saya', 'benci'],\n",
              " ['saya', 'tidur'],\n",
              " ['benci', 'tidur'],\n",
              " ['suka', 'saya'],\n",
              " ['makan', 'saya'],\n",
              " ['makan', 'suka'],\n",
              " ['suka', 'saya'],\n",
              " ['nonton', 'saya'],\n",
              " ['nonton', 'suka'],\n",
              " ['benci', 'saya'],\n",
              " ['tidur', 'saya'],\n",
              " ['tidur', 'benci']]"
            ]
          },
          "metadata": {},
          "execution_count": 82
        }
      ]
    },
    {
      "cell_type": "code",
      "source": [
        "array = np.zeros((len(kata), len(kata)))"
      ],
      "metadata": {
        "id": "a3q9Xeouy8P8"
      },
      "execution_count": 83,
      "outputs": []
    },
    {
      "cell_type": "code",
      "source": [
        "df = pd.DataFrame(array, index = kata, columns = kata)"
      ],
      "metadata": {
        "id": "uTvvDSdQzQ_3"
      },
      "execution_count": 84,
      "outputs": []
    },
    {
      "cell_type": "code",
      "source": [
        "df"
      ],
      "metadata": {
        "id": "SewbrMYtzoS2",
        "colab": {
          "base_uri": "https://localhost:8080/",
          "height": 237
        },
        "outputId": "1b22e0dd-771c-4c08-f33c-4381aba5ceff"
      },
      "execution_count": 85,
      "outputs": [
        {
          "output_type": "execute_result",
          "data": {
            "text/plain": [
              "        nonton  tidur  makan  saya  benci  suka\n",
              "nonton     0.0    0.0    0.0   0.0    0.0   0.0\n",
              "tidur      0.0    0.0    0.0   0.0    0.0   0.0\n",
              "makan      0.0    0.0    0.0   0.0    0.0   0.0\n",
              "saya       0.0    0.0    0.0   0.0    0.0   0.0\n",
              "benci      0.0    0.0    0.0   0.0    0.0   0.0\n",
              "suka       0.0    0.0    0.0   0.0    0.0   0.0"
            ],
            "text/html": [
              "\n",
              "  <div id=\"df-50588a67-166c-4f32-a75d-2b9eb4598fd5\" class=\"colab-df-container\">\n",
              "    <div>\n",
              "<style scoped>\n",
              "    .dataframe tbody tr th:only-of-type {\n",
              "        vertical-align: middle;\n",
              "    }\n",
              "\n",
              "    .dataframe tbody tr th {\n",
              "        vertical-align: top;\n",
              "    }\n",
              "\n",
              "    .dataframe thead th {\n",
              "        text-align: right;\n",
              "    }\n",
              "</style>\n",
              "<table border=\"1\" class=\"dataframe\">\n",
              "  <thead>\n",
              "    <tr style=\"text-align: right;\">\n",
              "      <th></th>\n",
              "      <th>nonton</th>\n",
              "      <th>tidur</th>\n",
              "      <th>makan</th>\n",
              "      <th>saya</th>\n",
              "      <th>benci</th>\n",
              "      <th>suka</th>\n",
              "    </tr>\n",
              "  </thead>\n",
              "  <tbody>\n",
              "    <tr>\n",
              "      <th>nonton</th>\n",
              "      <td>0.0</td>\n",
              "      <td>0.0</td>\n",
              "      <td>0.0</td>\n",
              "      <td>0.0</td>\n",
              "      <td>0.0</td>\n",
              "      <td>0.0</td>\n",
              "    </tr>\n",
              "    <tr>\n",
              "      <th>tidur</th>\n",
              "      <td>0.0</td>\n",
              "      <td>0.0</td>\n",
              "      <td>0.0</td>\n",
              "      <td>0.0</td>\n",
              "      <td>0.0</td>\n",
              "      <td>0.0</td>\n",
              "    </tr>\n",
              "    <tr>\n",
              "      <th>makan</th>\n",
              "      <td>0.0</td>\n",
              "      <td>0.0</td>\n",
              "      <td>0.0</td>\n",
              "      <td>0.0</td>\n",
              "      <td>0.0</td>\n",
              "      <td>0.0</td>\n",
              "    </tr>\n",
              "    <tr>\n",
              "      <th>saya</th>\n",
              "      <td>0.0</td>\n",
              "      <td>0.0</td>\n",
              "      <td>0.0</td>\n",
              "      <td>0.0</td>\n",
              "      <td>0.0</td>\n",
              "      <td>0.0</td>\n",
              "    </tr>\n",
              "    <tr>\n",
              "      <th>benci</th>\n",
              "      <td>0.0</td>\n",
              "      <td>0.0</td>\n",
              "      <td>0.0</td>\n",
              "      <td>0.0</td>\n",
              "      <td>0.0</td>\n",
              "      <td>0.0</td>\n",
              "    </tr>\n",
              "    <tr>\n",
              "      <th>suka</th>\n",
              "      <td>0.0</td>\n",
              "      <td>0.0</td>\n",
              "      <td>0.0</td>\n",
              "      <td>0.0</td>\n",
              "      <td>0.0</td>\n",
              "      <td>0.0</td>\n",
              "    </tr>\n",
              "  </tbody>\n",
              "</table>\n",
              "</div>\n",
              "    <div class=\"colab-df-buttons\">\n",
              "\n",
              "  <div class=\"colab-df-container\">\n",
              "    <button class=\"colab-df-convert\" onclick=\"convertToInteractive('df-50588a67-166c-4f32-a75d-2b9eb4598fd5')\"\n",
              "            title=\"Convert this dataframe to an interactive table.\"\n",
              "            style=\"display:none;\">\n",
              "\n",
              "  <svg xmlns=\"http://www.w3.org/2000/svg\" height=\"24px\" viewBox=\"0 -960 960 960\">\n",
              "    <path d=\"M120-120v-720h720v720H120Zm60-500h600v-160H180v160Zm220 220h160v-160H400v160Zm0 220h160v-160H400v160ZM180-400h160v-160H180v160Zm440 0h160v-160H620v160ZM180-180h160v-160H180v160Zm440 0h160v-160H620v160Z\"/>\n",
              "  </svg>\n",
              "    </button>\n",
              "\n",
              "  <style>\n",
              "    .colab-df-container {\n",
              "      display:flex;\n",
              "      gap: 12px;\n",
              "    }\n",
              "\n",
              "    .colab-df-convert {\n",
              "      background-color: #E8F0FE;\n",
              "      border: none;\n",
              "      border-radius: 50%;\n",
              "      cursor: pointer;\n",
              "      display: none;\n",
              "      fill: #1967D2;\n",
              "      height: 32px;\n",
              "      padding: 0 0 0 0;\n",
              "      width: 32px;\n",
              "    }\n",
              "\n",
              "    .colab-df-convert:hover {\n",
              "      background-color: #E2EBFA;\n",
              "      box-shadow: 0px 1px 2px rgba(60, 64, 67, 0.3), 0px 1px 3px 1px rgba(60, 64, 67, 0.15);\n",
              "      fill: #174EA6;\n",
              "    }\n",
              "\n",
              "    .colab-df-buttons div {\n",
              "      margin-bottom: 4px;\n",
              "    }\n",
              "\n",
              "    [theme=dark] .colab-df-convert {\n",
              "      background-color: #3B4455;\n",
              "      fill: #D2E3FC;\n",
              "    }\n",
              "\n",
              "    [theme=dark] .colab-df-convert:hover {\n",
              "      background-color: #434B5C;\n",
              "      box-shadow: 0px 1px 3px 1px rgba(0, 0, 0, 0.15);\n",
              "      filter: drop-shadow(0px 1px 2px rgba(0, 0, 0, 0.3));\n",
              "      fill: #FFFFFF;\n",
              "    }\n",
              "  </style>\n",
              "\n",
              "    <script>\n",
              "      const buttonEl =\n",
              "        document.querySelector('#df-50588a67-166c-4f32-a75d-2b9eb4598fd5 button.colab-df-convert');\n",
              "      buttonEl.style.display =\n",
              "        google.colab.kernel.accessAllowed ? 'block' : 'none';\n",
              "\n",
              "      async function convertToInteractive(key) {\n",
              "        const element = document.querySelector('#df-50588a67-166c-4f32-a75d-2b9eb4598fd5');\n",
              "        const dataTable =\n",
              "          await google.colab.kernel.invokeFunction('convertToInteractive',\n",
              "                                                    [key], {});\n",
              "        if (!dataTable) return;\n",
              "\n",
              "        const docLinkHtml = 'Like what you see? Visit the ' +\n",
              "          '<a target=\"_blank\" href=https://colab.research.google.com/notebooks/data_table.ipynb>data table notebook</a>'\n",
              "          + ' to learn more about interactive tables.';\n",
              "        element.innerHTML = '';\n",
              "        dataTable['output_type'] = 'display_data';\n",
              "        await google.colab.output.renderOutput(dataTable, element);\n",
              "        const docLink = document.createElement('div');\n",
              "        docLink.innerHTML = docLinkHtml;\n",
              "        element.appendChild(docLink);\n",
              "      }\n",
              "    </script>\n",
              "  </div>\n",
              "\n",
              "\n",
              "<div id=\"df-e34fd6b9-26c0-40d4-9eb2-05aec1b2bcc5\">\n",
              "  <button class=\"colab-df-quickchart\" onclick=\"quickchart('df-e34fd6b9-26c0-40d4-9eb2-05aec1b2bcc5')\"\n",
              "            title=\"Suggest charts\"\n",
              "            style=\"display:none;\">\n",
              "\n",
              "<svg xmlns=\"http://www.w3.org/2000/svg\" height=\"24px\"viewBox=\"0 0 24 24\"\n",
              "     width=\"24px\">\n",
              "    <g>\n",
              "        <path d=\"M19 3H5c-1.1 0-2 .9-2 2v14c0 1.1.9 2 2 2h14c1.1 0 2-.9 2-2V5c0-1.1-.9-2-2-2zM9 17H7v-7h2v7zm4 0h-2V7h2v10zm4 0h-2v-4h2v4z\"/>\n",
              "    </g>\n",
              "</svg>\n",
              "  </button>\n",
              "\n",
              "<style>\n",
              "  .colab-df-quickchart {\n",
              "      --bg-color: #E8F0FE;\n",
              "      --fill-color: #1967D2;\n",
              "      --hover-bg-color: #E2EBFA;\n",
              "      --hover-fill-color: #174EA6;\n",
              "      --disabled-fill-color: #AAA;\n",
              "      --disabled-bg-color: #DDD;\n",
              "  }\n",
              "\n",
              "  [theme=dark] .colab-df-quickchart {\n",
              "      --bg-color: #3B4455;\n",
              "      --fill-color: #D2E3FC;\n",
              "      --hover-bg-color: #434B5C;\n",
              "      --hover-fill-color: #FFFFFF;\n",
              "      --disabled-bg-color: #3B4455;\n",
              "      --disabled-fill-color: #666;\n",
              "  }\n",
              "\n",
              "  .colab-df-quickchart {\n",
              "    background-color: var(--bg-color);\n",
              "    border: none;\n",
              "    border-radius: 50%;\n",
              "    cursor: pointer;\n",
              "    display: none;\n",
              "    fill: var(--fill-color);\n",
              "    height: 32px;\n",
              "    padding: 0;\n",
              "    width: 32px;\n",
              "  }\n",
              "\n",
              "  .colab-df-quickchart:hover {\n",
              "    background-color: var(--hover-bg-color);\n",
              "    box-shadow: 0 1px 2px rgba(60, 64, 67, 0.3), 0 1px 3px 1px rgba(60, 64, 67, 0.15);\n",
              "    fill: var(--button-hover-fill-color);\n",
              "  }\n",
              "\n",
              "  .colab-df-quickchart-complete:disabled,\n",
              "  .colab-df-quickchart-complete:disabled:hover {\n",
              "    background-color: var(--disabled-bg-color);\n",
              "    fill: var(--disabled-fill-color);\n",
              "    box-shadow: none;\n",
              "  }\n",
              "\n",
              "  .colab-df-spinner {\n",
              "    border: 2px solid var(--fill-color);\n",
              "    border-color: transparent;\n",
              "    border-bottom-color: var(--fill-color);\n",
              "    animation:\n",
              "      spin 1s steps(1) infinite;\n",
              "  }\n",
              "\n",
              "  @keyframes spin {\n",
              "    0% {\n",
              "      border-color: transparent;\n",
              "      border-bottom-color: var(--fill-color);\n",
              "      border-left-color: var(--fill-color);\n",
              "    }\n",
              "    20% {\n",
              "      border-color: transparent;\n",
              "      border-left-color: var(--fill-color);\n",
              "      border-top-color: var(--fill-color);\n",
              "    }\n",
              "    30% {\n",
              "      border-color: transparent;\n",
              "      border-left-color: var(--fill-color);\n",
              "      border-top-color: var(--fill-color);\n",
              "      border-right-color: var(--fill-color);\n",
              "    }\n",
              "    40% {\n",
              "      border-color: transparent;\n",
              "      border-right-color: var(--fill-color);\n",
              "      border-top-color: var(--fill-color);\n",
              "    }\n",
              "    60% {\n",
              "      border-color: transparent;\n",
              "      border-right-color: var(--fill-color);\n",
              "    }\n",
              "    80% {\n",
              "      border-color: transparent;\n",
              "      border-right-color: var(--fill-color);\n",
              "      border-bottom-color: var(--fill-color);\n",
              "    }\n",
              "    90% {\n",
              "      border-color: transparent;\n",
              "      border-bottom-color: var(--fill-color);\n",
              "    }\n",
              "  }\n",
              "</style>\n",
              "\n",
              "  <script>\n",
              "    async function quickchart(key) {\n",
              "      const quickchartButtonEl =\n",
              "        document.querySelector('#' + key + ' button');\n",
              "      quickchartButtonEl.disabled = true;  // To prevent multiple clicks.\n",
              "      quickchartButtonEl.classList.add('colab-df-spinner');\n",
              "      try {\n",
              "        const charts = await google.colab.kernel.invokeFunction(\n",
              "            'suggestCharts', [key], {});\n",
              "      } catch (error) {\n",
              "        console.error('Error during call to suggestCharts:', error);\n",
              "      }\n",
              "      quickchartButtonEl.classList.remove('colab-df-spinner');\n",
              "      quickchartButtonEl.classList.add('colab-df-quickchart-complete');\n",
              "    }\n",
              "    (() => {\n",
              "      let quickchartButtonEl =\n",
              "        document.querySelector('#df-e34fd6b9-26c0-40d4-9eb2-05aec1b2bcc5 button');\n",
              "      quickchartButtonEl.style.display =\n",
              "        google.colab.kernel.accessAllowed ? 'block' : 'none';\n",
              "    })();\n",
              "  </script>\n",
              "</div>\n",
              "\n",
              "  <div id=\"id_79ff9006-5ad8-4355-a25c-48f8aad2ce80\">\n",
              "    <style>\n",
              "      .colab-df-generate {\n",
              "        background-color: #E8F0FE;\n",
              "        border: none;\n",
              "        border-radius: 50%;\n",
              "        cursor: pointer;\n",
              "        display: none;\n",
              "        fill: #1967D2;\n",
              "        height: 32px;\n",
              "        padding: 0 0 0 0;\n",
              "        width: 32px;\n",
              "      }\n",
              "\n",
              "      .colab-df-generate:hover {\n",
              "        background-color: #E2EBFA;\n",
              "        box-shadow: 0px 1px 2px rgba(60, 64, 67, 0.3), 0px 1px 3px 1px rgba(60, 64, 67, 0.15);\n",
              "        fill: #174EA6;\n",
              "      }\n",
              "\n",
              "      [theme=dark] .colab-df-generate {\n",
              "        background-color: #3B4455;\n",
              "        fill: #D2E3FC;\n",
              "      }\n",
              "\n",
              "      [theme=dark] .colab-df-generate:hover {\n",
              "        background-color: #434B5C;\n",
              "        box-shadow: 0px 1px 3px 1px rgba(0, 0, 0, 0.15);\n",
              "        filter: drop-shadow(0px 1px 2px rgba(0, 0, 0, 0.3));\n",
              "        fill: #FFFFFF;\n",
              "      }\n",
              "    </style>\n",
              "    <button class=\"colab-df-generate\" onclick=\"generateWithVariable('df')\"\n",
              "            title=\"Generate code using this dataframe.\"\n",
              "            style=\"display:none;\">\n",
              "\n",
              "  <svg xmlns=\"http://www.w3.org/2000/svg\" height=\"24px\"viewBox=\"0 0 24 24\"\n",
              "       width=\"24px\">\n",
              "    <path d=\"M7,19H8.4L18.45,9,17,7.55,7,17.6ZM5,21V16.75L18.45,3.32a2,2,0,0,1,2.83,0l1.4,1.43a1.91,1.91,0,0,1,.58,1.4,1.91,1.91,0,0,1-.58,1.4L9.25,21ZM18.45,9,17,7.55Zm-12,3A5.31,5.31,0,0,0,4.9,8.1,5.31,5.31,0,0,0,1,6.5,5.31,5.31,0,0,0,4.9,4.9,5.31,5.31,0,0,0,6.5,1,5.31,5.31,0,0,0,8.1,4.9,5.31,5.31,0,0,0,12,6.5,5.46,5.46,0,0,0,6.5,12Z\"/>\n",
              "  </svg>\n",
              "    </button>\n",
              "    <script>\n",
              "      (() => {\n",
              "      const buttonEl =\n",
              "        document.querySelector('#id_79ff9006-5ad8-4355-a25c-48f8aad2ce80 button.colab-df-generate');\n",
              "      buttonEl.style.display =\n",
              "        google.colab.kernel.accessAllowed ? 'block' : 'none';\n",
              "\n",
              "      buttonEl.onclick = () => {\n",
              "        google.colab.notebook.generateWithVariable('df');\n",
              "      }\n",
              "      })();\n",
              "    </script>\n",
              "  </div>\n",
              "\n",
              "    </div>\n",
              "  </div>\n"
            ],
            "application/vnd.google.colaboratory.intrinsic+json": {
              "type": "dataframe",
              "variable_name": "df",
              "summary": "{\n  \"name\": \"df\",\n  \"rows\": 6,\n  \"fields\": [\n    {\n      \"column\": \"nonton\",\n      \"properties\": {\n        \"dtype\": \"number\",\n        \"std\": 0.0,\n        \"min\": 0.0,\n        \"max\": 0.0,\n        \"num_unique_values\": 1,\n        \"samples\": [\n          0.0\n        ],\n        \"semantic_type\": \"\",\n        \"description\": \"\"\n      }\n    },\n    {\n      \"column\": \"tidur\",\n      \"properties\": {\n        \"dtype\": \"number\",\n        \"std\": 0.0,\n        \"min\": 0.0,\n        \"max\": 0.0,\n        \"num_unique_values\": 1,\n        \"samples\": [\n          0.0\n        ],\n        \"semantic_type\": \"\",\n        \"description\": \"\"\n      }\n    },\n    {\n      \"column\": \"makan\",\n      \"properties\": {\n        \"dtype\": \"number\",\n        \"std\": 0.0,\n        \"min\": 0.0,\n        \"max\": 0.0,\n        \"num_unique_values\": 1,\n        \"samples\": [\n          0.0\n        ],\n        \"semantic_type\": \"\",\n        \"description\": \"\"\n      }\n    },\n    {\n      \"column\": \"saya\",\n      \"properties\": {\n        \"dtype\": \"number\",\n        \"std\": 0.0,\n        \"min\": 0.0,\n        \"max\": 0.0,\n        \"num_unique_values\": 1,\n        \"samples\": [\n          0.0\n        ],\n        \"semantic_type\": \"\",\n        \"description\": \"\"\n      }\n    },\n    {\n      \"column\": \"benci\",\n      \"properties\": {\n        \"dtype\": \"number\",\n        \"std\": 0.0,\n        \"min\": 0.0,\n        \"max\": 0.0,\n        \"num_unique_values\": 1,\n        \"samples\": [\n          0.0\n        ],\n        \"semantic_type\": \"\",\n        \"description\": \"\"\n      }\n    },\n    {\n      \"column\": \"suka\",\n      \"properties\": {\n        \"dtype\": \"number\",\n        \"std\": 0.0,\n        \"min\": 0.0,\n        \"max\": 0.0,\n        \"num_unique_values\": 1,\n        \"samples\": [\n          0.0\n        ],\n        \"semantic_type\": \"\",\n        \"description\": \"\"\n      }\n    }\n  ]\n}"
            }
          },
          "metadata": {},
          "execution_count": 85
        }
      ]
    },
    {
      "cell_type": "code",
      "source": [
        "# memasukan value w ke dalam array\n",
        "for i in w:\n",
        "    df.at[i[0], i[1]]+=1"
      ],
      "metadata": {
        "id": "V43YWOy_zvMQ"
      },
      "execution_count": 86,
      "outputs": []
    },
    {
      "cell_type": "code",
      "source": [
        "sentences=['saya suka makan',\n",
        "           'saya suka nonton',\n",
        "           'saya benci tidur']"
      ],
      "metadata": {
        "id": "OwK02Bg_7aia"
      },
      "execution_count": 87,
      "outputs": []
    },
    {
      "cell_type": "code",
      "source": [
        "#Co-occurence matrix\n",
        "df"
      ],
      "metadata": {
        "colab": {
          "base_uri": "https://localhost:8080/",
          "height": 237
        },
        "id": "RoR32rhnz2py",
        "outputId": "9f926148-96ef-4a40-8b63-38b15763b88b"
      },
      "execution_count": 88,
      "outputs": [
        {
          "output_type": "execute_result",
          "data": {
            "text/plain": [
              "        nonton  tidur  makan  saya  benci  suka\n",
              "nonton     0.0    0.0    0.0   1.0    0.0   1.0\n",
              "tidur      0.0    0.0    0.0   1.0    1.0   0.0\n",
              "makan      0.0    0.0    0.0   1.0    0.0   1.0\n",
              "saya       1.0    1.0    1.0   0.0    1.0   2.0\n",
              "benci      0.0    1.0    0.0   1.0    0.0   0.0\n",
              "suka       1.0    0.0    1.0   2.0    0.0   0.0"
            ],
            "text/html": [
              "\n",
              "  <div id=\"df-1d27c0d7-c8ec-409b-9131-6bd9fe22124a\" class=\"colab-df-container\">\n",
              "    <div>\n",
              "<style scoped>\n",
              "    .dataframe tbody tr th:only-of-type {\n",
              "        vertical-align: middle;\n",
              "    }\n",
              "\n",
              "    .dataframe tbody tr th {\n",
              "        vertical-align: top;\n",
              "    }\n",
              "\n",
              "    .dataframe thead th {\n",
              "        text-align: right;\n",
              "    }\n",
              "</style>\n",
              "<table border=\"1\" class=\"dataframe\">\n",
              "  <thead>\n",
              "    <tr style=\"text-align: right;\">\n",
              "      <th></th>\n",
              "      <th>nonton</th>\n",
              "      <th>tidur</th>\n",
              "      <th>makan</th>\n",
              "      <th>saya</th>\n",
              "      <th>benci</th>\n",
              "      <th>suka</th>\n",
              "    </tr>\n",
              "  </thead>\n",
              "  <tbody>\n",
              "    <tr>\n",
              "      <th>nonton</th>\n",
              "      <td>0.0</td>\n",
              "      <td>0.0</td>\n",
              "      <td>0.0</td>\n",
              "      <td>1.0</td>\n",
              "      <td>0.0</td>\n",
              "      <td>1.0</td>\n",
              "    </tr>\n",
              "    <tr>\n",
              "      <th>tidur</th>\n",
              "      <td>0.0</td>\n",
              "      <td>0.0</td>\n",
              "      <td>0.0</td>\n",
              "      <td>1.0</td>\n",
              "      <td>1.0</td>\n",
              "      <td>0.0</td>\n",
              "    </tr>\n",
              "    <tr>\n",
              "      <th>makan</th>\n",
              "      <td>0.0</td>\n",
              "      <td>0.0</td>\n",
              "      <td>0.0</td>\n",
              "      <td>1.0</td>\n",
              "      <td>0.0</td>\n",
              "      <td>1.0</td>\n",
              "    </tr>\n",
              "    <tr>\n",
              "      <th>saya</th>\n",
              "      <td>1.0</td>\n",
              "      <td>1.0</td>\n",
              "      <td>1.0</td>\n",
              "      <td>0.0</td>\n",
              "      <td>1.0</td>\n",
              "      <td>2.0</td>\n",
              "    </tr>\n",
              "    <tr>\n",
              "      <th>benci</th>\n",
              "      <td>0.0</td>\n",
              "      <td>1.0</td>\n",
              "      <td>0.0</td>\n",
              "      <td>1.0</td>\n",
              "      <td>0.0</td>\n",
              "      <td>0.0</td>\n",
              "    </tr>\n",
              "    <tr>\n",
              "      <th>suka</th>\n",
              "      <td>1.0</td>\n",
              "      <td>0.0</td>\n",
              "      <td>1.0</td>\n",
              "      <td>2.0</td>\n",
              "      <td>0.0</td>\n",
              "      <td>0.0</td>\n",
              "    </tr>\n",
              "  </tbody>\n",
              "</table>\n",
              "</div>\n",
              "    <div class=\"colab-df-buttons\">\n",
              "\n",
              "  <div class=\"colab-df-container\">\n",
              "    <button class=\"colab-df-convert\" onclick=\"convertToInteractive('df-1d27c0d7-c8ec-409b-9131-6bd9fe22124a')\"\n",
              "            title=\"Convert this dataframe to an interactive table.\"\n",
              "            style=\"display:none;\">\n",
              "\n",
              "  <svg xmlns=\"http://www.w3.org/2000/svg\" height=\"24px\" viewBox=\"0 -960 960 960\">\n",
              "    <path d=\"M120-120v-720h720v720H120Zm60-500h600v-160H180v160Zm220 220h160v-160H400v160Zm0 220h160v-160H400v160ZM180-400h160v-160H180v160Zm440 0h160v-160H620v160ZM180-180h160v-160H180v160Zm440 0h160v-160H620v160Z\"/>\n",
              "  </svg>\n",
              "    </button>\n",
              "\n",
              "  <style>\n",
              "    .colab-df-container {\n",
              "      display:flex;\n",
              "      gap: 12px;\n",
              "    }\n",
              "\n",
              "    .colab-df-convert {\n",
              "      background-color: #E8F0FE;\n",
              "      border: none;\n",
              "      border-radius: 50%;\n",
              "      cursor: pointer;\n",
              "      display: none;\n",
              "      fill: #1967D2;\n",
              "      height: 32px;\n",
              "      padding: 0 0 0 0;\n",
              "      width: 32px;\n",
              "    }\n",
              "\n",
              "    .colab-df-convert:hover {\n",
              "      background-color: #E2EBFA;\n",
              "      box-shadow: 0px 1px 2px rgba(60, 64, 67, 0.3), 0px 1px 3px 1px rgba(60, 64, 67, 0.15);\n",
              "      fill: #174EA6;\n",
              "    }\n",
              "\n",
              "    .colab-df-buttons div {\n",
              "      margin-bottom: 4px;\n",
              "    }\n",
              "\n",
              "    [theme=dark] .colab-df-convert {\n",
              "      background-color: #3B4455;\n",
              "      fill: #D2E3FC;\n",
              "    }\n",
              "\n",
              "    [theme=dark] .colab-df-convert:hover {\n",
              "      background-color: #434B5C;\n",
              "      box-shadow: 0px 1px 3px 1px rgba(0, 0, 0, 0.15);\n",
              "      filter: drop-shadow(0px 1px 2px rgba(0, 0, 0, 0.3));\n",
              "      fill: #FFFFFF;\n",
              "    }\n",
              "  </style>\n",
              "\n",
              "    <script>\n",
              "      const buttonEl =\n",
              "        document.querySelector('#df-1d27c0d7-c8ec-409b-9131-6bd9fe22124a button.colab-df-convert');\n",
              "      buttonEl.style.display =\n",
              "        google.colab.kernel.accessAllowed ? 'block' : 'none';\n",
              "\n",
              "      async function convertToInteractive(key) {\n",
              "        const element = document.querySelector('#df-1d27c0d7-c8ec-409b-9131-6bd9fe22124a');\n",
              "        const dataTable =\n",
              "          await google.colab.kernel.invokeFunction('convertToInteractive',\n",
              "                                                    [key], {});\n",
              "        if (!dataTable) return;\n",
              "\n",
              "        const docLinkHtml = 'Like what you see? Visit the ' +\n",
              "          '<a target=\"_blank\" href=https://colab.research.google.com/notebooks/data_table.ipynb>data table notebook</a>'\n",
              "          + ' to learn more about interactive tables.';\n",
              "        element.innerHTML = '';\n",
              "        dataTable['output_type'] = 'display_data';\n",
              "        await google.colab.output.renderOutput(dataTable, element);\n",
              "        const docLink = document.createElement('div');\n",
              "        docLink.innerHTML = docLinkHtml;\n",
              "        element.appendChild(docLink);\n",
              "      }\n",
              "    </script>\n",
              "  </div>\n",
              "\n",
              "\n",
              "<div id=\"df-32eb55ee-3935-441f-96cd-b04cf82b6bff\">\n",
              "  <button class=\"colab-df-quickchart\" onclick=\"quickchart('df-32eb55ee-3935-441f-96cd-b04cf82b6bff')\"\n",
              "            title=\"Suggest charts\"\n",
              "            style=\"display:none;\">\n",
              "\n",
              "<svg xmlns=\"http://www.w3.org/2000/svg\" height=\"24px\"viewBox=\"0 0 24 24\"\n",
              "     width=\"24px\">\n",
              "    <g>\n",
              "        <path d=\"M19 3H5c-1.1 0-2 .9-2 2v14c0 1.1.9 2 2 2h14c1.1 0 2-.9 2-2V5c0-1.1-.9-2-2-2zM9 17H7v-7h2v7zm4 0h-2V7h2v10zm4 0h-2v-4h2v4z\"/>\n",
              "    </g>\n",
              "</svg>\n",
              "  </button>\n",
              "\n",
              "<style>\n",
              "  .colab-df-quickchart {\n",
              "      --bg-color: #E8F0FE;\n",
              "      --fill-color: #1967D2;\n",
              "      --hover-bg-color: #E2EBFA;\n",
              "      --hover-fill-color: #174EA6;\n",
              "      --disabled-fill-color: #AAA;\n",
              "      --disabled-bg-color: #DDD;\n",
              "  }\n",
              "\n",
              "  [theme=dark] .colab-df-quickchart {\n",
              "      --bg-color: #3B4455;\n",
              "      --fill-color: #D2E3FC;\n",
              "      --hover-bg-color: #434B5C;\n",
              "      --hover-fill-color: #FFFFFF;\n",
              "      --disabled-bg-color: #3B4455;\n",
              "      --disabled-fill-color: #666;\n",
              "  }\n",
              "\n",
              "  .colab-df-quickchart {\n",
              "    background-color: var(--bg-color);\n",
              "    border: none;\n",
              "    border-radius: 50%;\n",
              "    cursor: pointer;\n",
              "    display: none;\n",
              "    fill: var(--fill-color);\n",
              "    height: 32px;\n",
              "    padding: 0;\n",
              "    width: 32px;\n",
              "  }\n",
              "\n",
              "  .colab-df-quickchart:hover {\n",
              "    background-color: var(--hover-bg-color);\n",
              "    box-shadow: 0 1px 2px rgba(60, 64, 67, 0.3), 0 1px 3px 1px rgba(60, 64, 67, 0.15);\n",
              "    fill: var(--button-hover-fill-color);\n",
              "  }\n",
              "\n",
              "  .colab-df-quickchart-complete:disabled,\n",
              "  .colab-df-quickchart-complete:disabled:hover {\n",
              "    background-color: var(--disabled-bg-color);\n",
              "    fill: var(--disabled-fill-color);\n",
              "    box-shadow: none;\n",
              "  }\n",
              "\n",
              "  .colab-df-spinner {\n",
              "    border: 2px solid var(--fill-color);\n",
              "    border-color: transparent;\n",
              "    border-bottom-color: var(--fill-color);\n",
              "    animation:\n",
              "      spin 1s steps(1) infinite;\n",
              "  }\n",
              "\n",
              "  @keyframes spin {\n",
              "    0% {\n",
              "      border-color: transparent;\n",
              "      border-bottom-color: var(--fill-color);\n",
              "      border-left-color: var(--fill-color);\n",
              "    }\n",
              "    20% {\n",
              "      border-color: transparent;\n",
              "      border-left-color: var(--fill-color);\n",
              "      border-top-color: var(--fill-color);\n",
              "    }\n",
              "    30% {\n",
              "      border-color: transparent;\n",
              "      border-left-color: var(--fill-color);\n",
              "      border-top-color: var(--fill-color);\n",
              "      border-right-color: var(--fill-color);\n",
              "    }\n",
              "    40% {\n",
              "      border-color: transparent;\n",
              "      border-right-color: var(--fill-color);\n",
              "      border-top-color: var(--fill-color);\n",
              "    }\n",
              "    60% {\n",
              "      border-color: transparent;\n",
              "      border-right-color: var(--fill-color);\n",
              "    }\n",
              "    80% {\n",
              "      border-color: transparent;\n",
              "      border-right-color: var(--fill-color);\n",
              "      border-bottom-color: var(--fill-color);\n",
              "    }\n",
              "    90% {\n",
              "      border-color: transparent;\n",
              "      border-bottom-color: var(--fill-color);\n",
              "    }\n",
              "  }\n",
              "</style>\n",
              "\n",
              "  <script>\n",
              "    async function quickchart(key) {\n",
              "      const quickchartButtonEl =\n",
              "        document.querySelector('#' + key + ' button');\n",
              "      quickchartButtonEl.disabled = true;  // To prevent multiple clicks.\n",
              "      quickchartButtonEl.classList.add('colab-df-spinner');\n",
              "      try {\n",
              "        const charts = await google.colab.kernel.invokeFunction(\n",
              "            'suggestCharts', [key], {});\n",
              "      } catch (error) {\n",
              "        console.error('Error during call to suggestCharts:', error);\n",
              "      }\n",
              "      quickchartButtonEl.classList.remove('colab-df-spinner');\n",
              "      quickchartButtonEl.classList.add('colab-df-quickchart-complete');\n",
              "    }\n",
              "    (() => {\n",
              "      let quickchartButtonEl =\n",
              "        document.querySelector('#df-32eb55ee-3935-441f-96cd-b04cf82b6bff button');\n",
              "      quickchartButtonEl.style.display =\n",
              "        google.colab.kernel.accessAllowed ? 'block' : 'none';\n",
              "    })();\n",
              "  </script>\n",
              "</div>\n",
              "\n",
              "  <div id=\"id_e8ea686b-fe74-4496-9ae1-c164a8f45766\">\n",
              "    <style>\n",
              "      .colab-df-generate {\n",
              "        background-color: #E8F0FE;\n",
              "        border: none;\n",
              "        border-radius: 50%;\n",
              "        cursor: pointer;\n",
              "        display: none;\n",
              "        fill: #1967D2;\n",
              "        height: 32px;\n",
              "        padding: 0 0 0 0;\n",
              "        width: 32px;\n",
              "      }\n",
              "\n",
              "      .colab-df-generate:hover {\n",
              "        background-color: #E2EBFA;\n",
              "        box-shadow: 0px 1px 2px rgba(60, 64, 67, 0.3), 0px 1px 3px 1px rgba(60, 64, 67, 0.15);\n",
              "        fill: #174EA6;\n",
              "      }\n",
              "\n",
              "      [theme=dark] .colab-df-generate {\n",
              "        background-color: #3B4455;\n",
              "        fill: #D2E3FC;\n",
              "      }\n",
              "\n",
              "      [theme=dark] .colab-df-generate:hover {\n",
              "        background-color: #434B5C;\n",
              "        box-shadow: 0px 1px 3px 1px rgba(0, 0, 0, 0.15);\n",
              "        filter: drop-shadow(0px 1px 2px rgba(0, 0, 0, 0.3));\n",
              "        fill: #FFFFFF;\n",
              "      }\n",
              "    </style>\n",
              "    <button class=\"colab-df-generate\" onclick=\"generateWithVariable('df')\"\n",
              "            title=\"Generate code using this dataframe.\"\n",
              "            style=\"display:none;\">\n",
              "\n",
              "  <svg xmlns=\"http://www.w3.org/2000/svg\" height=\"24px\"viewBox=\"0 0 24 24\"\n",
              "       width=\"24px\">\n",
              "    <path d=\"M7,19H8.4L18.45,9,17,7.55,7,17.6ZM5,21V16.75L18.45,3.32a2,2,0,0,1,2.83,0l1.4,1.43a1.91,1.91,0,0,1,.58,1.4,1.91,1.91,0,0,1-.58,1.4L9.25,21ZM18.45,9,17,7.55Zm-12,3A5.31,5.31,0,0,0,4.9,8.1,5.31,5.31,0,0,0,1,6.5,5.31,5.31,0,0,0,4.9,4.9,5.31,5.31,0,0,0,6.5,1,5.31,5.31,0,0,0,8.1,4.9,5.31,5.31,0,0,0,12,6.5,5.46,5.46,0,0,0,6.5,12Z\"/>\n",
              "  </svg>\n",
              "    </button>\n",
              "    <script>\n",
              "      (() => {\n",
              "      const buttonEl =\n",
              "        document.querySelector('#id_e8ea686b-fe74-4496-9ae1-c164a8f45766 button.colab-df-generate');\n",
              "      buttonEl.style.display =\n",
              "        google.colab.kernel.accessAllowed ? 'block' : 'none';\n",
              "\n",
              "      buttonEl.onclick = () => {\n",
              "        google.colab.notebook.generateWithVariable('df');\n",
              "      }\n",
              "      })();\n",
              "    </script>\n",
              "  </div>\n",
              "\n",
              "    </div>\n",
              "  </div>\n"
            ],
            "application/vnd.google.colaboratory.intrinsic+json": {
              "type": "dataframe",
              "variable_name": "df",
              "summary": "{\n  \"name\": \"df\",\n  \"rows\": 6,\n  \"fields\": [\n    {\n      \"column\": \"nonton\",\n      \"properties\": {\n        \"dtype\": \"number\",\n        \"std\": 0.5163977794943223,\n        \"min\": 0.0,\n        \"max\": 1.0,\n        \"num_unique_values\": 2,\n        \"samples\": [\n          1.0,\n          0.0\n        ],\n        \"semantic_type\": \"\",\n        \"description\": \"\"\n      }\n    },\n    {\n      \"column\": \"tidur\",\n      \"properties\": {\n        \"dtype\": \"number\",\n        \"std\": 0.5163977794943223,\n        \"min\": 0.0,\n        \"max\": 1.0,\n        \"num_unique_values\": 2,\n        \"samples\": [\n          1.0,\n          0.0\n        ],\n        \"semantic_type\": \"\",\n        \"description\": \"\"\n      }\n    },\n    {\n      \"column\": \"makan\",\n      \"properties\": {\n        \"dtype\": \"number\",\n        \"std\": 0.5163977794943223,\n        \"min\": 0.0,\n        \"max\": 1.0,\n        \"num_unique_values\": 2,\n        \"samples\": [\n          1.0,\n          0.0\n        ],\n        \"semantic_type\": \"\",\n        \"description\": \"\"\n      }\n    },\n    {\n      \"column\": \"saya\",\n      \"properties\": {\n        \"dtype\": \"number\",\n        \"std\": 0.6324555320336759,\n        \"min\": 0.0,\n        \"max\": 2.0,\n        \"num_unique_values\": 3,\n        \"samples\": [\n          1.0,\n          0.0\n        ],\n        \"semantic_type\": \"\",\n        \"description\": \"\"\n      }\n    },\n    {\n      \"column\": \"benci\",\n      \"properties\": {\n        \"dtype\": \"number\",\n        \"std\": 0.5163977794943223,\n        \"min\": 0.0,\n        \"max\": 1.0,\n        \"num_unique_values\": 2,\n        \"samples\": [\n          1.0,\n          0.0\n        ],\n        \"semantic_type\": \"\",\n        \"description\": \"\"\n      }\n    },\n    {\n      \"column\": \"suka\",\n      \"properties\": {\n        \"dtype\": \"number\",\n        \"std\": 0.816496580927726,\n        \"min\": 0.0,\n        \"max\": 2.0,\n        \"num_unique_values\": 3,\n        \"samples\": [\n          1.0,\n          0.0\n        ],\n        \"semantic_type\": \"\",\n        \"description\": \"\"\n      }\n    }\n  ]\n}"
            }
          },
          "metadata": {},
          "execution_count": 88
        }
      ]
    },
    {
      "cell_type": "markdown",
      "source": [
        "3. N-Gram"
      ],
      "metadata": {
        "id": "_Kn11Ym81Byk"
      }
    },
    {
      "cell_type": "markdown",
      "source": [
        "N-Gram sebagai fitur Metode lain, contoh TF-IDF"
      ],
      "metadata": {
        "id": "Z1DYC7Wy1lzm"
      }
    },
    {
      "cell_type": "code",
      "source": [
        "data = [\n",
        "    \"Pengertian Lagu Wajib beserta Ciri Lirik dan Contohnya\",\n",
        "    \"Lirik Lagu Indonesia Raya\",\n",
        "    \"Penjelasan Mengenai Metronome dan Fungsinya dalam Musik\",\n",
        "    \"Ulasan tentang Ekonomi Kreatif beserta Ciri-Ciri dan Manfaatnya\",\n",
        "    \"Ragam Kerajinan Khas yang Terdapat di Indonesia\"\n",
        "]"
      ],
      "metadata": {
        "id": "DPXtQdPi0f07"
      },
      "execution_count": 89,
      "outputs": []
    },
    {
      "cell_type": "code",
      "source": [
        "vectorizer = TfidfVectorizer(ngram_range=(1,1)) # unigram\n",
        "tfidf = vectorizer.fit_transform(data)\n",
        "vectorizer.vocabulary_"
      ],
      "metadata": {
        "id": "Xt4xymVe1zdb",
        "colab": {
          "base_uri": "https://localhost:8080/"
        },
        "outputId": "45ab56e1-dd92-40fb-b8b4-ffd9deadd986"
      },
      "execution_count": 90,
      "outputs": [
        {
          "output_type": "execute_result",
          "data": {
            "text/plain": [
              "{'pengertian': 18,\n",
              " 'lagu': 12,\n",
              " 'wajib': 25,\n",
              " 'beserta': 0,\n",
              " 'ciri': 1,\n",
              " 'lirik': 13,\n",
              " 'dan': 4,\n",
              " 'contohnya': 2,\n",
              " 'indonesia': 8,\n",
              " 'raya': 21,\n",
              " 'penjelasan': 19,\n",
              " 'mengenai': 15,\n",
              " 'metronome': 16,\n",
              " 'fungsinya': 7,\n",
              " 'dalam': 3,\n",
              " 'musik': 17,\n",
              " 'ulasan': 24,\n",
              " 'tentang': 22,\n",
              " 'ekonomi': 6,\n",
              " 'kreatif': 11,\n",
              " 'manfaatnya': 14,\n",
              " 'ragam': 20,\n",
              " 'kerajinan': 9,\n",
              " 'khas': 10,\n",
              " 'yang': 26,\n",
              " 'terdapat': 23,\n",
              " 'di': 5}"
            ]
          },
          "metadata": {},
          "execution_count": 90
        }
      ]
    },
    {
      "cell_type": "code",
      "source": [
        "vectorizer = TfidfVectorizer(ngram_range=(1, 2)) # unigram - bigram\n",
        "tfidf = vectorizer.fit_transform(data)\n",
        "vectorizer.vocabulary_"
      ],
      "metadata": {
        "id": "DyLCsoll2ag0",
        "colab": {
          "base_uri": "https://localhost:8080/"
        },
        "outputId": "43bd135c-3edb-4c88-ad9d-ad32b4a6332f"
      },
      "execution_count": 91,
      "outputs": [
        {
          "output_type": "execute_result",
          "data": {
            "text/plain": [
              "{'pengertian': 39,\n",
              " 'lagu': 27,\n",
              " 'wajib': 52,\n",
              " 'beserta': 0,\n",
              " 'ciri': 2,\n",
              " 'lirik': 30,\n",
              " 'dan': 9,\n",
              " 'contohnya': 6,\n",
              " 'pengertian lagu': 40,\n",
              " 'lagu wajib': 29,\n",
              " 'wajib beserta': 53,\n",
              " 'beserta ciri': 1,\n",
              " 'ciri lirik': 5,\n",
              " 'lirik dan': 31,\n",
              " 'dan contohnya': 10,\n",
              " 'indonesia': 19,\n",
              " 'raya': 45,\n",
              " 'lirik lagu': 32,\n",
              " 'lagu indonesia': 28,\n",
              " 'indonesia raya': 20,\n",
              " 'penjelasan': 41,\n",
              " 'mengenai': 34,\n",
              " 'metronome': 36,\n",
              " 'fungsinya': 17,\n",
              " 'dalam': 7,\n",
              " 'musik': 38,\n",
              " 'penjelasan mengenai': 42,\n",
              " 'mengenai metronome': 35,\n",
              " 'metronome dan': 37,\n",
              " 'dan fungsinya': 11,\n",
              " 'fungsinya dalam': 18,\n",
              " 'dalam musik': 8,\n",
              " 'ulasan': 50,\n",
              " 'tentang': 46,\n",
              " 'ekonomi': 15,\n",
              " 'kreatif': 25,\n",
              " 'manfaatnya': 33,\n",
              " 'ulasan tentang': 51,\n",
              " 'tentang ekonomi': 47,\n",
              " 'ekonomi kreatif': 16,\n",
              " 'kreatif beserta': 26,\n",
              " 'ciri ciri': 3,\n",
              " 'ciri dan': 4,\n",
              " 'dan manfaatnya': 12,\n",
              " 'ragam': 43,\n",
              " 'kerajinan': 21,\n",
              " 'khas': 23,\n",
              " 'yang': 54,\n",
              " 'terdapat': 48,\n",
              " 'di': 13,\n",
              " 'ragam kerajinan': 44,\n",
              " 'kerajinan khas': 22,\n",
              " 'khas yang': 24,\n",
              " 'yang terdapat': 55,\n",
              " 'terdapat di': 49,\n",
              " 'di indonesia': 14}"
            ]
          },
          "metadata": {},
          "execution_count": 91
        }
      ]
    },
    {
      "cell_type": "code",
      "source": [
        "vectorizer = TfidfVectorizer(ngram_range=(1,3)) # trigram\n",
        "tfidf = vectorizer.fit_transform(data)\n",
        "vectorizer.vocabulary_"
      ],
      "metadata": {
        "id": "P4GD9eK42r4W",
        "colab": {
          "base_uri": "https://localhost:8080/"
        },
        "outputId": "0c6e9e8c-e06b-4ab6-9990-317abc9675bf"
      },
      "execution_count": null,
      "outputs": [
        {
          "output_type": "execute_result",
          "data": {
            "text/plain": [
              "{'pengertian': 56,\n",
              " 'lagu': 38,\n",
              " 'wajib': 75,\n",
              " 'beserta': 0,\n",
              " 'ciri': 4,\n",
              " 'lirik': 43,\n",
              " 'dan': 14,\n",
              " 'contohnya': 11,\n",
              " 'pengertian lagu': 57,\n",
              " 'lagu wajib': 41,\n",
              " 'wajib beserta': 76,\n",
              " 'beserta ciri': 1,\n",
              " 'ciri lirik': 9,\n",
              " 'lirik dan': 44,\n",
              " 'dan contohnya': 15,\n",
              " 'pengertian lagu wajib': 58,\n",
              " 'lagu wajib beserta': 42,\n",
              " 'wajib beserta ciri': 77,\n",
              " 'beserta ciri lirik': 3,\n",
              " 'ciri lirik dan': 10,\n",
              " 'lirik dan contohnya': 45,\n",
              " 'indonesia': 27,\n",
              " 'raya': 65,\n",
              " 'lirik lagu': 46,\n",
              " 'lagu indonesia': 39,\n",
              " 'indonesia raya': 28,\n",
              " 'lirik lagu indonesia': 47,\n",
              " 'lagu indonesia raya': 40,\n",
              " 'penjelasan': 59,\n",
              " 'mengenai': 49,\n",
              " 'metronome': 52,\n",
              " 'fungsinya': 24,\n",
              " 'dalam': 12,\n",
              " 'musik': 55,\n",
              " 'penjelasan mengenai': 60,\n",
              " 'mengenai metronome': 50,\n",
              " 'metronome dan': 53,\n",
              " 'dan fungsinya': 16,\n",
              " 'fungsinya dalam': 25,\n",
              " 'dalam musik': 13,\n",
              " 'penjelasan mengenai metronome': 61,\n",
              " 'mengenai metronome dan': 51,\n",
              " 'metronome dan fungsinya': 54,\n",
              " 'dan fungsinya dalam': 17,\n",
              " 'fungsinya dalam musik': 26,\n",
              " 'ulasan': 72,\n",
              " 'tentang': 66,\n",
              " 'ekonomi': 21,\n",
              " 'kreatif': 35,\n",
              " 'manfaatnya': 48,\n",
              " 'ulasan tentang': 73,\n",
              " 'tentang ekonomi': 67,\n",
              " 'ekonomi kreatif': 22,\n",
              " 'kreatif beserta': 36,\n",
              " 'ciri ciri': 5,\n",
              " 'ciri dan': 7,\n",
              " 'dan manfaatnya': 18,\n",
              " 'ulasan tentang ekonomi': 74,\n",
              " 'tentang ekonomi kreatif': 68,\n",
              " 'ekonomi kreatif beserta': 23,\n",
              " 'kreatif beserta ciri': 37,\n",
              " 'beserta ciri ciri': 2,\n",
              " 'ciri ciri dan': 6,\n",
              " 'ciri dan manfaatnya': 8,\n",
              " 'ragam': 62,\n",
              " 'kerajinan': 29,\n",
              " 'khas': 32,\n",
              " 'yang': 78,\n",
              " 'terdapat': 69,\n",
              " 'di': 19,\n",
              " 'ragam kerajinan': 63,\n",
              " 'kerajinan khas': 30,\n",
              " 'khas yang': 33,\n",
              " 'yang terdapat': 79,\n",
              " 'terdapat di': 70,\n",
              " 'di indonesia': 20,\n",
              " 'ragam kerajinan khas': 64,\n",
              " 'kerajinan khas yang': 31,\n",
              " 'khas yang terdapat': 34,\n",
              " 'yang terdapat di': 80,\n",
              " 'terdapat di indonesia': 71}"
            ]
          },
          "metadata": {},
          "execution_count": 102
        }
      ]
    },
    {
      "cell_type": "code",
      "source": [
        "print(tfidf)"
      ],
      "metadata": {
        "id": "rKZc9_Xc2uGJ",
        "colab": {
          "base_uri": "https://localhost:8080/"
        },
        "outputId": "a15dc749-f902-4a22-b9b9-05b3786460c3"
      },
      "execution_count": 92,
      "outputs": [
        {
          "output_type": "stream",
          "name": "stdout",
          "text": [
            "  (0, 39)\t0.2805725907734778\n",
            "  (0, 27)\t0.2263641996073536\n",
            "  (0, 52)\t0.2805725907734778\n",
            "  (0, 0)\t0.2263641996073536\n",
            "  (0, 2)\t0.2263641996073536\n",
            "  (0, 30)\t0.2263641996073536\n",
            "  (0, 9)\t0.18790273398899207\n",
            "  (0, 6)\t0.2805725907734778\n",
            "  (0, 40)\t0.2805725907734778\n",
            "  (0, 29)\t0.2805725907734778\n",
            "  (0, 53)\t0.2805725907734778\n",
            "  (0, 1)\t0.2263641996073536\n",
            "  (0, 5)\t0.2805725907734778\n",
            "  (0, 31)\t0.2805725907734778\n",
            "  (0, 10)\t0.2805725907734778\n",
            "  (1, 27)\t0.33067681238156543\n",
            "  (1, 30)\t0.33067681238156543\n",
            "  (1, 19)\t0.33067681238156543\n",
            "  (1, 45)\t0.40986538560224284\n",
            "  (1, 32)\t0.40986538560224284\n",
            "  (1, 28)\t0.40986538560224284\n",
            "  (1, 20)\t0.40986538560224284\n",
            "  (2, 9)\t0.18981437791290545\n",
            "  (2, 41)\t0.2834270191097902\n",
            "  (2, 34)\t0.2834270191097902\n",
            "  :\t:\n",
            "  (3, 50)\t0.24727936005117288\n",
            "  (3, 46)\t0.24727936005117288\n",
            "  (3, 15)\t0.24727936005117288\n",
            "  (3, 25)\t0.24727936005117288\n",
            "  (3, 33)\t0.24727936005117288\n",
            "  (3, 51)\t0.24727936005117288\n",
            "  (3, 47)\t0.24727936005117288\n",
            "  (3, 16)\t0.24727936005117288\n",
            "  (3, 26)\t0.24727936005117288\n",
            "  (3, 3)\t0.24727936005117288\n",
            "  (3, 4)\t0.24727936005117288\n",
            "  (3, 12)\t0.24727936005117288\n",
            "  (4, 19)\t0.2268305327192613\n",
            "  (4, 43)\t0.28115059864574005\n",
            "  (4, 21)\t0.28115059864574005\n",
            "  (4, 23)\t0.28115059864574005\n",
            "  (4, 54)\t0.28115059864574005\n",
            "  (4, 48)\t0.28115059864574005\n",
            "  (4, 13)\t0.28115059864574005\n",
            "  (4, 44)\t0.28115059864574005\n",
            "  (4, 22)\t0.28115059864574005\n",
            "  (4, 24)\t0.28115059864574005\n",
            "  (4, 55)\t0.28115059864574005\n",
            "  (4, 49)\t0.28115059864574005\n",
            "  (4, 14)\t0.28115059864574005\n"
          ]
        }
      ]
    },
    {
      "cell_type": "code",
      "source": [
        "vectorizer = TfidfVectorizer(ngram_range=(3,3), stop_words=stop_words) # unigram\n",
        "tfidf = vectorizer.fit_transform(long_text)\n",
        "vectorizer.vocabulary_"
      ],
      "metadata": {
        "id": "zDX4OinB23Bb",
        "colab": {
          "base_uri": "https://localhost:8080/"
        },
        "outputId": "39a98bd3-71ed-476c-fe46-fa44f426f150"
      },
      "execution_count": 93,
      "outputs": [
        {
          "output_type": "execute_result",
          "data": {
            "text/plain": [
              "{'pengolahan bahasa alami': 78,\n",
              " 'bahasa alami disingkat': 9,\n",
              " 'alami disingkat pba': 4,\n",
              " 'disingkat pba bahasa': 29,\n",
              " 'pba bahasa inggris': 75,\n",
              " 'bahasa inggris natural': 12,\n",
              " 'inggris natural language': 37,\n",
              " 'natural language processing': 71,\n",
              " 'language processing disingkat': 55,\n",
              " 'processing disingkat nlp': 80,\n",
              " 'disingkat nlp adalah': 28,\n",
              " 'nlp adalah cabang': 72,\n",
              " 'adalah cabang ilmu': 0,\n",
              " 'cabang ilmu komputer': 17,\n",
              " 'ilmu komputer linguistik': 35,\n",
              " 'komputer linguistik kecerdasan': 51,\n",
              " 'linguistik kecerdasan buatan': 56,\n",
              " 'kecerdasan buatan mengkaji': 46,\n",
              " 'buatan mengkaji interaksi': 16,\n",
              " 'mengkaji interaksi antara': 67,\n",
              " 'interaksi antara komputer': 39,\n",
              " 'antara komputer bahasa': 6,\n",
              " 'komputer bahasa alami': 49,\n",
              " 'bahasa alami manusia': 10,\n",
              " 'alami manusia khususnya': 5,\n",
              " 'manusia khususnya cara': 59,\n",
              " 'khususnya cara memprogram': 48,\n",
              " 'cara memprogram komputer': 18,\n",
              " 'memprogram komputer untuk': 61,\n",
              " 'komputer untuk mengolah': 53,\n",
              " 'untuk mengolah data': 90,\n",
              " 'mengolah data bahasa': 68,\n",
              " 'data bahasa alami': 24,\n",
              " 'bahasa alami dalam': 8,\n",
              " 'alami dalam jumlah': 3,\n",
              " 'dalam jumlah besar': 19,\n",
              " 'jumlah besar hasilnya': 42,\n",
              " 'besar hasilnya adalah': 14,\n",
              " 'hasilnya adalah komputer': 34,\n",
              " 'adalah komputer mampu': 1,\n",
              " 'komputer mampu memahami': 52,\n",
              " 'mampu memahami isi': 58,\n",
              " 'memahami isi dokumen': 60,\n",
              " 'isi dokumen termasuk': 40,\n",
              " 'dokumen termasuk nuansa': 33,\n",
              " 'termasuk nuansa bahasa': 89,\n",
              " 'nuansa bahasa di': 74,\n",
              " 'bahasa di dalamnya': 11,\n",
              " 'di dalamnya dengan': 27,\n",
              " 'dalamnya dengan ini': 20,\n",
              " 'dengan ini komputer': 26,\n",
              " 'ini komputer dapat': 38,\n",
              " 'komputer dapat dengan': 50,\n",
              " 'dapat dengan akurat': 21,\n",
              " 'dengan akurat mengambil': 25,\n",
              " 'akurat mengambil informasi': 2,\n",
              " 'mengambil informasi wawasan': 65,\n",
              " 'informasi wawasan dari': 36,\n",
              " 'wawasan dari dokumen': 91,\n",
              " 'dari dokumen sekaligus': 23,\n",
              " 'dokumen sekaligus mengelompokkan': 32,\n",
              " 'sekaligus mengelompokkan menata': 83,\n",
              " 'mengelompokkan menata dokumen': 66,\n",
              " 'menata dokumen dokumen': 62,\n",
              " 'dokumen dokumen itu': 30,\n",
              " 'dokumen itu sendiri': 31,\n",
              " 'itu sendiri kajian': 41,\n",
              " 'sendiri kajian nlp': 84,\n",
              " 'kajian nlp antara': 43,\n",
              " 'nlp antara lain': 73,\n",
              " 'antara lain mencakup': 7,\n",
              " 'lain mencakup segmentasi': 54,\n",
              " 'mencakup segmentasi wicara': 63,\n",
              " 'segmentasi wicara segmentasi': 82,\n",
              " 'wicara segmentasi teks': 93,\n",
              " 'segmentasi teks penandaan': 81,\n",
              " 'teks penandaan kelas': 86,\n",
              " 'penandaan kelas kata': 76,\n",
              " 'kelas kata pengawataksaan': 47,\n",
              " 'kata pengawataksaan makna': 45,\n",
              " 'pengawataksaan makna meski': 77,\n",
              " 'makna meski kajiannya': 57,\n",
              " 'meski kajiannya dapat': 70,\n",
              " 'kajiannya dapat mencakup': 44,\n",
              " 'dapat mencakup teks': 22,\n",
              " 'mencakup teks wicara': 64,\n",
              " 'teks wicara pengolahan': 87,\n",
              " 'wicara pengolahan wicara': 92,\n",
              " 'pengolahan wicara telah': 79,\n",
              " 'wicara telah berkembang': 94,\n",
              " 'telah berkembang menjadi': 88,\n",
              " 'berkembang menjadi suatu': 13,\n",
              " 'menjadi suatu bidang': 69,\n",
              " 'suatu bidang kajian': 85,\n",
              " 'bidang kajian terpisah': 15}"
            ]
          },
          "metadata": {},
          "execution_count": 93
        }
      ]
    },
    {
      "cell_type": "markdown",
      "source": [
        "tfidf+ngram(unigram&bigram): bahasa & komputer(0.33)\n",
        "\n",
        "tfidf+bigram: bahasa alami(0.35)\n",
        "\n",
        "tfidf+trigram: rata"
      ],
      "metadata": {
        "id": "2OLv3M4G9REY"
      }
    },
    {
      "cell_type": "code",
      "source": [
        "print(tfidf)"
      ],
      "metadata": {
        "colab": {
          "base_uri": "https://localhost:8080/"
        },
        "id": "odp7-FSg9Glu",
        "outputId": "b461fc91-218d-4137-fc07-f4526b6a853a"
      },
      "execution_count": 94,
      "outputs": [
        {
          "output_type": "stream",
          "name": "stdout",
          "text": [
            "  (0, 78)\t0.10259783520851541\n",
            "  (0, 9)\t0.10259783520851541\n",
            "  (0, 4)\t0.10259783520851541\n",
            "  (0, 29)\t0.10259783520851541\n",
            "  (0, 75)\t0.10259783520851541\n",
            "  (0, 12)\t0.10259783520851541\n",
            "  (0, 37)\t0.10259783520851541\n",
            "  (0, 71)\t0.10259783520851541\n",
            "  (0, 55)\t0.10259783520851541\n",
            "  (0, 80)\t0.10259783520851541\n",
            "  (0, 28)\t0.10259783520851541\n",
            "  (0, 72)\t0.10259783520851541\n",
            "  (0, 0)\t0.10259783520851541\n",
            "  (0, 17)\t0.10259783520851541\n",
            "  (0, 35)\t0.10259783520851541\n",
            "  (0, 51)\t0.10259783520851541\n",
            "  (0, 56)\t0.10259783520851541\n",
            "  (0, 46)\t0.10259783520851541\n",
            "  (0, 16)\t0.10259783520851541\n",
            "  (0, 67)\t0.10259783520851541\n",
            "  (0, 39)\t0.10259783520851541\n",
            "  (0, 6)\t0.10259783520851541\n",
            "  (0, 49)\t0.10259783520851541\n",
            "  (0, 10)\t0.10259783520851541\n",
            "  (0, 5)\t0.10259783520851541\n",
            "  :\t:\n",
            "  (0, 7)\t0.10259783520851541\n",
            "  (0, 54)\t0.10259783520851541\n",
            "  (0, 63)\t0.10259783520851541\n",
            "  (0, 82)\t0.10259783520851541\n",
            "  (0, 93)\t0.10259783520851541\n",
            "  (0, 81)\t0.10259783520851541\n",
            "  (0, 86)\t0.10259783520851541\n",
            "  (0, 76)\t0.10259783520851541\n",
            "  (0, 47)\t0.10259783520851541\n",
            "  (0, 45)\t0.10259783520851541\n",
            "  (0, 77)\t0.10259783520851541\n",
            "  (0, 57)\t0.10259783520851541\n",
            "  (0, 70)\t0.10259783520851541\n",
            "  (0, 44)\t0.10259783520851541\n",
            "  (0, 22)\t0.10259783520851541\n",
            "  (0, 64)\t0.10259783520851541\n",
            "  (0, 87)\t0.10259783520851541\n",
            "  (0, 92)\t0.10259783520851541\n",
            "  (0, 79)\t0.10259783520851541\n",
            "  (0, 94)\t0.10259783520851541\n",
            "  (0, 88)\t0.10259783520851541\n",
            "  (0, 13)\t0.10259783520851541\n",
            "  (0, 69)\t0.10259783520851541\n",
            "  (0, 85)\t0.10259783520851541\n",
            "  (0, 15)\t0.10259783520851541\n"
          ]
        }
      ]
    },
    {
      "cell_type": "code",
      "source": [],
      "metadata": {
        "id": "2ac5Hm_39EAm"
      },
      "execution_count": null,
      "outputs": []
    }
  ]
}