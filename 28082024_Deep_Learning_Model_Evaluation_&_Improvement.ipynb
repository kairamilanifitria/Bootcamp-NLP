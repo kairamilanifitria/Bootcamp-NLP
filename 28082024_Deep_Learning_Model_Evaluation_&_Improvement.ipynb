{
  "cells": [
    {
      "cell_type": "markdown",
      "metadata": {
        "id": "view-in-github",
        "colab_type": "text"
      },
      "source": [
        "<a href=\"https://colab.research.google.com/github/kairamilanifitria/Bootcamp-NLP/blob/main/28082024_Deep_Learning_Model_Evaluation_%26_Improvement.ipynb\" target=\"_parent\"><img src=\"https://colab.research.google.com/assets/colab-badge.svg\" alt=\"Open In Colab\"/></a>"
      ]
    },
    {
      "cell_type": "code",
      "execution_count": null,
      "metadata": {
        "colab": {
          "base_uri": "https://localhost:8080/"
        },
        "id": "tC-NS65go8rI",
        "outputId": "fe30edfc-993f-4943-e9a6-b7a5256e813d"
      },
      "outputs": [
        {
          "output_type": "stream",
          "name": "stdout",
          "text": [
            "Looking in indexes: https://pypi.org/simple, https://us-python.pkg.dev/colab-wheels/public/simple/\n",
            "Collecting bayesian-optimization\n",
            "  Downloading bayesian_optimization-1.4.3-py3-none-any.whl (18 kB)\n",
            "Requirement already satisfied: numpy>=1.9.0 in /usr/local/lib/python3.10/dist-packages (from bayesian-optimization) (1.22.4)\n",
            "Requirement already satisfied: scipy>=1.0.0 in /usr/local/lib/python3.10/dist-packages (from bayesian-optimization) (1.10.1)\n",
            "Requirement already satisfied: scikit-learn>=0.18.0 in /usr/local/lib/python3.10/dist-packages (from bayesian-optimization) (1.2.2)\n",
            "Collecting colorama>=0.4.6 (from bayesian-optimization)\n",
            "  Downloading colorama-0.4.6-py2.py3-none-any.whl (25 kB)\n",
            "Requirement already satisfied: joblib>=1.1.1 in /usr/local/lib/python3.10/dist-packages (from scikit-learn>=0.18.0->bayesian-optimization) (1.2.0)\n",
            "Requirement already satisfied: threadpoolctl>=2.0.0 in /usr/local/lib/python3.10/dist-packages (from scikit-learn>=0.18.0->bayesian-optimization) (3.1.0)\n",
            "Installing collected packages: colorama, bayesian-optimization\n",
            "Successfully installed bayesian-optimization-1.4.3 colorama-0.4.6\n"
          ]
        }
      ],
      "source": [
        "!pip install bayesian-optimization"
      ]
    },
    {
      "cell_type": "code",
      "execution_count": null,
      "metadata": {
        "id": "SVst4Hbro8rM"
      },
      "outputs": [],
      "source": [
        "import tensorflow as tf\n",
        "import numpy as np\n",
        "import pandas as pd\n",
        "from sklearn.model_selection import train_test_split\n",
        "from sklearn.datasets import load_breast_cancer\n",
        "from sklearn.preprocessing import StandardScaler\n",
        "from bayes_opt import BayesianOptimization"
      ]
    },
    {
      "cell_type": "code",
      "execution_count": null,
      "metadata": {
        "id": "boB2Ktloo8rM"
      },
      "outputs": [],
      "source": [
        "# Load and preprocess the data\n",
        "cancer = load_breast_cancer()\n",
        "X = cancer.data\n",
        "y = cancer.target\n",
        "X_train, X_test, y_train, y_test = train_test_split(X, y, test_size=0.2, random_state=42)\n",
        "scaler = StandardScaler()\n",
        "X_train = scaler.fit_transform(X_train)\n",
        "X_test = scaler.transform(X_test)"
      ]
    },
    {
      "cell_type": "code",
      "execution_count": null,
      "metadata": {
        "id": "OapgvN9Fo8rN"
      },
      "outputs": [],
      "source": [
        "# Define the neural network architecture\n",
        "def create_model(learning_rate, num_hidden_layers, num_neurons):\n",
        "    model = tf.keras.Sequential()\n",
        "    for i in range(num_hidden_layers):\n",
        "        model.add(tf.keras.layers.Dense(num_neurons, activation='relu'))\n",
        "    model.add(tf.keras.layers.Dense(2, activation='softmax'))\n",
        "    optimizer = tf.keras.optimizers.Adam(learning_rate=learning_rate)\n",
        "    model.compile(loss='sparse_categorical_crossentropy', optimizer=optimizer, metrics=['accuracy'])\n",
        "    return model"
      ]
    },
    {
      "cell_type": "code",
      "execution_count": null,
      "metadata": {
        "id": "97GLpP6yo8rN"
      },
      "outputs": [],
      "source": [
        "# Define the objective function to optimize\n",
        "def objective(learning_rate, num_hidden_layers, num_neurons):\n",
        "    model = create_model(learning_rate, int(num_hidden_layers), int(num_neurons))\n",
        "    model.fit(X_train, y_train, epochs=10, validation_data=(X_test, y_test), verbose=0)\n",
        "    val_loss, val_acc = model.evaluate(X_test, y_test, verbose=0)\n",
        "    return val_acc"
      ]
    },
    {
      "cell_type": "code",
      "execution_count": null,
      "metadata": {
        "id": "FxfTamiVo8rO"
      },
      "outputs": [],
      "source": [
        "# Define the search space for hyperparameters\n",
        "pbounds = {'learning_rate': (0.0001, 0.1),\n",
        "           'num_hidden_layers': (1, 5),\n",
        "           'num_neurons': (5, 50)}"
      ]
    },
    {
      "cell_type": "code",
      "execution_count": null,
      "metadata": {
        "colab": {
          "base_uri": "https://localhost:8080/"
        },
        "id": "Ij5oOITHo8rO",
        "outputId": "b2cafc73-fb15-4e53-d996-88edc6b9b2e2"
      },
      "outputs": [
        {
          "output_type": "stream",
          "name": "stdout",
          "text": [
            "|   iter    |  target   | learni... | num_hi... | num_ne... |\n",
            "-------------------------------------------------------------\n",
            "| \u001b[0m1        \u001b[0m | \u001b[0m0.9649   \u001b[0m | \u001b[0m0.03881  \u001b[0m | \u001b[0m4.927    \u001b[0m | \u001b[0m48.78    \u001b[0m |\n",
            "| \u001b[0m2        \u001b[0m | \u001b[0m0.9649   \u001b[0m | \u001b[0m0.02806  \u001b[0m | \u001b[0m1.698    \u001b[0m | \u001b[0m29.59    \u001b[0m |\n",
            "| \u001b[0m3        \u001b[0m | \u001b[0m0.9561   \u001b[0m | \u001b[0m0.07309  \u001b[0m | \u001b[0m3.696    \u001b[0m | \u001b[0m49.21    \u001b[0m |\n",
            "| \u001b[95m4        \u001b[0m | \u001b[95m0.9737   \u001b[0m | \u001b[95m0.0891   \u001b[0m | \u001b[95m4.311    \u001b[0m | \u001b[95m15.79    \u001b[0m |\n",
            "| \u001b[95m5        \u001b[0m | \u001b[95m0.9825   \u001b[0m | \u001b[95m0.01807  \u001b[0m | \u001b[95m1.601    \u001b[0m | \u001b[95m37.91    \u001b[0m |\n",
            "| \u001b[0m6        \u001b[0m | \u001b[0m0.9737   \u001b[0m | \u001b[0m0.00625  \u001b[0m | \u001b[0m1.245    \u001b[0m | \u001b[0m39.17    \u001b[0m |\n",
            "| \u001b[0m7        \u001b[0m | \u001b[0m0.9825   \u001b[0m | \u001b[0m0.0006947\u001b[0m | \u001b[0m2.771    \u001b[0m | \u001b[0m37.32    \u001b[0m |\n",
            "| \u001b[0m8        \u001b[0m | \u001b[0m0.9649   \u001b[0m | \u001b[0m0.0598   \u001b[0m | \u001b[0m1.094    \u001b[0m | \u001b[0m35.88    \u001b[0m |\n",
            "| \u001b[0m9        \u001b[0m | \u001b[0m0.9649   \u001b[0m | \u001b[0m0.1      \u001b[0m | \u001b[0m3.033    \u001b[0m | \u001b[0m38.57    \u001b[0m |\n",
            "| \u001b[0m10       \u001b[0m | \u001b[0m0.7895   \u001b[0m | \u001b[0m0.0001   \u001b[0m | \u001b[0m2.01     \u001b[0m | \u001b[0m37.2     \u001b[0m |\n",
            "| \u001b[0m11       \u001b[0m | \u001b[0m0.9649   \u001b[0m | \u001b[0m0.05827  \u001b[0m | \u001b[0m2.264    \u001b[0m | \u001b[0m42.86    \u001b[0m |\n",
            "| \u001b[0m12       \u001b[0m | \u001b[0m0.9825   \u001b[0m | \u001b[0m0.09976  \u001b[0m | \u001b[0m2.124    \u001b[0m | \u001b[0m36.52    \u001b[0m |\n",
            "| \u001b[0m13       \u001b[0m | \u001b[0m0.9561   \u001b[0m | \u001b[0m0.09731  \u001b[0m | \u001b[0m4.982    \u001b[0m | \u001b[0m18.94    \u001b[0m |\n",
            "| \u001b[0m14       \u001b[0m | \u001b[0m0.9825   \u001b[0m | \u001b[0m0.0568   \u001b[0m | \u001b[0m1.793    \u001b[0m | \u001b[0m36.89    \u001b[0m |\n",
            "| \u001b[0m15       \u001b[0m | \u001b[0m0.9825   \u001b[0m | \u001b[0m0.04824  \u001b[0m | \u001b[0m3.066    \u001b[0m | \u001b[0m14.87    \u001b[0m |\n",
            "| \u001b[0m16       \u001b[0m | \u001b[0m0.9649   \u001b[0m | \u001b[0m0.06127  \u001b[0m | \u001b[0m1.753    \u001b[0m | \u001b[0m15.22    \u001b[0m |\n",
            "| \u001b[0m17       \u001b[0m | \u001b[0m0.9649   \u001b[0m | \u001b[0m0.09292  \u001b[0m | \u001b[0m2.782    \u001b[0m | \u001b[0m13.85    \u001b[0m |\n",
            "| \u001b[0m18       \u001b[0m | \u001b[0m0.9561   \u001b[0m | \u001b[0m0.07195  \u001b[0m | \u001b[0m2.344    \u001b[0m | \u001b[0m23.21    \u001b[0m |\n",
            "| \u001b[0m19       \u001b[0m | \u001b[0m0.9649   \u001b[0m | \u001b[0m0.09774  \u001b[0m | \u001b[0m3.115    \u001b[0m | \u001b[0m16.5     \u001b[0m |\n",
            "| \u001b[95m20       \u001b[0m | \u001b[95m0.9912   \u001b[0m | \u001b[95m0.08214  \u001b[0m | \u001b[95m4.99     \u001b[0m | \u001b[95m20.7     \u001b[0m |\n",
            "| \u001b[0m21       \u001b[0m | \u001b[0m0.9825   \u001b[0m | \u001b[0m0.009068 \u001b[0m | \u001b[0m1.141    \u001b[0m | \u001b[0m39.21    \u001b[0m |\n",
            "| \u001b[0m22       \u001b[0m | \u001b[0m0.9912   \u001b[0m | \u001b[0m0.02981  \u001b[0m | \u001b[0m3.963    \u001b[0m | \u001b[0m5.472    \u001b[0m |\n",
            "| \u001b[0m23       \u001b[0m | \u001b[0m0.9825   \u001b[0m | \u001b[0m0.02978  \u001b[0m | \u001b[0m3.933    \u001b[0m | \u001b[0m5.258    \u001b[0m |\n",
            "| \u001b[0m24       \u001b[0m | \u001b[0m0.9737   \u001b[0m | \u001b[0m0.04018  \u001b[0m | \u001b[0m3.931    \u001b[0m | \u001b[0m5.489    \u001b[0m |\n",
            "| \u001b[0m25       \u001b[0m | \u001b[0m0.9561   \u001b[0m | \u001b[0m0.07988  \u001b[0m | \u001b[0m4.109    \u001b[0m | \u001b[0m5.444    \u001b[0m |\n",
            "=============================================================\n"
          ]
        }
      ],
      "source": [
        "# Perform Bayesian optimization\n",
        "optimizer = BayesianOptimization(f=objective, pbounds=pbounds, verbose=2)\n",
        "optimizer.maximize(init_points=5, n_iter=20)"
      ]
    },
    {
      "cell_type": "code",
      "execution_count": null,
      "metadata": {
        "colab": {
          "base_uri": "https://localhost:8080/"
        },
        "id": "2IRIWLx0o8rP",
        "outputId": "491cfc09-0eb4-4a8f-a56b-34eeb2ff5ec9"
      },
      "outputs": [
        {
          "output_type": "stream",
          "name": "stdout",
          "text": [
            "Optimized hyperparameters:\n",
            "{'learning_rate': 0.0821362245416636, 'num_hidden_layers': 4.990434414597773, 'num_neurons': 20.70197904551883}\n",
            "Validation accuracy: 99.12%\n"
          ]
        }
      ],
      "source": [
        "# Print the optimized hyperparameters and validation accuracy\n",
        "print('Optimized hyperparameters:')\n",
        "print(optimizer.max['params'])\n",
        "print('Validation accuracy: {:.2f}%'.format(optimizer.max['target'] * 100))"
      ]
    },
    {
      "cell_type": "code",
      "execution_count": null,
      "metadata": {
        "id": "kAlmTPu-o8rP"
      },
      "outputs": [],
      "source": []
    }
  ],
  "metadata": {
    "kernelspec": {
      "display_name": "yolox",
      "language": "python",
      "name": "python3"
    },
    "language_info": {
      "codemirror_mode": {
        "name": "ipython",
        "version": 3
      },
      "file_extension": ".py",
      "mimetype": "text/x-python",
      "name": "python",
      "nbconvert_exporter": "python",
      "pygments_lexer": "ipython3",
      "version": "3.8.12"
    },
    "orig_nbformat": 4,
    "vscode": {
      "interpreter": {
        "hash": "f0051305819c00f3c67001f9fdd376c54aa8e69e0ddd05df36d593c70cd82294"
      }
    },
    "colab": {
      "provenance": [],
      "include_colab_link": true
    }
  },
  "nbformat": 4,
  "nbformat_minor": 0
}