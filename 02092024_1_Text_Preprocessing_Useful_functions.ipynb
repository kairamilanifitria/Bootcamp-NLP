{
  "nbformat": 4,
  "nbformat_minor": 0,
  "metadata": {
    "colab": {
      "provenance": [],
      "include_colab_link": true
    },
    "kernelspec": {
      "name": "python3",
      "display_name": "Python 3"
    },
    "language_info": {
      "name": "python"
    }
  },
  "cells": [
    {
      "cell_type": "markdown",
      "metadata": {
        "id": "view-in-github",
        "colab_type": "text"
      },
      "source": [
        "<a href=\"https://colab.research.google.com/github/kairamilanifitria/Bootcamp-NLP/blob/main/02092024_1_Text_Preprocessing_Useful_functions.ipynb\" target=\"_parent\"><img src=\"https://colab.research.google.com/assets/colab-badge.svg\" alt=\"Open In Colab\"/></a>"
      ]
    },
    {
      "cell_type": "markdown",
      "source": [
        "# Text Extraction"
      ],
      "metadata": {
        "id": "HSR3VZmXwDqX"
      }
    },
    {
      "cell_type": "markdown",
      "source": [
        "## HTML"
      ],
      "metadata": {
        "id": "391OyCA4N8Uw"
      }
    },
    {
      "cell_type": "code",
      "source": [
        "html_text = \"<html><body><h1>Hello, World!\\nHello you!</h1></body></html>\""
      ],
      "metadata": {
        "id": "jP6f1TXRO6vi"
      },
      "execution_count": 1,
      "outputs": []
    },
    {
      "cell_type": "code",
      "source": [
        "from bs4 import BeautifulSoup\n",
        "def extract_from_html_using_parser(html_text):\n",
        "    # Menggunakan library BeautifulSoup untuk mengekstraksi teks dari HTML\n",
        "    soup = BeautifulSoup(html_text, 'html.parser')\n",
        "    extracted_text = soup.get_text()\n",
        "    return extracted_text"
      ],
      "metadata": {
        "id": "TIQhfAcjNqMg"
      },
      "execution_count": 2,
      "outputs": []
    },
    {
      "cell_type": "code",
      "source": [
        "html_parser_result = extract_from_html_using_parser(html_text)\n",
        "display(html_parser_result)"
      ],
      "metadata": {
        "colab": {
          "base_uri": "https://localhost:8080/",
          "height": 36
        },
        "id": "RreVcRWDO8C5",
        "outputId": "fc5aad01-8264-4378-c209-9972e4fd61ad"
      },
      "execution_count": 3,
      "outputs": [
        {
          "output_type": "display_data",
          "data": {
            "text/plain": [
              "'Hello, World!\\nHello you!'"
            ],
            "application/vnd.google.colaboratory.intrinsic+json": {
              "type": "string"
            }
          },
          "metadata": {}
        }
      ]
    },
    {
      "cell_type": "code",
      "source": [
        "import re\n",
        "\n",
        "def get_words_only(text):\n",
        "    # Menggunakan regular expression untuk menghapus karakter non-kata seperti tanda baca dan angka\n",
        "    cleaned_text = re.sub(r'[^\\w\\s]', '', text)\n",
        "\n",
        "    # Menggunakan split() untuk memisahkan kata-kata berdasarkan spasi\n",
        "    words = cleaned_text.split()\n",
        "    return words\n"
      ],
      "metadata": {
        "id": "vsU2R1AqOHtw"
      },
      "execution_count": 4,
      "outputs": []
    },
    {
      "cell_type": "code",
      "source": [
        "only_extract_text = get_words_only(html_text)\n",
        "display(only_extract_text)"
      ],
      "metadata": {
        "colab": {
          "base_uri": "https://localhost:8080/",
          "height": 34
        },
        "id": "3lwn4JnrPBim",
        "outputId": "5e9c800b-2e5d-48e6-f811-d83c5c648cc9"
      },
      "execution_count": 5,
      "outputs": [
        {
          "output_type": "display_data",
          "data": {
            "text/plain": [
              "['htmlbodyh1Hello', 'World', 'Hello', 'youh1bodyhtml']"
            ]
          },
          "metadata": {}
        }
      ]
    },
    {
      "cell_type": "code",
      "source": [
        "def clean_html(raw_html):\n",
        "  CLEANR = re.compile('<.*?>')\n",
        "\n",
        "  cleantext = re.sub(CLEANR, '', raw_html)\n",
        "  return cleantext"
      ],
      "metadata": {
        "id": "ZmxxTSalOiC9"
      },
      "execution_count": 6,
      "outputs": []
    },
    {
      "cell_type": "code",
      "source": [
        "cleaned_html_tags = clean_html(html_text)\n",
        "display(cleaned_html_tags)"
      ],
      "metadata": {
        "colab": {
          "base_uri": "https://localhost:8080/",
          "height": 36
        },
        "id": "W7pvU_MlN6LG",
        "outputId": "e3a6c271-038f-44fb-c1f5-c6466d51b706"
      },
      "execution_count": 7,
      "outputs": [
        {
          "output_type": "display_data",
          "data": {
            "text/plain": [
              "'Hello, World!\\nHello you!'"
            ],
            "application/vnd.google.colaboratory.intrinsic+json": {
              "type": "string"
            }
          },
          "metadata": {}
        }
      ]
    },
    {
      "cell_type": "markdown",
      "source": [
        "## Tweet"
      ],
      "metadata": {
        "id": "21X8YRpAPss-"
      }
    },
    {
      "cell_type": "code",
      "source": [
        "tweet = \"Ini adalah contoh tweet dengan #hashtag dan 😃 emoji!\""
      ],
      "metadata": {
        "id": "E8R8NLnxQ7hq"
      },
      "execution_count": 8,
      "outputs": []
    },
    {
      "cell_type": "code",
      "source": [
        "import re\n",
        "\n",
        "def clean_tweet(tweet):\n",
        "    # Remove hashtags\n",
        "    tweet = re.sub(r\"#\\w+\", \"\", tweet)\n",
        "\n",
        "    # Remove non-alphanumeric characters\n",
        "    tweet = re.sub(r\"[^\\w\\s]+\", \"\", tweet)\n",
        "\n",
        "    # Remove extra spaces\n",
        "    tweet = re.sub(r\"\\s+\", \" \", tweet)\n",
        "\n",
        "    return tweet.strip()"
      ],
      "metadata": {
        "id": "e_JNfucNP86z"
      },
      "execution_count": 9,
      "outputs": []
    },
    {
      "cell_type": "code",
      "source": [
        "# Clean the tweet text\n",
        "cleaned_tweet = clean_tweet(tweet)\n",
        "\n",
        "display(tweet)\n",
        "display(cleaned_tweet)"
      ],
      "metadata": {
        "colab": {
          "base_uri": "https://localhost:8080/",
          "height": 54
        },
        "id": "T7NSGqf5QAjB",
        "outputId": "e1f6b1cd-9ed1-4b4e-8eb6-4db7339ae1c0"
      },
      "execution_count": 10,
      "outputs": [
        {
          "output_type": "display_data",
          "data": {
            "text/plain": [
              "'Ini adalah contoh tweet dengan #hashtag dan 😃 emoji!'"
            ],
            "application/vnd.google.colaboratory.intrinsic+json": {
              "type": "string"
            }
          },
          "metadata": {}
        },
        {
          "output_type": "display_data",
          "data": {
            "text/plain": [
              "'Ini adalah contoh tweet dengan dan emoji'"
            ],
            "application/vnd.google.colaboratory.intrinsic+json": {
              "type": "string"
            }
          },
          "metadata": {}
        }
      ]
    },
    {
      "cell_type": "code",
      "source": [
        "pip install unidecode"
      ],
      "metadata": {
        "colab": {
          "base_uri": "https://localhost:8080/"
        },
        "id": "F3ZrqSsiIDmz",
        "outputId": "2e028cbb-4240-4030-879f-fc0a791f7095"
      },
      "execution_count": 11,
      "outputs": [
        {
          "output_type": "stream",
          "name": "stdout",
          "text": [
            "Collecting unidecode\n",
            "  Downloading Unidecode-1.3.8-py3-none-any.whl.metadata (13 kB)\n",
            "Downloading Unidecode-1.3.8-py3-none-any.whl (235 kB)\n",
            "\u001b[2K   \u001b[90m━━━━━━━━━━━━━━━━━━━━━━━━━━━━━━━━━━━━━━━━\u001b[0m \u001b[32m235.5/235.5 kB\u001b[0m \u001b[31m3.6 MB/s\u001b[0m eta \u001b[36m0:00:00\u001b[0m\n",
            "\u001b[?25hInstalling collected packages: unidecode\n",
            "Successfully installed unidecode-1.3.8\n"
          ]
        }
      ]
    },
    {
      "cell_type": "code",
      "source": [
        "# !pip install unidecode\n",
        "from unidecode import unidecode\n",
        "\n",
        "def clean_tweet_with_unidecode(tweet):\n",
        "    # Remove hashtags\n",
        "    tweet = re.sub(r\"#\\w+\", \"\", tweet)\n",
        "\n",
        "    # convert to ASCII representation\n",
        "    tweet = unidecode(tweet)\n",
        "\n",
        "    # Remove extra spaces\n",
        "    tweet = re.sub(r\"\\s+\", \" \", tweet)\n",
        "\n",
        "    return tweet\n"
      ],
      "metadata": {
        "id": "jrcbdQGtRBGV"
      },
      "execution_count": 12,
      "outputs": []
    },
    {
      "cell_type": "code",
      "source": [
        "clean_tweet = clean_tweet_with_unidecode(tweet)\n",
        "\n",
        "display(tweet)\n",
        "display(clean_tweet)"
      ],
      "metadata": {
        "colab": {
          "base_uri": "https://localhost:8080/",
          "height": 54
        },
        "id": "qB7pLAqAR4Zu",
        "outputId": "eeed5c03-5898-47d7-e66c-27505e2d48ae"
      },
      "execution_count": 13,
      "outputs": [
        {
          "output_type": "display_data",
          "data": {
            "text/plain": [
              "'Ini adalah contoh tweet dengan #hashtag dan 😃 emoji!'"
            ],
            "application/vnd.google.colaboratory.intrinsic+json": {
              "type": "string"
            }
          },
          "metadata": {}
        },
        {
          "output_type": "display_data",
          "data": {
            "text/plain": [
              "'Ini adalah contoh tweet dengan dan emoji!'"
            ],
            "application/vnd.google.colaboratory.intrinsic+json": {
              "type": "string"
            }
          },
          "metadata": {}
        }
      ]
    },
    {
      "cell_type": "markdown",
      "source": [
        "**Notes:** Ada banyak jalan menuju roma~"
      ],
      "metadata": {
        "id": "FeZ-VBv6QYMm"
      }
    },
    {
      "cell_type": "markdown",
      "source": [
        "# Text Cleaning"
      ],
      "metadata": {
        "id": "gTohM3YnwGLB"
      }
    },
    {
      "cell_type": "markdown",
      "source": [
        "## Remove stopwords"
      ],
      "metadata": {
        "id": "7HgznH2gSK7e"
      }
    },
    {
      "cell_type": "code",
      "source": [
        "english_text = \"I am reading a book in the park.\"\n",
        "indonesian_text = \"Saya sedang membaca buku di taman.\""
      ],
      "metadata": {
        "id": "MkZvsKq0SOCf"
      },
      "execution_count": 14,
      "outputs": []
    },
    {
      "cell_type": "code",
      "source": [
        "import nltk\n",
        "from nltk.corpus import stopwords\n",
        "from nltk.tokenize import word_tokenize\n",
        "# nltk.download('stopwords')\n",
        "# nltk.download('punkt')\n",
        "\n",
        "def remove_stopwords_english(text):\n",
        "    # Kode untuk menghapus stopwords\n",
        "    stop_words = set(stopwords.words('english'))\n",
        "    tokens = word_tokenize(text)\n",
        "    filtered_tokens = [token for token in tokens if token.lower() not in stop_words]\n",
        "    cleaned_text = ' '.join(filtered_tokens)\n",
        "    return cleaned_text"
      ],
      "metadata": {
        "id": "JKmp3etgSM1g"
      },
      "execution_count": 15,
      "outputs": []
    },
    {
      "cell_type": "code",
      "source": [
        "import nltk\n",
        "nltk.download('stopwords')\n",
        "nltk.download('punkt')"
      ],
      "metadata": {
        "colab": {
          "base_uri": "https://localhost:8080/"
        },
        "id": "idbGa4VWIsWv",
        "outputId": "6f0813ca-6eb8-4ff1-935a-ac238690ffd0"
      },
      "execution_count": 17,
      "outputs": [
        {
          "output_type": "stream",
          "name": "stderr",
          "text": [
            "[nltk_data] Downloading package stopwords to /root/nltk_data...\n",
            "[nltk_data]   Unzipping corpora/stopwords.zip.\n",
            "[nltk_data] Downloading package punkt to /root/nltk_data...\n",
            "[nltk_data]   Unzipping tokenizers/punkt.zip.\n"
          ]
        },
        {
          "output_type": "execute_result",
          "data": {
            "text/plain": [
              "True"
            ]
          },
          "metadata": {},
          "execution_count": 17
        }
      ]
    },
    {
      "cell_type": "code",
      "source": [
        "eng_stopwords_removal = remove_stopwords_english(english_text)\n",
        "\n",
        "display(english_text)\n",
        "display(eng_stopwords_removal)"
      ],
      "metadata": {
        "colab": {
          "base_uri": "https://localhost:8080/",
          "height": 54
        },
        "id": "vmclSIn2S1eA",
        "outputId": "92bdb209-ea81-4451-f5ba-bc46a3821b57"
      },
      "execution_count": 18,
      "outputs": [
        {
          "output_type": "display_data",
          "data": {
            "text/plain": [
              "'I am reading a book in the park.'"
            ],
            "application/vnd.google.colaboratory.intrinsic+json": {
              "type": "string"
            }
          },
          "metadata": {}
        },
        {
          "output_type": "display_data",
          "data": {
            "text/plain": [
              "'reading book park .'"
            ],
            "application/vnd.google.colaboratory.intrinsic+json": {
              "type": "string"
            }
          },
          "metadata": {}
        }
      ]
    },
    {
      "cell_type": "code",
      "source": [
        "import nltk\n",
        "from nltk.corpus import stopwords\n",
        "from nltk.tokenize import word_tokenize\n",
        "# nltk.download('stopwords')\n",
        "# nltk.download('punkt')\n",
        "\n",
        "def remove_stopwords_indonesian(text):\n",
        "    # Kode untuk menghapus stopwords\n",
        "    stop_words = set(stopwords.words('indonesian'))\n",
        "    tokens = word_tokenize(text)\n",
        "    filtered_tokens = [token for token in tokens if token.lower() not in stop_words]\n",
        "    cleaned_text = ' '.join(filtered_tokens)\n",
        "    return cleaned_text"
      ],
      "metadata": {
        "id": "77fuzxOhTdK4"
      },
      "execution_count": 19,
      "outputs": []
    },
    {
      "cell_type": "code",
      "source": [
        "id_stopwords_removal = remove_stopwords_indonesian(indonesian_text)\n",
        "\n",
        "display(indonesian_text)\n",
        "display(id_stopwords_removal)"
      ],
      "metadata": {
        "colab": {
          "base_uri": "https://localhost:8080/",
          "height": 54
        },
        "id": "SanY-G03Tg4i",
        "outputId": "1b1a4b84-8596-4920-d573-8048964e100e"
      },
      "execution_count": 20,
      "outputs": [
        {
          "output_type": "display_data",
          "data": {
            "text/plain": [
              "'Saya sedang membaca buku di taman.'"
            ],
            "application/vnd.google.colaboratory.intrinsic+json": {
              "type": "string"
            }
          },
          "metadata": {}
        },
        {
          "output_type": "display_data",
          "data": {
            "text/plain": [
              "'membaca buku taman .'"
            ],
            "application/vnd.google.colaboratory.intrinsic+json": {
              "type": "string"
            }
          },
          "metadata": {}
        }
      ]
    },
    {
      "cell_type": "markdown",
      "source": [
        "## Remove punctuation"
      ],
      "metadata": {
        "id": "qsntfWnKTvHQ"
      }
    },
    {
      "cell_type": "code",
      "source": [
        "def remove_punctuation(text):\n",
        "    # Kode untuk menghapus tanda baca dengan regex\n",
        "    cleaned_text = re.sub(r'[^\\w\\s]', '', text)\n",
        "    return cleaned_text"
      ],
      "metadata": {
        "id": "NYDDG7cKTxiT"
      },
      "execution_count": 21,
      "outputs": []
    },
    {
      "cell_type": "code",
      "source": [
        "punctuation_removal = remove_punctuation(indonesian_text)\n",
        "\n",
        "display(indonesian_text)\n",
        "display(punctuation_removal)"
      ],
      "metadata": {
        "colab": {
          "base_uri": "https://localhost:8080/",
          "height": 54
        },
        "id": "gJuqnOe_Ty4w",
        "outputId": "f08b60d5-5e5a-4f86-c8ba-6e634f364cf8"
      },
      "execution_count": 22,
      "outputs": [
        {
          "output_type": "display_data",
          "data": {
            "text/plain": [
              "'Saya sedang membaca buku di taman.'"
            ],
            "application/vnd.google.colaboratory.intrinsic+json": {
              "type": "string"
            }
          },
          "metadata": {}
        },
        {
          "output_type": "display_data",
          "data": {
            "text/plain": [
              "'Saya sedang membaca buku di taman'"
            ],
            "application/vnd.google.colaboratory.intrinsic+json": {
              "type": "string"
            }
          },
          "metadata": {}
        }
      ]
    },
    {
      "cell_type": "markdown",
      "source": [
        "## Remove special character"
      ],
      "metadata": {
        "id": "11ozEbHRT-Uv"
      }
    },
    {
      "cell_type": "code",
      "source": [
        "text = \"NLP seru banget! tapi susah juga ya~\""
      ],
      "metadata": {
        "id": "OEmiTKtwUHvc"
      },
      "execution_count": 23,
      "outputs": []
    },
    {
      "cell_type": "code",
      "source": [
        "def remove_special_character(text):\n",
        "    # Kode untuk menghapus karakter khusus\n",
        "    cleaned_text = re.sub(r'[^a-zA-Z0-9\\s]', '', text)\n",
        "    return cleaned_text"
      ],
      "metadata": {
        "id": "YYvgQqcvT9zr"
      },
      "execution_count": 24,
      "outputs": []
    },
    {
      "cell_type": "code",
      "source": [
        "special_character_removal = remove_special_character(text)\n",
        "\n",
        "display(text)\n",
        "display(special_character_removal)"
      ],
      "metadata": {
        "colab": {
          "base_uri": "https://localhost:8080/",
          "height": 54
        },
        "id": "eTcwsuG_UCqm",
        "outputId": "9d19836d-8fc3-448b-fa75-358757aab7bc"
      },
      "execution_count": 25,
      "outputs": [
        {
          "output_type": "display_data",
          "data": {
            "text/plain": [
              "'NLP seru banget! tapi susah juga ya~'"
            ],
            "application/vnd.google.colaboratory.intrinsic+json": {
              "type": "string"
            }
          },
          "metadata": {}
        },
        {
          "output_type": "display_data",
          "data": {
            "text/plain": [
              "'NLP seru banget tapi susah juga ya'"
            ],
            "application/vnd.google.colaboratory.intrinsic+json": {
              "type": "string"
            }
          },
          "metadata": {}
        }
      ]
    },
    {
      "cell_type": "markdown",
      "source": [
        "## Remove emoji & emoticon"
      ],
      "metadata": {
        "id": "_I3kWB9BUdUK"
      }
    },
    {
      "cell_type": "code",
      "source": [
        "tweet = \"😃Ini adalah contoh tweet dengan 😃 😃 😃 emoji!😃👌\""
      ],
      "metadata": {
        "id": "waUqfbw9Uk39"
      },
      "execution_count": 26,
      "outputs": []
    },
    {
      "cell_type": "code",
      "source": [
        "def remove_emoji_emoticon(text):\n",
        "    # Kode untuk menghapus emoji dan emoticon\n",
        "    emoji_pattern = re.compile(\"[\"\n",
        "                               u\"\\U0001F600-\\U0001F64F\"  # Emoticons\n",
        "                               u\"\\U0001F300-\\U0001F5FF\"  # Symbols & Pictographs\n",
        "                               u\"\\U0001F680-\\U0001F6FF\"  # Transport & Map Symbols\n",
        "                               u\"\\U0001F1E0-\\U0001F1FF\"  # Flags (iOS)\n",
        "                               \"]+\", flags=re.UNICODE)\n",
        "    cleaned_text = emoji_pattern.sub(r'', text)\n",
        "    return cleaned_text"
      ],
      "metadata": {
        "id": "jKOZVhSoUf4-"
      },
      "execution_count": 27,
      "outputs": []
    },
    {
      "cell_type": "code",
      "source": [
        "emoji_emoticon_removal = remove_special_character(tweet)\n",
        "\n",
        "display(tweet)\n",
        "display(emoji_emoticon_removal)"
      ],
      "metadata": {
        "colab": {
          "base_uri": "https://localhost:8080/",
          "height": 54
        },
        "id": "_xfNGlnSUi0q",
        "outputId": "10379b5d-5150-4772-e1ed-9ef5a7a9d7d6"
      },
      "execution_count": 28,
      "outputs": [
        {
          "output_type": "display_data",
          "data": {
            "text/plain": [
              "'😃Ini adalah contoh tweet dengan 😃 😃 😃 emoji!😃👌'"
            ],
            "application/vnd.google.colaboratory.intrinsic+json": {
              "type": "string"
            }
          },
          "metadata": {}
        },
        {
          "output_type": "display_data",
          "data": {
            "text/plain": [
              "'Ini adalah contoh tweet dengan    emoji'"
            ],
            "application/vnd.google.colaboratory.intrinsic+json": {
              "type": "string"
            }
          },
          "metadata": {}
        }
      ]
    },
    {
      "cell_type": "markdown",
      "source": [
        "## Convert emoji & emoticon"
      ],
      "metadata": {
        "id": "I_HUjOB3Uy4K"
      }
    },
    {
      "cell_type": "code",
      "source": [
        "def convert_emoji_emoticon(text, emoji_dict):\n",
        "    # Kode untuk mengonversi emoji dan emoticon berdasarkan dictionary\n",
        "    for emoticon, replacement in emoji_dict.items():\n",
        "        text = text.replace(emoticon, replacement)\n",
        "    return text"
      ],
      "metadata": {
        "id": "h-_ELJxoU1Vy"
      },
      "execution_count": 29,
      "outputs": []
    },
    {
      "cell_type": "code",
      "source": [
        "emoji_dict = {\n",
        "    \"😀\": \"grinning_face\",\n",
        "    \"😃\": \"smiling_face_with_open_mouth\",\n",
        "    \"🥱\": \"yawning_face\",\n",
        "    \"👌\": \"ok_hand\",\n",
        "    \"👍\": \"thumbs_up\",\n",
        "    \"👎\": \"thumbs_down\",\n",
        "    \"🙏\": \"folded_hands\"\n",
        "}\n",
        "\n",
        "emoji_emoticon_convertion = convert_emoji_emoticon(tweet, emoji_dict)\n",
        "\n",
        "display(tweet)\n",
        "display(emoji_emoticon_convertion)"
      ],
      "metadata": {
        "colab": {
          "base_uri": "https://localhost:8080/",
          "height": 89
        },
        "id": "0KMUlM_oVC5F",
        "outputId": "7affcac7-b1ad-40a4-e85e-0cea47e04807"
      },
      "execution_count": 30,
      "outputs": [
        {
          "output_type": "display_data",
          "data": {
            "text/plain": [
              "'😃Ini adalah contoh tweet dengan 😃 😃 😃 emoji!😃👌'"
            ],
            "application/vnd.google.colaboratory.intrinsic+json": {
              "type": "string"
            }
          },
          "metadata": {}
        },
        {
          "output_type": "display_data",
          "data": {
            "text/plain": [
              "'smiling_face_with_open_mouthIni adalah contoh tweet dengan smiling_face_with_open_mouth smiling_face_with_open_mouth smiling_face_with_open_mouth emoji!smiling_face_with_open_mouthok_hand'"
            ],
            "application/vnd.google.colaboratory.intrinsic+json": {
              "type": "string"
            }
          },
          "metadata": {}
        }
      ]
    },
    {
      "cell_type": "markdown",
      "source": [
        "## Case folding"
      ],
      "metadata": {
        "id": "3HadhNQCVTAY"
      }
    },
    {
      "cell_type": "code",
      "source": [
        "text = \"Ini adalah sebuah text untuk contoh CASE FOLDING.\""
      ],
      "metadata": {
        "id": "DgyBf2XXVUux"
      },
      "execution_count": 31,
      "outputs": []
    },
    {
      "cell_type": "code",
      "source": [
        "display(text)\n",
        "display(text.lower()) # lower\n",
        "display(text.upper()) # to upper\n",
        "display(text.title()) # to title"
      ],
      "metadata": {
        "colab": {
          "base_uri": "https://localhost:8080/",
          "height": 91
        },
        "id": "SjrfuC_dVa6f",
        "outputId": "81232ea8-9ba4-4e0b-9a30-102de7515714"
      },
      "execution_count": 32,
      "outputs": [
        {
          "output_type": "display_data",
          "data": {
            "text/plain": [
              "'Ini adalah sebuah text untuk contoh CASE FOLDING.'"
            ],
            "application/vnd.google.colaboratory.intrinsic+json": {
              "type": "string"
            }
          },
          "metadata": {}
        },
        {
          "output_type": "display_data",
          "data": {
            "text/plain": [
              "'ini adalah sebuah text untuk contoh case folding.'"
            ],
            "application/vnd.google.colaboratory.intrinsic+json": {
              "type": "string"
            }
          },
          "metadata": {}
        },
        {
          "output_type": "display_data",
          "data": {
            "text/plain": [
              "'INI ADALAH SEBUAH TEXT UNTUK CONTOH CASE FOLDING.'"
            ],
            "application/vnd.google.colaboratory.intrinsic+json": {
              "type": "string"
            }
          },
          "metadata": {}
        },
        {
          "output_type": "display_data",
          "data": {
            "text/plain": [
              "'Ini Adalah Sebuah Text Untuk Contoh Case Folding.'"
            ],
            "application/vnd.google.colaboratory.intrinsic+json": {
              "type": "string"
            }
          },
          "metadata": {}
        }
      ]
    },
    {
      "cell_type": "markdown",
      "source": [
        "# Text Normalization"
      ],
      "metadata": {
        "id": "A5X1T4d6wHfQ"
      }
    },
    {
      "cell_type": "markdown",
      "source": [
        "## Stemming"
      ],
      "metadata": {
        "id": "9C477Bf4Vua_"
      }
    },
    {
      "cell_type": "code",
      "source": [
        "from nltk.stem import PorterStemmer\n",
        "\n",
        "def stemming_english(text):\n",
        "    # Create an instance of the PorterStemmer\n",
        "    stemmer = PorterStemmer()\n",
        "\n",
        "    # Tokenize the text into individual words\n",
        "    words = text.split()\n",
        "\n",
        "    # Apply stemming to each word\n",
        "    stemmed_words = [stemmer.stem(word) for word in words]\n",
        "\n",
        "    # Join the stemmed words back into a single string\n",
        "    stemmed_text = ' '.join(stemmed_words)\n",
        "\n",
        "    return stemmed_text"
      ],
      "metadata": {
        "id": "n3ParJuDVt0g"
      },
      "execution_count": 33,
      "outputs": []
    },
    {
      "cell_type": "code",
      "source": [
        "stemming_eng = stemming_english(english_text)\n",
        "\n",
        "display(english_text)\n",
        "display(stemming_eng)"
      ],
      "metadata": {
        "colab": {
          "base_uri": "https://localhost:8080/",
          "height": 54
        },
        "id": "TMtQ9KTYWbm0",
        "outputId": "9c179dbe-7202-4d88-a82e-268b4ac7b8bf"
      },
      "execution_count": 34,
      "outputs": [
        {
          "output_type": "display_data",
          "data": {
            "text/plain": [
              "'I am reading a book in the park.'"
            ],
            "application/vnd.google.colaboratory.intrinsic+json": {
              "type": "string"
            }
          },
          "metadata": {}
        },
        {
          "output_type": "display_data",
          "data": {
            "text/plain": [
              "'i am read a book in the park.'"
            ],
            "application/vnd.google.colaboratory.intrinsic+json": {
              "type": "string"
            }
          },
          "metadata": {}
        }
      ]
    },
    {
      "cell_type": "code",
      "source": [
        "pip install Sastrawi"
      ],
      "metadata": {
        "colab": {
          "base_uri": "https://localhost:8080/"
        },
        "id": "xXjDUATTLXau",
        "outputId": "b0b653b0-7867-4e2a-a63d-07149daa8a1d"
      },
      "execution_count": 35,
      "outputs": [
        {
          "output_type": "stream",
          "name": "stdout",
          "text": [
            "Collecting Sastrawi\n",
            "  Downloading Sastrawi-1.0.1-py2.py3-none-any.whl.metadata (909 bytes)\n",
            "Downloading Sastrawi-1.0.1-py2.py3-none-any.whl (209 kB)\n",
            "\u001b[2K   \u001b[90m━━━━━━━━━━━━━━━━━━━━━━━━━━━━━━━━━━━━━━━━\u001b[0m \u001b[32m209.7/209.7 kB\u001b[0m \u001b[31m3.6 MB/s\u001b[0m eta \u001b[36m0:00:00\u001b[0m\n",
            "\u001b[?25hInstalling collected packages: Sastrawi\n",
            "Successfully installed Sastrawi-1.0.1\n"
          ]
        }
      ]
    },
    {
      "cell_type": "code",
      "source": [
        "from Sastrawi.Stemmer.StemmerFactory import StemmerFactory\n",
        "#!pip install Sastrawi\n",
        "def stemming_indonesian_sastrawi(text):\n",
        "    # Create an instance of the stemmer\n",
        "    stemmer = StemmerFactory().create_stemmer()\n",
        "\n",
        "    # Perform stemming\n",
        "    stemmed_text = stemmer.stem(text)\n",
        "\n",
        "    return stemmed_text"
      ],
      "metadata": {
        "id": "6TA3UUcJV62x"
      },
      "execution_count": 36,
      "outputs": []
    },
    {
      "cell_type": "code",
      "source": [
        "stemmed_text = stemming_indonesian_sastrawi(indonesian_text)\n",
        "\n",
        "display(indonesian_text)\n",
        "display(stemmed_text)"
      ],
      "metadata": {
        "colab": {
          "base_uri": "https://localhost:8080/",
          "height": 54
        },
        "id": "uGc64U7bV_RF",
        "outputId": "a5a34bd8-b109-4723-da30-ac879fbfc57d"
      },
      "execution_count": 37,
      "outputs": [
        {
          "output_type": "display_data",
          "data": {
            "text/plain": [
              "'Saya sedang membaca buku di taman.'"
            ],
            "application/vnd.google.colaboratory.intrinsic+json": {
              "type": "string"
            }
          },
          "metadata": {}
        },
        {
          "output_type": "display_data",
          "data": {
            "text/plain": [
              "'saya sedang baca buku di taman'"
            ],
            "application/vnd.google.colaboratory.intrinsic+json": {
              "type": "string"
            }
          },
          "metadata": {}
        }
      ]
    },
    {
      "cell_type": "markdown",
      "source": [
        "## Lemmatization"
      ],
      "metadata": {
        "id": "lX0NQNMzXH8-"
      }
    },
    {
      "cell_type": "code",
      "source": [
        "text = \"I am running in the park and playing with runners.\""
      ],
      "metadata": {
        "id": "-uxA1adVXaHL"
      },
      "execution_count": 38,
      "outputs": []
    },
    {
      "cell_type": "code",
      "source": [
        "from nltk.stem import WordNetLemmatizer\n",
        "# nltk.download('wordnet')\n",
        "def lemmatization_english(text):\n",
        "    # Kode untuk melakukan lemmatization bahasa Inggris\n",
        "    lemmatizer = WordNetLemmatizer()\n",
        "    lemmatized_text = ' '.join([lemmatizer.lemmatize(word) for word in word_tokenize(text)])\n",
        "    return lemmatized_text"
      ],
      "metadata": {
        "id": "FXjGBAzLXJpu"
      },
      "execution_count": 39,
      "outputs": []
    },
    {
      "cell_type": "code",
      "source": [
        "nltk.download('wordnet')"
      ],
      "metadata": {
        "colab": {
          "base_uri": "https://localhost:8080/"
        },
        "id": "1V8um8swLv95",
        "outputId": "0101bd3a-21b7-4632-a2be-5a2972cb291c"
      },
      "execution_count": 41,
      "outputs": [
        {
          "output_type": "stream",
          "name": "stderr",
          "text": [
            "[nltk_data] Downloading package wordnet to /root/nltk_data...\n"
          ]
        },
        {
          "output_type": "execute_result",
          "data": {
            "text/plain": [
              "True"
            ]
          },
          "metadata": {},
          "execution_count": 41
        }
      ]
    },
    {
      "cell_type": "code",
      "source": [
        "lemmatized_eng = lemmatization_english(text)\n",
        "\n",
        "display(text)\n",
        "display(lemmatized_eng)"
      ],
      "metadata": {
        "colab": {
          "base_uri": "https://localhost:8080/",
          "height": 54
        },
        "id": "TMt3OMm0XO6V",
        "outputId": "37e68b76-5ac8-4fbc-e73f-821bf709d250"
      },
      "execution_count": 42,
      "outputs": [
        {
          "output_type": "display_data",
          "data": {
            "text/plain": [
              "'I am running in the park and playing with runners.'"
            ],
            "application/vnd.google.colaboratory.intrinsic+json": {
              "type": "string"
            }
          },
          "metadata": {}
        },
        {
          "output_type": "display_data",
          "data": {
            "text/plain": [
              "'I am running in the park and playing with runner .'"
            ],
            "application/vnd.google.colaboratory.intrinsic+json": {
              "type": "string"
            }
          },
          "metadata": {}
        }
      ]
    },
    {
      "cell_type": "markdown",
      "source": [
        "contoh ide : bikin lemmatization untuk bahasa indonesia, karena blm ada module yg pas."
      ],
      "metadata": {
        "id": "xiM13ficL-Kq"
      }
    },
    {
      "cell_type": "markdown",
      "source": [
        "# Text Tokenization"
      ],
      "metadata": {
        "id": "rI2pFUYewJAv"
      }
    },
    {
      "cell_type": "markdown",
      "source": [
        "## Word Tokenization"
      ],
      "metadata": {
        "id": "Zu6vkYDbXwyw"
      }
    },
    {
      "cell_type": "code",
      "source": [
        "from nltk.tokenize import word_tokenize\n",
        "def word_tokenization(text):\n",
        "    # Kode untuk melakukan word tokenization\n",
        "    tokens = word_tokenize(text)\n",
        "    return tokens"
      ],
      "metadata": {
        "id": "WohzLkejX8d1"
      },
      "execution_count": 43,
      "outputs": []
    },
    {
      "cell_type": "code",
      "source": [
        "word_tokenized = word_tokenization(text)\n",
        "\n",
        "display(text)\n",
        "display(word_tokenized)"
      ],
      "metadata": {
        "colab": {
          "base_uri": "https://localhost:8080/",
          "height": 226
        },
        "id": "QLNlAdw7X_RB",
        "outputId": "dbab26e0-60cd-4af5-cb3c-669b38f12460"
      },
      "execution_count": 44,
      "outputs": [
        {
          "output_type": "display_data",
          "data": {
            "text/plain": [
              "'I am running in the park and playing with runners.'"
            ],
            "application/vnd.google.colaboratory.intrinsic+json": {
              "type": "string"
            }
          },
          "metadata": {}
        },
        {
          "output_type": "display_data",
          "data": {
            "text/plain": [
              "['I',\n",
              " 'am',\n",
              " 'running',\n",
              " 'in',\n",
              " 'the',\n",
              " 'park',\n",
              " 'and',\n",
              " 'playing',\n",
              " 'with',\n",
              " 'runners',\n",
              " '.']"
            ]
          },
          "metadata": {}
        }
      ]
    },
    {
      "cell_type": "code",
      "source": [
        "text.split(\" \")"
      ],
      "metadata": {
        "colab": {
          "base_uri": "https://localhost:8080/"
        },
        "id": "imB9BJO_MXMn",
        "outputId": "47b9fc9f-e757-469d-c3dd-653abdbe5791"
      },
      "execution_count": 45,
      "outputs": [
        {
          "output_type": "execute_result",
          "data": {
            "text/plain": [
              "['I',\n",
              " 'am',\n",
              " 'running',\n",
              " 'in',\n",
              " 'the',\n",
              " 'park',\n",
              " 'and',\n",
              " 'playing',\n",
              " 'with',\n",
              " 'runners.']"
            ]
          },
          "metadata": {},
          "execution_count": 45
        }
      ]
    },
    {
      "cell_type": "markdown",
      "source": [
        "## Sentence Tokenization"
      ],
      "metadata": {
        "id": "71Sw2OljXyib"
      }
    },
    {
      "cell_type": "code",
      "source": [
        "text = \"Cats are cute and playful. They like to run and jump.\""
      ],
      "metadata": {
        "id": "OjW7CD0PYJyY"
      },
      "execution_count": 46,
      "outputs": []
    },
    {
      "cell_type": "code",
      "source": [
        "from nltk.tokenize import sent_tokenize\n",
        "def sentence_tokenization(text):\n",
        "    # Kode untuk melakukan sentence tokenization\n",
        "    sentences = sent_tokenize(text)\n",
        "    return sentences"
      ],
      "metadata": {
        "id": "9Qqyu19tYNg5"
      },
      "execution_count": 47,
      "outputs": []
    },
    {
      "cell_type": "code",
      "source": [
        "sent_tokenized = sentence_tokenization(text)\n",
        "\n",
        "display(text)\n",
        "display(sent_tokenized)"
      ],
      "metadata": {
        "colab": {
          "base_uri": "https://localhost:8080/",
          "height": 53
        },
        "id": "-UPZ4htBYQYD",
        "outputId": "2edb47d0-5f84-4df7-96d5-248b078c3e54"
      },
      "execution_count": 48,
      "outputs": [
        {
          "output_type": "display_data",
          "data": {
            "text/plain": [
              "'Cats are cute and playful. They like to run and jump.'"
            ],
            "application/vnd.google.colaboratory.intrinsic+json": {
              "type": "string"
            }
          },
          "metadata": {}
        },
        {
          "output_type": "display_data",
          "data": {
            "text/plain": [
              "['Cats are cute and playful.', 'They like to run and jump.']"
            ]
          },
          "metadata": {}
        }
      ]
    },
    {
      "cell_type": "markdown",
      "source": [
        "## Regex Tokenization"
      ],
      "metadata": {
        "id": "UdBnaCRlX1Nw"
      }
    },
    {
      "cell_type": "code",
      "source": [
        "text = \"The price of the item is $20.50. It's a great deal! Buy now for $15 only. Limited time offer!\""
      ],
      "metadata": {
        "id": "-uTN0gzmYstE"
      },
      "execution_count": 49,
      "outputs": []
    },
    {
      "cell_type": "code",
      "source": [
        "from nltk.tokenize import RegexpTokenizer\n",
        "def regex_tokenization(text):\n",
        "    tokenizer = RegexpTokenizer(r'\\$\\d+\\.?\\d*')\n",
        "    dollar_amounts = tokenizer.tokenize(text)\n",
        "    return dollar_amounts"
      ],
      "metadata": {
        "id": "K8dLFbSmYmqK"
      },
      "execution_count": 50,
      "outputs": []
    },
    {
      "cell_type": "code",
      "source": [
        "regex_tokenized = regex_tokenization(text)\n",
        "\n",
        "display(text)\n",
        "print(regex_tokenized)"
      ],
      "metadata": {
        "colab": {
          "base_uri": "https://localhost:8080/",
          "height": 70
        },
        "id": "6G8tAF-DYkj8",
        "outputId": "13a4d78c-35ee-4e98-e2a9-5daacfe8ee25"
      },
      "execution_count": 51,
      "outputs": [
        {
          "output_type": "display_data",
          "data": {
            "text/plain": [
              "\"The price of the item is $20.50. It's a great deal! Buy now for $15 only. Limited time offer!\""
            ],
            "application/vnd.google.colaboratory.intrinsic+json": {
              "type": "string"
            }
          },
          "metadata": {}
        },
        {
          "output_type": "stream",
          "name": "stdout",
          "text": [
            "['$20.50', '$15']\n"
          ]
        }
      ]
    },
    {
      "cell_type": "markdown",
      "source": [
        "## Tweet Tokenization"
      ],
      "metadata": {
        "id": "4aHy6LxBX3Sf"
      }
    },
    {
      "cell_type": "code",
      "source": [
        "tweet = \"Ini adalah contoh tweet dengan #hashtag dan 😃 emoji!\""
      ],
      "metadata": {
        "id": "XPa-zabJd2eZ"
      },
      "execution_count": 52,
      "outputs": []
    },
    {
      "cell_type": "code",
      "source": [
        "def tweet_tokenization(text):\n",
        "    # Kode untuk melakukan tweet tokenization\n",
        "    tokens = nltk.tokenize.TweetTokenizer().tokenize(text)\n",
        "    return tokens"
      ],
      "metadata": {
        "id": "J-ViIhQddsLu"
      },
      "execution_count": 53,
      "outputs": []
    },
    {
      "cell_type": "code",
      "source": [
        "tweet_tokenized = tweet_tokenization(tweet)\n",
        "\n",
        "display(tweet)\n",
        "print(word_tokenize(tweet))\n",
        "print(tweet_tokenized)"
      ],
      "metadata": {
        "colab": {
          "base_uri": "https://localhost:8080/",
          "height": 90
        },
        "id": "XH5fMNCTdvA_",
        "outputId": "0d12be4e-b308-4c1b-8dd7-024eba9b3357"
      },
      "execution_count": 54,
      "outputs": [
        {
          "output_type": "display_data",
          "data": {
            "text/plain": [
              "'Ini adalah contoh tweet dengan #hashtag dan 😃 emoji!'"
            ],
            "application/vnd.google.colaboratory.intrinsic+json": {
              "type": "string"
            }
          },
          "metadata": {}
        },
        {
          "output_type": "stream",
          "name": "stdout",
          "text": [
            "['Ini', 'adalah', 'contoh', 'tweet', 'dengan', '#', 'hashtag', 'dan', '😃', 'emoji', '!']\n",
            "['Ini', 'adalah', 'contoh', 'tweet', 'dengan', '#hashtag', 'dan', '😃', 'emoji', '!']\n"
          ]
        }
      ]
    },
    {
      "cell_type": "markdown",
      "source": [
        "## N-grams Tokenization"
      ],
      "metadata": {
        "id": "hOH-JFB1X5KY"
      }
    },
    {
      "cell_type": "code",
      "source": [
        "text = \"Cats are cute and playful. They like to run and jump.\""
      ],
      "metadata": {
        "id": "67p8jGq9eMLP"
      },
      "execution_count": 55,
      "outputs": []
    },
    {
      "cell_type": "code",
      "source": [
        "def ngram_tokenization(text, n):\n",
        "    # Kode untuk melakukan n-gram tokenization\n",
        "    tokens = nltk.ngrams(text.split(), n)\n",
        "    return list(tokens)"
      ],
      "metadata": {
        "id": "AEbErC_ad_QR"
      },
      "execution_count": 56,
      "outputs": []
    },
    {
      "cell_type": "code",
      "source": [
        "ngram_tokenized = ngram_tokenization(text, 3)\n",
        "\n",
        "display(text)\n",
        "print(word_tokenize(text))\n",
        "print(ngram_tokenized)"
      ],
      "metadata": {
        "colab": {
          "base_uri": "https://localhost:8080/",
          "height": 90
        },
        "id": "QBxRj2o7eC-Y",
        "outputId": "cd6d051d-3e17-4d72-df69-f5c9148ce9c1"
      },
      "execution_count": 57,
      "outputs": [
        {
          "output_type": "display_data",
          "data": {
            "text/plain": [
              "'Cats are cute and playful. They like to run and jump.'"
            ],
            "application/vnd.google.colaboratory.intrinsic+json": {
              "type": "string"
            }
          },
          "metadata": {}
        },
        {
          "output_type": "stream",
          "name": "stdout",
          "text": [
            "['Cats', 'are', 'cute', 'and', 'playful', '.', 'They', 'like', 'to', 'run', 'and', 'jump', '.']\n",
            "[('Cats', 'are', 'cute'), ('are', 'cute', 'and'), ('cute', 'and', 'playful.'), ('and', 'playful.', 'They'), ('playful.', 'They', 'like'), ('They', 'like', 'to'), ('like', 'to', 'run'), ('to', 'run', 'and'), ('run', 'and', 'jump.')]\n"
          ]
        }
      ]
    },
    {
      "cell_type": "code",
      "execution_count": 58,
      "metadata": {
        "id": "rD14PFe3wBJU",
        "colab": {
          "base_uri": "https://localhost:8080/"
        },
        "outputId": "a250022a-6aee-48c1-a2ed-2cd0756f9401"
      },
      "outputs": [
        {
          "output_type": "execute_result",
          "data": {
            "text/plain": [
              "9"
            ]
          },
          "metadata": {},
          "execution_count": 58
        }
      ],
      "source": [
        "len(ngram_tokenized)"
      ]
    }
  ]
}